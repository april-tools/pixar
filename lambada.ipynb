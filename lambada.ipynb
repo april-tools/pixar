{
 "cells": [
  {
   "cell_type": "code",
   "execution_count": 1,
   "metadata": {},
   "outputs": [],
   "source": [
    "from datasets import load_dataset\n",
    "from LatentPixel import LatentLlama, TGraph, BIN_FONT\n",
    "from tqdm import tqdm"
   ]
  },
  {
   "cell_type": "code",
   "execution_count": 19,
   "metadata": {},
   "outputs": [],
   "source": [
    "import numpy as np\n",
    "from paddleocr import PaddleOCR, draw_ocr"
   ]
  },
  {
   "cell_type": "code",
   "execution_count": 2,
   "metadata": {},
   "outputs": [
    {
     "name": "stdout",
     "output_type": "stream",
     "text": [
      "Coder path is none, do not load compressor for this model\n"
     ]
    },
    {
     "name": "stderr",
     "output_type": "stream",
     "text": [
      "Some weights of LlamaForPatchCausalInference were not initialized from the model checkpoint at ../../shared/checkpoints/dllama_pretrain/lpixel_pretrain/LatentLlama/20231025-162146/last/backbone/ and are newly initialized: ['layers.7.self_attn.rotary_emb.inv_freq', 'layers.0.self_attn.rotary_emb.inv_freq', 'layers.1.self_attn.rotary_emb.inv_freq', 'layers.11.self_attn.rotary_emb.inv_freq', 'layers.10.self_attn.rotary_emb.inv_freq', 'layers.9.self_attn.rotary_emb.inv_freq', 'layers.4.self_attn.rotary_emb.inv_freq', 'layers.3.self_attn.rotary_emb.inv_freq', 'embed_tokens.weight', 'layers.8.self_attn.rotary_emb.inv_freq', 'layers.5.self_attn.rotary_emb.inv_freq', 'layers.6.self_attn.rotary_emb.inv_freq', 'layers.2.self_attn.rotary_emb.inv_freq']\n",
      "You should probably TRAIN this model on a down-stream task to be able to use it for predictions and inference.\n"
     ]
    }
   ],
   "source": [
    "data = load_dataset('lambada', split='test')\n",
    "TGraph.init_render(\n",
    "    dpi=80,\n",
    "    font_file=BIN_FONT,\n",
    "    font_size=8,\n",
    "    pixels_per_patch=8,\n",
    "    rgb=False,\n",
    "    binary=True,\n",
    "    max_seq_length=800,\n",
    "    patch_len=2\n",
    ")\n",
    "model = LatentLlama(\n",
    "    backbone_path='../../shared/checkpoints/dllama_pretrain/lpixel_pretrain/LatentLlama/20231025-162146/last/backbone/',\n",
    "    num_channels=1,\n",
    "    patch_len=2,\n",
    "    patch_size=8,\n",
    "    binary=True\n",
    ")"
   ]
  },
  {
   "cell_type": "code",
   "execution_count": 2,
   "metadata": {},
   "outputs": [
    {
     "name": "stderr",
     "output_type": "stream",
     "text": [
      "Found cached dataset lambada (/mnt/data/huggingface/lambada/plain_text/1.1.0/2e4879aaaa342d8f748b7275991006d2e27a8b0abc0a28ea299b3e3b839a3a40)\n"
     ]
    },
    {
     "name": "stdout",
     "output_type": "stream",
     "text": [
      "Coder path is none, do not load compressor for this model\n"
     ]
    },
    {
     "name": "stderr",
     "output_type": "stream",
     "text": [
      "Some weights of LlamaForPatchCausalInference were not initialized from the model checkpoint at storage/llama_2_backbone/ and are newly initialized: ['embed_tokens.weight']\n",
      "You should probably TRAIN this model on a down-stream task to be able to use it for predictions and inference.\n"
     ]
    }
   ],
   "source": [
    "data = load_dataset('lambada', split='test')\n",
    "TGraph.init_render(\n",
    "    dpi=80,\n",
    "    font_file=BIN_FONT,\n",
    "    font_size=8,\n",
    "    pixels_per_patch=8,\n",
    "    rgb=False,\n",
    "    binary=True,\n",
    "    max_seq_length=800,\n",
    "    patch_len=2\n",
    ")\n",
    "model = LatentLlama(\n",
    "    backbone_path='storage/llama_2_backbone/',\n",
    "    num_channels=1,\n",
    "    patch_len=2,\n",
    "    patch_size=8,\n",
    "    binary=True\n",
    ")"
   ]
  },
  {
   "cell_type": "code",
   "execution_count": 3,
   "metadata": {},
   "outputs": [],
   "source": [
    "def process_lambda(raw: str) -> str:\n",
    "    raw = raw.replace('`` ', '\"').replace(\" ''\", '\"').replace('``', '\"').replace(\"''\", '\"')\n",
    "    result = ''\n",
    "    for idx in range(len(raw) - 1):\n",
    "        c = raw[idx]\n",
    "        cn = raw[idx + 1]\n",
    "        if cn in ',.?><{}()\\'' and c == ' ':\n",
    "            continue\n",
    "        if (raw[idx+1:idx+4] == \"n't\" or raw[idx+1:idx+4] == \"'re\" or raw[idx+1:idx+3] == \"'d\" or raw[idx+1:idx+3] == \"'s\" or raw[idx+1:idx+3] == \"'m\") and raw[idx] == ' ':\n",
    "            continue\n",
    "        if raw[idx+1] == \"'\" and raw[idx+2] in 'abcdefghijklmnopqrstuvwxyz' and raw[idx] == ' ':\n",
    "            continue\n",
    "        result += raw[idx]\n",
    "    result += raw[-1]\n",
    "    return result"
   ]
  },
  {
   "cell_type": "code",
   "execution_count": 4,
   "metadata": {},
   "outputs": [
    {
     "name": "stderr",
     "output_type": "stream",
     "text": [
      "  0%|          | 0/200 [00:00<?, ?it/s]"
     ]
    },
    {
     "name": "stderr",
     "output_type": "stream",
     "text": [
      "100%|██████████| 200/200 [03:23<00:00,  1.02s/it]\n"
     ]
    }
   ],
   "source": [
    "model.eval()\n",
    "generated = []\n",
    "for txt in tqdm(data['text'][0:200]):\n",
    "    words = txt.split()\n",
    "    prompt = process_lambda(' '.join(words[:-1]))\n",
    "    prompt = TGraph.from_text([prompt])\n",
    "    prompt = prompt._spacing_text(3)\n",
    "    target = words[-1]\n",
    "    gen = model.autoregressive_generate(prompt, None, 4)\n",
    "    generated.append((prompt, target, gen))"
   ]
  },
  {
   "cell_type": "code",
   "execution_count": 18,
   "metadata": {},
   "outputs": [
    {
     "name": "stdout",
     "output_type": "stream",
     "text": [
      "[\"my focus wasn't as ironclad as i'd always believed. let's just say i'm going to need another guinness the instant i step foot on u.s. soil again. poor henry. the days where his infectious smile and shrug could fix just about any problem were over... and what was i doing thinking poor henry? if that wasn't the last time i put those two words together, i would wrap a rubber band around my wrist and snap it each time i even thought about pairing henry's name with the word\"]\n",
      "poor\n"
     ]
    },
    {
     "data": {
      "image/jpeg": "[encoded data removed]",
      "image/png": "[encoded data removed]",
      "text/plain": [
       "<PIL.Image.Image image mode=L size=256x200>"
      ]
     },
     "execution_count": 18,
     "metadata": {},
     "output_type": "execute_result"
    }
   ],
   "source": [
    "idx = 89\n",
    "print(generated[idx][0].text)\n",
    "print(generated[idx][1])\n",
    "generated[idx][2].to_PIL()[0]"
   ]
  },
  {
   "cell_type": "code",
   "execution_count": 452,
   "metadata": {},
   "outputs": [
    {
     "data": {
      "image/png": "[encoded data removed]",
      "text/plain": [
       "<PIL.Image.Image image mode=L size=256x200>"
      ]
     },
     "execution_count": 452,
     "metadata": {},
     "output_type": "execute_result"
    }
   ],
   "source": [
    "generated[idx][0].to_PIL()[0]"
   ]
  },
  {
   "cell_type": "code",
   "execution_count": 453,
   "metadata": {},
   "outputs": [],
   "source": [
    "capital = '1 3 5 7 8 17 19 21 23 24 26 29 30 31 33 36 38 40 41 43 48 55 57 58 59 60 61 62 65 70 72 74 76 79 80 81 82 87 88 90 93 95 96 97 99 101 104 106 110 112 115 116 117 118 120 121 122 124 126 131 132 134 138 139 141 143 145 147 148 149 150 151 154 155 157 159 160 162 164 165 166 167 172 174 176 180 181 183 186 187 189 191 192 195 197 198 199'\n",
    "wrong_word = '19 21 24 58 81 88 106 182 184'\n",
    "correct = '2 4 20 35 63 111 141 145 158'\n",
    "non_text = '0 1 3 5 6 7 8 9 10 11 12 13 14 15 16 17 18 22 23 25 26 27 28 29 30 31 32 33 34 36 37 38 39 40 41 42 43 44 45 46 47 48 49 50 51 52 53 54 55 56 57 59 60 61 62 64 65 66 67 68 69 70 72 71 73 74 75 76 77 78 79 80 82 83 84 85 86 87 89 90 91 92 93 94 95 96 97 98 99 100 101 102 103 104 105 107 108 109 110 112 113 114 115 116 117 118 119 120 121 122 123 124 125 126 127 128 129 130 131 132 133 134 135 136 137 138 139 140 142 143 144 146 147 148 149 150 151 152 153 154 155 156 157 159 160 161 162 163 164 165 166 167 168 169 170 171 172 173 174 175 176 177 178 179 180 181 183 185 186 187 188 189 190 191 192 193 194 195 196 197 198 199'"
   ]
  },
  {
   "cell_type": "code",
   "execution_count": 454,
   "metadata": {},
   "outputs": [],
   "source": [
    "capitals = set(capital.split(' '))\n",
    "wrong_words = set(wrong_word.split(' '))\n",
    "corrects = set(correct.split(' '))\n",
    "non_texts = set(non_text.split(' '))"
   ]
  },
  {
   "cell_type": "code",
   "execution_count": 461,
   "metadata": {},
   "outputs": [
    {
     "name": "stdout",
     "output_type": "stream",
     "text": [
      "Acc:  0.045\n",
      "Wrong:  0.045\n",
      "Acc_no_cap:  0.06796116504854369\n",
      "Wrong_no_cap:  0.019417475728155338\n",
      "Non_text:  0.91\n",
      "Non_text_no_cap:  0.912621359223301\n",
      "Num_no_cap:  103\n",
      "Num_total:  200\n"
     ]
    }
   ],
   "source": [
    "print('Acc: ', len(corrects) / 200)\n",
    "print('Wrong: ', len(wrong_words) / 200)\n",
    "print('Acc_no_cap: ', len(corrects - capitals) / (200 - len(capitals)))\n",
    "print('Wrong_no_cap: ', len(wrong_words - capitals) / (200 - len(capitals)))\n",
    "print('Non_text: ', len(non_texts) / 200)\n",
    "print('Non_text_no_cap: ', len(non_texts - capitals) / (200 - len(capitals)))\n",
    "print('Num_no_cap: ', (200 - len(capitals)))\n",
    "print('Num_total: ', 200)"
   ]
  },
  {
   "cell_type": "code",
   "execution_count": 445,
   "metadata": {},
   "outputs": [
    {
     "name": "stdout",
     "output_type": "stream",
     "text": [
      "[0, 1, 2, 3, 4, 5, 6, 7, 8, 9, 10, 11, 12, 13, 14, 15, 16, 17, 18, 19, 20, 21, 22, 23, 24, 25, 26, 27, 28, 29, 30, 31, 32, 33, 34, 35, 36, 37, 38, 39, 40, 41, 42, 43, 44, 45, 46, 47, 48, 49, 50, 51, 52, 53, 54, 55, 56, 57, 58, 59, 60, 61, 62, 63, 64, 65, 66, 67, 68, 69, 71, 73, 74, 75, 76, 77, 78, 79, 80, 81, 82, 83, 84, 85, 86, 87, 88, 89, 90, 91, 92, 93, 94, 95, 96, 97, 98, 99, 100, 101, 102, 103, 104, 105, 106, 107, 108, 109, 110, 111, 112, 113, 114, 115, 116, 117, 118, 119, 120, 121, 122, 123, 124, 125, 126, 127, 128, 129, 130, 131, 132, 133, 134, 135, 136, 137, 138, 139, 140, 141, 142, 143, 144, 145, 146, 147, 148, 149, 150, 151, 152, 153, 154, 155, 156, 157, 158, 159, 160, 161, 162, 163, 164, 165, 167, 168, 169, 170, 171, 172, 173, 174, 175, 176, 177, 178, 179, 180, 181, 182, 183, 184, 185, 186, 187, 188, 189, 190, 191, 192, 193, 194, 195, 196, 197, 198, 199]\n"
     ]
    }
   ],
   "source": [
    "total = (list(wrong_words) + list(corrects) + list(non_texts))\n",
    "total = list(map(lambda x: int(x), total))\n",
    "total.sort()\n",
    "print(total)"
   ]
  },
  {
   "cell_type": "code",
   "execution_count": 446,
   "metadata": {},
   "outputs": [
    {
     "data": {
      "text/plain": [
       "{70, 72, 166}"
      ]
     },
     "execution_count": 446,
     "metadata": {},
     "output_type": "execute_result"
    }
   ],
   "source": [
    "set(range(200)) - set(total)"
   ]
  },
  {
   "cell_type": "markdown",
   "metadata": {},
   "source": [
    "Add OCR"
   ]
  },
  {
   "cell_type": "code",
   "execution_count": 77,
   "metadata": {},
   "outputs": [
    {
     "data": {
      "image/jpeg": "[encoded data removed]",
      "image/png": "[encoded data removed]",
      "text/plain": [
       "<PIL.Image.Image image mode=L size=160x20>"
      ]
     },
     "metadata": {},
     "output_type": "display_data"
    },
    {
     "name": "stdout",
     "output_type": "stream",
     "text": [
      "[2023/11/13 10:29:30] ppocr DEBUG: Namespace(help='==SUPPRESS==', use_gpu=False, use_xpu=False, use_npu=False, ir_optim=True, use_tensorrt=False, min_subgraph_size=15, precision='fp32', gpu_mem=500, gpu_id=0, image_dir=None, page_num=0, det_algorithm='DB', det_model_dir='/home/sc118/sc118/xliao11/.paddleocr/whl/det/en/en_PP-OCRv3_det_infer', det_limit_side_len=960, det_limit_type='max', det_box_type='quad', det_db_thresh=0.3, det_db_box_thresh=0.6, det_db_unclip_ratio=1.5, max_batch_size=10, use_dilation=False, det_db_score_mode='fast', det_east_score_thresh=0.8, det_east_cover_thresh=0.1, det_east_nms_thresh=0.2, det_sast_score_thresh=0.5, det_sast_nms_thresh=0.2, det_pse_thresh=0, det_pse_box_thresh=0.85, det_pse_min_area=16, det_pse_scale=1, scales=[8, 16, 32], alpha=1.0, beta=1.0, fourier_degree=5, rec_algorithm='SVTR_LCNet', rec_model_dir='/home/sc118/sc118/xliao11/.paddleocr/whl/rec/en/en_PP-OCRv4_rec_infer', rec_image_inverse=True, rec_image_shape='3, 48, 320', rec_batch_num=6, max_text_length=25, rec_char_dict_path='/work/sc118/sc118/xliao11/miniconda3/envs/latent/lib/python3.10/site-packages/paddleocr/ppocr/utils/en_dict.txt', use_space_char=True, vis_font_path='./doc/fonts/simfang.ttf', drop_score=0.5, e2e_algorithm='PGNet', e2e_model_dir=None, e2e_limit_side_len=768, e2e_limit_type='max', e2e_pgnet_score_thresh=0.5, e2e_char_dict_path='./ppocr/utils/ic15_dict.txt', e2e_pgnet_valid_set='totaltext', e2e_pgnet_mode='fast', use_angle_cls=False, cls_model_dir='/home/sc118/sc118/xliao11/.paddleocr/whl/cls/ch_ppocr_mobile_v2.0_cls_infer', cls_image_shape='3, 48, 192', label_list=['0', '180'], cls_batch_num=6, cls_thresh=0.9, enable_mkldnn=False, cpu_threads=10, use_pdserving=False, warmup=False, sr_model_dir=None, sr_image_shape='3, 32, 128', sr_batch_num=1, draw_img_save_dir='./inference_results', save_crop_res=False, crop_res_save_dir='./output', use_mp=False, total_process_num=1, process_id=0, benchmark=False, save_log_path='./log_output/', show_log=True, use_onnx=False, output='./output', table_max_len=488, table_algorithm='TableAttn', table_model_dir=None, merge_no_span_structure=True, table_char_dict_path=None, layout_model_dir=None, layout_dict_path=None, layout_score_threshold=0.5, layout_nms_threshold=0.5, kie_algorithm='LayoutXLM', ser_model_dir=None, re_model_dir=None, use_visual_backbone=True, ser_dict_path='../train_data/XFUND/class_list_xfun.txt', ocr_order_method=None, mode='structure', image_orientation=False, layout=True, table=True, ocr=True, recovery=False, use_pdf2docx_api=False, invert=False, binarize=False, alphacolor=(255, 255, 255), lang='en', det=False, rec=True, type='ocr', ocr_version='PP-OCRv4', structure_version='PP-StructureV2', cls=False)\n",
      "[2023/11/13 10:29:30] ppocr WARNING: Since the angle classifier is not initialized, it will not be used during the forward process\n",
      "[2023/11/13 10:29:30] ppocr DEBUG: dt_boxes num : 1, elapsed : 0.022097349166870117\n",
      "[2023/11/13 10:29:30] ppocr DEBUG: rec_res num  : 1, elapsed : 0.12638044357299805\n",
      "Predictions: li. \n",
      "Target: lucien\n"
     ]
    }
   ],
   "source": [
    "idx = 199\n",
    "pro = generated[idx][0]\n",
    "t = generated[idx][1]\n",
    "g   = generated[idx][2]\n",
    "img = g[pro._num_text_patches[0]-1:g._num_text_patches[0]-1].to_PIL(square = False)[0]\n",
    "img = img.resize((20*4*2, 20))\n",
    "display(img)\n",
    "img = np.array(img)\n",
    "ocr = PaddleOCR( det=False, cls = False, lang=\"en\")\n",
    "result = ocr.ocr(img, cls=True,)\n",
    "text = result[0][0][1][0].lower()\n",
    "print(\"Predictions:\",text,\"\\nTarget:\", t)\n"
   ]
  }
 ],
 "metadata": {
  "kernelspec": {
   "display_name": "pt2hfpy310",
   "language": "python",
   "name": "python3"
  },
  "language_info": {
   "codemirror_mode": {
    "name": "ipython",
    "version": 3
   },
   "file_extension": ".py",
   "mimetype": "text/x-python",
   "name": "python",
   "nbconvert_exporter": "python",
   "pygments_lexer": "ipython3",
   "version": "3.10.12"
  }
 },
 "nbformat": 4,
 "nbformat_minor": 2
}
