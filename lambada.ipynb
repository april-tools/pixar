{
 "cells": [
  {
   "cell_type": "markdown",
   "metadata": {},
   "source": [
    "Complete submission\n",
    "1. ablation -> fix the table 3, simply use patch length 2, add define of the patch length\n",
    "2. visual attack, select some of the attacks on LAMBADA and bAbI (explan the table 2 with visual attack results)\n",
    "3. CBT-CN\n",
    "4. compare throughput with GPT2\n",
    "5. compare time/memory/#tokens comparing with GPT2 -> if we have good results.\n",
    "6. why we want to do this\n"
   ]
  },
  {
   "cell_type": "code",
   "execution_count": 1,
   "metadata": {},
   "outputs": [
    {
     "name": "stderr",
     "output_type": "stream",
     "text": [
      "/home/tai/data/miniconda3/envs/pixel/lib/python3.10/site-packages/transformers/deepspeed.py:23: FutureWarning: transformers.deepspeed module is deprecated and will be removed in a future version. Please import deepspeed modules directly from transformers.integrations\n",
      "  warnings.warn(\n"
     ]
    }
   ],
   "source": [
    "from datasets import load_dataset\n",
    "from LatentPixel import LatentLlama, TGraph, DEFAULT_BINARY_RENDERING\n",
    "from tqdm import tqdm\n",
    "import numpy as np\n",
    "\n",
    "import re\n",
    "import subprocess\n",
    "import pandas as pd\n",
    "from multiprocessing import Pool\n",
    "from functools import partial\n",
    "import torch\n",
    "import os\n",
    "\n",
    "torch.no_grad()\n",
    "\n",
    "import logging\n",
    "loggers = [logging.getLogger(name) for name in logging.root.manager.loggerDict]\n",
    "for logger in loggers:\n",
    "    logger.setLevel(logging.ERROR)\n",
    "    \n",
    "_ = TGraph.init_render(**DEFAULT_BINARY_RENDERING)"
   ]
  },
  {
   "cell_type": "code",
   "execution_count": 2,
   "metadata": {},
   "outputs": [
    {
     "name": "stdout",
     "output_type": "stream",
     "text": [
      "16\n"
     ]
    },
    {
     "data": {
      "image/jpeg": "[encoded data removed]",
      "image/png": "[encoded data removed]",
      "text/plain": [
       "<PIL.Image.Image image mode=RGB size=240x192>"
      ]
     },
     "execution_count": 2,
     "metadata": {},
     "output_type": "execute_result"
    }
   ],
   "source": [
    "img = TGraph.from_text(['Alice was everywhere, until she'])\n",
    "img.to_PIL(contour=0.3)[0]"
   ]
  },
  {
   "cell_type": "code",
   "execution_count": 3,
   "metadata": {},
   "outputs": [],
   "source": [
    "pixar113_stage1_path = '/home/tai/src/projects/msc_project/storage/checkpoints/1MModels/dllama_2_b/backbone'\n",
    "pixar113_stage2_path = '/home/tai/src/projects/msc_project/storage/checkpoints/1MGan/gan_ratio_10/200/backbone'"
   ]
  },
  {
   "cell_type": "code",
   "execution_count": 4,
   "metadata": {},
   "outputs": [
    {
     "name": "stdout",
     "output_type": "stream",
     "text": [
      "Coder path is none, do not load compressor for this model\n",
      "Coder path is none, do not load compressor for this model\n"
     ]
    }
   ],
   "source": [
    "model1 = LatentLlama(backbone_path=pixar113_stage1_path, num_channels=1, patch_len=2, patch_size=8)\n",
    "model2 = LatentLlama(backbone_path=pixar113_stage2_path, num_channels=1, patch_len=2, patch_size=8)\n",
    "model1.eval().cuda()\n",
    "_ = model2.eval().cuda()"
   ]
  },
  {
   "cell_type": "markdown",
   "metadata": {},
   "source": [
    "# LAMBADA Evaluation\n",
    "\n",
    "zero-shot performance on the test set"
   ]
  },
  {
   "cell_type": "code",
   "execution_count": 5,
   "metadata": {},
   "outputs": [],
   "source": [
    "import os\n",
    "def save_generated(imgs: list, dir: str) -> None:\n",
    "    for i, (p, t, g) in enumerate(imgs):\n",
    "        fname = f'{i}_{t}'\n",
    "        pname = os.path.join(dir, fname, 'prompt')\n",
    "        gname = os.path.join(dir, fname, 'gen')\n",
    "        p.to_file(pname)\n",
    "        g.to_file(gname)"
   ]
  },
  {
   "cell_type": "code",
   "execution_count": 6,
   "metadata": {},
   "outputs": [
    {
     "data": {
      "text/plain": [
       "<torch.autograd.grad_mode.no_grad at 0x7f8b4b420160>"
      ]
     },
     "execution_count": 6,
     "metadata": {},
     "output_type": "execute_result"
    }
   ],
   "source": [
    "from datasets import load_dataset\n",
    "from LatentPixel import LatentLlama, TGraph, DEFAULT_BINARY_RENDERING\n",
    "from tqdm import tqdm\n",
    "import numpy as np\n",
    "\n",
    "import re\n",
    "import subprocess\n",
    "import pandas as pd\n",
    "from multiprocessing import Pool\n",
    "from functools import partial\n",
    "import torch\n",
    "import os\n",
    "\n",
    "import logging\n",
    "loggers = [logging.getLogger(name) for name in logging.root.manager.loggerDict]\n",
    "for logger in loggers:\n",
    "    logger.setLevel(logging.ERROR)\n",
    "    \n",
    "torch.no_grad()"
   ]
  },
  {
   "cell_type": "code",
   "execution_count": 7,
   "metadata": {},
   "outputs": [],
   "source": [
    "pat = re.compile('([a-zA-Z]+)')\n",
    "def add_word(words: str | list[str], corpus: set[str]):\n",
    "    global pat\n",
    "    if isinstance(words, str):\n",
    "        words = re.findall(pat, words)\n",
    "\n",
    "    for word in words:\n",
    "        corpus.add(str(word).lower())\n",
    "    return\n",
    "\n",
    "def _evluate(gen: tuple[TGraph, str, TGraph], vocab: set[str]) -> tuple[bool, bool, bool]:\n",
    "    p, t, g = gen\n",
    "    readable, pad_correct, tes_correct = False, False, False\n",
    "    t = t.replace('g', 'q').lower()\n",
    "    img = g[p._num_text_patches[0]-1:g._num_text_patches[0]-1]\n",
    "    paddle_text = img.ocr(method='paddleocr', square=False, span=True, span_ratio=1.3, scale=3)\n",
    "    tess_text = img.ocr(method='tesseract', square=False, span=True, span_ratio=1.3, scale=3)\n",
    "    \n",
    "    m = pat.match(paddle_text[0])\n",
    "    if m is not None:\n",
    "        text = m.groups()[0]\n",
    "    else:\n",
    "        text = ''\n",
    "    if text.lower() in vocab:\n",
    "        readable = True\n",
    "    text.replace('g', 'q').lower()\n",
    "    if text == t:\n",
    "        pad_correct = True\n",
    "        \n",
    "    m = pat.match(tess_text[0])\n",
    "    if m is not None:\n",
    "        text = m.groups()[0]\n",
    "    else:\n",
    "        text = ''\n",
    "    if text.lower() in vocab:\n",
    "        readable = True\n",
    "    text.replace('g', 'q').lower()\n",
    "    if text == t:\n",
    "        tes_correct = True\n",
    "        \n",
    "    return pad_correct, tes_correct, readable    \n",
    "\n",
    "def evaluate(generated, vocab) -> tuple[float, float, float]:\n",
    "    num = len(generated)\n",
    "    cp, ct, c, cr = 0, 0, 0, 0\n",
    "    \n",
    "    with Pool(14) as p:\n",
    "        results = p.map(partial(_evluate, vocab=vocab), generated)\n",
    "        \n",
    "    for p, t, r in results:\n",
    "        if p:\n",
    "            cp += 1\n",
    "        if t:\n",
    "            ct += 1\n",
    "        if r:\n",
    "            cr += 1\n",
    "        if p or t:\n",
    "            c += 1\n",
    "            \n",
    "    return cp / num, ct / num, c / num, cr / num\n",
    "\n",
    "def evaluate_babi(generated: list, vocab: set) -> dict[str, float]:\n",
    "    pat = re.compile('^([a-zA-Z]*)')\n",
    "    correct_paddle = 0\n",
    "    correct_tess = 0\n",
    "    corrects = 0\n",
    "    n_readable = 0\n",
    "    for idx in tqdm(range(len(generated))):\n",
    "        cor = False\n",
    "        readable = False\n",
    "        pro = generated[idx][0]\n",
    "        t: str = generated[idx][1]\n",
    "        t = t.replace('g', 'q')\n",
    "        g = generated[idx][2]\n",
    "        img: TGraph = g[pro._num_text_patches[0]-1:g._num_text_patches[0]-1]\n",
    "        text = img.ocr(method='paddleocr', square=False, span=True, span_ratio=1.3, scale=3)\n",
    "        raw = text[0].lower().split()\n",
    "        if len(raw) == 0:\n",
    "            raw = ''\n",
    "        else:\n",
    "            raw = raw[0]  \n",
    "        m = pat.match(text[0])\n",
    "        if m is not None:\n",
    "            text = m.groups()[0]\n",
    "        else:\n",
    "            text = ''\n",
    "        if raw in vocab:\n",
    "            readable = True\n",
    "        text = text.replace('g', 'q')\n",
    "        if text == t:\n",
    "            correct_paddle += 1\n",
    "            cor = True\n",
    "        text = img.ocr(method='tesseract', square=False, span=True, span_ratio=1.3, scale=3)\n",
    "        raw = text[0].lower().split()\n",
    "        if len(raw) == 0:\n",
    "            raw = ''\n",
    "        else:\n",
    "            raw = raw[0]  \n",
    "        m = pat.match(text[0])\n",
    "        if m is not None:\n",
    "            text = m.groups()[0]\n",
    "        else:\n",
    "            text = ''\n",
    "        if raw in vocab:\n",
    "            readable = True\n",
    "        text = text.replace('g', 'q')\n",
    "        if text == t:\n",
    "            correct_tess += 1\n",
    "            cor = True\n",
    "        if cor:\n",
    "            corrects += 1\n",
    "        if readable:\n",
    "            n_readable += 1\n",
    "    return {\n",
    "        'paddleocr': correct_paddle / len(generated),\n",
    "        'tesseract': correct_tess / len(generated),\n",
    "        'union': corrects / len(generated),\n",
    "        'readability': n_readable / len(generated) \n",
    "    }\n",
    "    \n",
    "def process_lambda(raw: str) -> str:\n",
    "    raw = raw.replace('`` ', '\"').replace(\" ''\", '\"').replace('``', '\"').replace(\"''\", '\"')\n",
    "    result = ''\n",
    "    for idx in range(len(raw) - 1):\n",
    "        c = raw[idx]\n",
    "        cn = raw[idx + 1]\n",
    "        if cn in ',.?><{}()\\'' and c == ' ':\n",
    "            continue\n",
    "        if (raw[idx+1:idx+4] == \"n't\" or raw[idx+1:idx+4] == \"'re\" or raw[idx+1:idx+3] == \"'d\" or raw[idx+1:idx+3] == \"'s\" or raw[idx+1:idx+3] == \"'m\") and raw[idx] == ' ':\n",
    "            continue\n",
    "        if raw[idx+1] == \"'\" and raw[idx+2] in 'abcdefghijklmnopqrstuvwxyz' and raw[idx] == ' ':\n",
    "            continue\n",
    "        result += raw[idx]\n",
    "    result += raw[-1]\n",
    "    return result\n"
   ]
  },
  {
   "cell_type": "markdown",
   "metadata": {},
   "source": [
    "## Load Dataset and Build the Vocabulary"
   ]
  },
  {
   "cell_type": "code",
   "execution_count": 8,
   "metadata": {},
   "outputs": [
    {
     "data": {
      "application/vnd.jupyter.widget-view+json": {
       "model_id": "88c174f29d734a9ab8fbbc5d984bd7ad",
       "version_major": 2,
       "version_minor": 0
      },
      "text/plain": [
       "Downloading readme:   0%|          | 0.00/7.32k [00:00<?, ?B/s]"
      ]
     },
     "metadata": {},
     "output_type": "display_data"
    },
    {
     "data": {
      "application/vnd.jupyter.widget-view+json": {
       "model_id": "59b249702c6d41d0aa35346265a419cf",
       "version_major": 2,
       "version_minor": 0
      },
      "text/plain": [
       "Downloading data files:   0%|          | 0/3 [00:00<?, ?it/s]"
      ]
     },
     "metadata": {},
     "output_type": "display_data"
    },
    {
     "data": {
      "application/vnd.jupyter.widget-view+json": {
       "model_id": "54ddd46909144161813156afc943a020",
       "version_major": 2,
       "version_minor": 0
      },
      "text/plain": [
       "Downloading data:   0%|          | 0.00/269M [00:00<?, ?B/s]"
      ]
     },
     "metadata": {},
     "output_type": "display_data"
    },
    {
     "data": {
      "application/vnd.jupyter.widget-view+json": {
       "model_id": "23ad83c645214bd8a55eca23c1e89d9e",
       "version_major": 2,
       "version_minor": 0
      },
      "text/plain": [
       "Downloading data:   0%|          | 0.00/281M [00:00<?, ?B/s]"
      ]
     },
     "metadata": {},
     "output_type": "display_data"
    },
    {
     "data": {
      "application/vnd.jupyter.widget-view+json": {
       "model_id": "27417f5dcb5d43329a2869d2e29cbeb5",
       "version_major": 2,
       "version_minor": 0
      },
      "text/plain": [
       "Downloading data:   0%|          | 0.00/1.14M [00:00<?, ?B/s]"
      ]
     },
     "metadata": {},
     "output_type": "display_data"
    },
    {
     "data": {
      "application/vnd.jupyter.widget-view+json": {
       "model_id": "d27a8cd34e7440d6b3dce56274ce90e0",
       "version_major": 2,
       "version_minor": 0
      },
      "text/plain": [
       "Downloading data:   0%|          | 0.00/1.08M [00:00<?, ?B/s]"
      ]
     },
     "metadata": {},
     "output_type": "display_data"
    },
    {
     "data": {
      "application/vnd.jupyter.widget-view+json": {
       "model_id": "f7e3f46c31c3455a958f7ae1ad090c05",
       "version_major": 2,
       "version_minor": 0
      },
      "text/plain": [
       "Extracting data files:   0%|          | 0/3 [00:00<?, ?it/s]"
      ]
     },
     "metadata": {},
     "output_type": "display_data"
    },
    {
     "data": {
      "application/vnd.jupyter.widget-view+json": {
       "model_id": "48813a97f830458b8053c3c4c943643f",
       "version_major": 2,
       "version_minor": 0
      },
      "text/plain": [
       "Generating train split:   0%|          | 0/2662 [00:00<?, ? examples/s]"
      ]
     },
     "metadata": {},
     "output_type": "display_data"
    },
    {
     "data": {
      "application/vnd.jupyter.widget-view+json": {
       "model_id": "b99775b04d25463b935e08468baf989b",
       "version_major": 2,
       "version_minor": 0
      },
      "text/plain": [
       "Generating test split:   0%|          | 0/5153 [00:00<?, ? examples/s]"
      ]
     },
     "metadata": {},
     "output_type": "display_data"
    },
    {
     "data": {
      "application/vnd.jupyter.widget-view+json": {
       "model_id": "43063311b82549cdafd99cce86221811",
       "version_major": 2,
       "version_minor": 0
      },
      "text/plain": [
       "Generating validation split:   0%|          | 0/4869 [00:00<?, ? examples/s]"
      ]
     },
     "metadata": {},
     "output_type": "display_data"
    },
    {
     "name": "stdout",
     "output_type": "stream",
     "text": [
      "333332\n"
     ]
    }
   ],
   "source": [
    "data = load_dataset('lambada', split='test')\n",
    "TGraph.init_render(**DEFAULT_BINARY_RENDERING)\n",
    "corpo = pd.read_csv('storage/unigram_freq.csv')\n",
    "vocab = set()\n",
    "add_word(corpo.word.tolist(), vocab)\n",
    "for a, b in data:\n",
    "    add_word(a, vocab)\n",
    "    add_word(b, vocab)\n",
    "print(len(vocab))"
   ]
  },
  {
   "cell_type": "code",
   "execution_count": 9,
   "metadata": {},
   "outputs": [],
   "source": [
    "idx = 1106\n",
    "txt = data[idx]['text']\n",
    "words = txt.split()\n",
    "prompt = process_lambda(' '.join(words[:-1]))\n",
    "prompt = TGraph.from_text([prompt])\n",
    "prompt = prompt._spacing_text(3)\n",
    "prompt.set_device('cuda')\n",
    "target = words[-1]\n",
    "gen1 = model1.autoregressive_generate(prompt, None, 4, 'gray_scale', temperature=0.1)\n",
    "gen2 = model2.autoregressive_generate(prompt, None, 4, 'gray_scale', temperature=0.1)"
   ]
  },
  {
   "cell_type": "code",
   "execution_count": 10,
   "metadata": {},
   "outputs": [
    {
     "data": {
      "text/plain": [
       "'tabitha'"
      ]
     },
     "execution_count": 10,
     "metadata": {},
     "output_type": "execute_result"
    }
   ],
   "source": [
    "target"
   ]
  },
  {
   "cell_type": "code",
   "execution_count": 11,
   "metadata": {},
   "outputs": [
    {
     "data": {
      "image/jpeg": "[encoded data removed]",
      "image/png": "[encoded data removed]",
      "text/plain": [
       "<PIL.Image.Image image mode=L size=240x192>"
      ]
     },
     "execution_count": 11,
     "metadata": {},
     "output_type": "execute_result"
    }
   ],
   "source": [
    "gen2.to_PIL(binary_method='gray_scale')[0]"
   ]
  },
  {
   "cell_type": "code",
   "execution_count": 12,
   "metadata": {},
   "outputs": [
    {
     "data": {
      "image/jpeg": "[encoded data removed]",
      "image/png": "[encoded data removed]",
      "text/plain": [
       "<PIL.Image.Image image mode=L size=240x192>"
      ]
     },
     "execution_count": 12,
     "metadata": {},
     "output_type": "execute_result"
    }
   ],
   "source": [
    "gen1.to_PIL(binary_method='gray_scale')[0]"
   ]
  },
  {
   "cell_type": "code",
   "execution_count": 13,
   "metadata": {},
   "outputs": [],
   "source": [
    "idx = 2300\n",
    "txt = data[idx]['text']\n",
    "words = txt.split()\n",
    "prompt = process_lambda(' '.join(words[:-1]))\n",
    "prompt = TGraph.from_text([prompt])\n",
    "prompt = prompt._spacing_text(3)\n",
    "prompt.set_device('cuda')\n",
    "target = words[-1]\n",
    "gen1 = model1.autoregressive_generate(prompt, None, 4, 'gray_scale', temperature=0.1)\n",
    "gen2 = model2.autoregressive_generate(prompt, None, 4, 'gray_scale', temperature=0.1)"
   ]
  },
  {
   "cell_type": "code",
   "execution_count": 14,
   "metadata": {},
   "outputs": [
    {
     "data": {
      "text/plain": [
       "'bastian'"
      ]
     },
     "execution_count": 14,
     "metadata": {},
     "output_type": "execute_result"
    }
   ],
   "source": [
    "target"
   ]
  },
  {
   "cell_type": "code",
   "execution_count": 15,
   "metadata": {},
   "outputs": [],
   "source": [
    "prompt.to_file('readability/prompt')"
   ]
  },
  {
   "cell_type": "code",
   "execution_count": 151,
   "metadata": {},
   "outputs": [
    {
     "data": {
      "image/jpeg": "[encoded data removed]",
      "image/png": "[encoded data removed]",
      "text/plain": [
       "<PIL.Image.Image image mode=L size=240x192>"
      ]
     },
     "execution_count": 151,
     "metadata": {},
     "output_type": "execute_result"
    }
   ],
   "source": [
    "prompt.to_PIL()[0]"
   ]
  },
  {
   "cell_type": "code",
   "execution_count": 156,
   "metadata": {},
   "outputs": [],
   "source": [
    "gen1.to_file('readability/gen1', binary_method='gray_scale')"
   ]
  },
  {
   "cell_type": "code",
   "execution_count": 152,
   "metadata": {},
   "outputs": [
    {
     "data": {
      "image/jpeg": "[encoded data removed]",
      "image/png": "[encoded data removed]",
      "text/plain": [
       "<PIL.Image.Image image mode=L size=240x192>"
      ]
     },
     "execution_count": 152,
     "metadata": {},
     "output_type": "execute_result"
    }
   ],
   "source": [
    "gen1.to_PIL(binary_method='gray_scale')[0]"
   ]
  },
  {
   "cell_type": "code",
   "execution_count": 158,
   "metadata": {},
   "outputs": [],
   "source": [
    "gen2.to_file('readability/gen2', binary_method='gray_scale')"
   ]
  },
  {
   "cell_type": "code",
   "execution_count": 153,
   "metadata": {},
   "outputs": [
    {
     "data": {
      "image/jpeg": "[encoded data removed]",
      "image/png": "[encoded data removed]",
      "text/plain": [
       "<PIL.Image.Image image mode=L size=240x192>"
      ]
     },
     "execution_count": 153,
     "metadata": {},
     "output_type": "execute_result"
    }
   ],
   "source": [
    "gen2.to_PIL(binary_method='gray_scale')[0]"
   ]
  },
  {
   "cell_type": "code",
   "execution_count": 62,
   "metadata": {},
   "outputs": [
    {
     "data": {
      "image/jpeg": "[encoded data removed]",
      "image/png": "[encoded data removed]",
      "text/plain": [
       "<PIL.Image.Image image mode=L size=240x192>"
      ]
     },
     "execution_count": 62,
     "metadata": {},
     "output_type": "execute_result"
    }
   ],
   "source": [
    "g1.to_PIL()[0]"
   ]
  },
  {
   "cell_type": "code",
   "execution_count": 53,
   "metadata": {},
   "outputs": [
    {
     "data": {
      "image/jpeg": "[encoded data removed]",
      "image/png": "[encoded data removed]",
      "text/plain": [
       "<PIL.Image.Image image mode=L size=240x192>"
      ]
     },
     "execution_count": 53,
     "metadata": {},
     "output_type": "execute_result"
    }
   ],
   "source": [
    "g2.to_PIL()[0]"
   ]
  },
  {
   "cell_type": "markdown",
   "metadata": {},
   "source": [
    "## Manul Annotations of First 200 Samples\n",
    "\n",
    "Generated by 0.1M binary model"
   ]
  },
  {
   "cell_type": "code",
   "execution_count": 7,
   "metadata": {},
   "outputs": [
    {
     "name": "stdout",
     "output_type": "stream",
     "text": [
      "Acc:  0.04\n",
      "Wrong:  0.045\n",
      "Acc_no_cap:  0.05825242718446602\n",
      "Wrong_no_cap:  0.019417475728155338\n",
      "Non_text:  0.91\n",
      "Non_text_no_cap:  0.912621359223301\n",
      "Num_no_cap:  103\n",
      "Num_total:  200\n"
     ]
    }
   ],
   "source": [
    "capital = '1 3 5 7 8 17 19 21 23 24 26 29 30 31 33 36 38 40 41 43 48 55 57 58 59 60 61 62 65 70 72 74 76 79 80 81 82 87 88 90 93 95 96 97 99 101 104 106 110 112 115 116 117 118 120 121 122 124 126 131 132 134 138 139 141 143 145 147 148 149 150 151 154 155 157 159 160 162 164 165 166 167 172 174 176 180 181 183 186 187 189 191 192 195 197 198 199'\n",
    "wrong_word = '19 21 24 58 81 88 106 182 184'\n",
    "correct = '2 4 20 35 63 111 141 145'\n",
    "non_text = '0 1 3 5 6 7 8 9 10 11 12 13 14 15 16 17 18 22 23 25 26 27 28 29 30 31 32 33 34 36 37 38 39 40 41 42 43 44 45 46 47 48 49 50 51 52 53 54 55 56 57 59 60 61 62 64 65 66 67 68 69 70 72 71 73 74 75 76 77 78 79 80 82 83 84 85 86 87 89 90 91 92 93 94 95 96 97 98 99 100 101 102 103 104 105 107 108 109 110 112 113 114 115 116 117 118 119 120 121 122 123 124 125 126 127 128 129 130 131 132 133 134 135 136 137 138 139 140 142 143 144 146 147 148 149 150 151 152 153 154 155 156 157 159 160 161 162 163 164 165 166 167 168 169 170 171 172 173 174 175 176 177 178 179 180 181 183 185 186 187 188 189 190 191 192 193 194 195 196 197 198 199'\n",
    "\n",
    "capitals = set(capital.split(' '))\n",
    "wrong_words = set(wrong_word.split(' '))\n",
    "corrects = set(correct.split(' '))\n",
    "non_texts = set(non_text.split(' '))\n",
    "\n",
    "print('Acc: ', len(corrects) / 200)\n",
    "print('Wrong: ', len(wrong_words) / 200)\n",
    "print('Acc_no_cap: ', len(corrects - capitals) / (200 - len(capitals)))\n",
    "print('Wrong_no_cap: ', len(wrong_words - capitals) / (200 - len(capitals)))\n",
    "print('Non_text: ', len(non_texts) / 200)\n",
    "print('Non_text_no_cap: ', len(non_texts - capitals) / (200 - len(capitals)))\n",
    "print('Num_no_cap: ', (200 - len(capitals)))\n",
    "print('Num_total: ', 200)"
   ]
  },
  {
   "cell_type": "markdown",
   "metadata": {},
   "source": [
    "## Evaluations\n",
    "\n",
    "### 1. 1M binary model"
   ]
  },
  {
   "cell_type": "code",
   "execution_count": 6,
   "metadata": {},
   "outputs": [
    {
     "name": "stdout",
     "output_type": "stream",
     "text": [
      "Coder path is none, do not load compressor for this model\n"
     ]
    },
    {
     "name": "stderr",
     "output_type": "stream",
     "text": [
      "100%|██████████| 5153/5153 [03:47<00:00, 22.60it/s]\n",
      "100%|██████████| 5153/5153 [20:53<00:00,  4.11it/s]"
     ]
    },
    {
     "name": "stdout",
     "output_type": "stream",
     "text": [
      "{'paddleocr': 0.05200853871531147, 'tesseract': 0.050650106733941394, 'union': 0.05705414321754318, 'readability': 0.5476421502037648}\n"
     ]
    },
    {
     "name": "stderr",
     "output_type": "stream",
     "text": [
      "\n"
     ]
    }
   ],
   "source": [
    "model = LatentLlama(backbone_path='storage/checkpoints/1MModels/dllama_2_b/backbone/', num_channels=1, patch_len=2, patch_size=8)\n",
    "\n",
    "model.eval()\n",
    "model.cuda()\n",
    "generated = []\n",
    "for txt in tqdm(data['text']):\n",
    "    words = txt.split()\n",
    "    prompt = process_lambda(' '.join(words[:-1]))\n",
    "    prompt = TGraph.from_text([prompt])\n",
    "    prompt = prompt._spacing_text(3)\n",
    "    prompt.set_device('cuda')\n",
    "    target = words[-1]\n",
    "    gen = model.autoregressive_generate(prompt, None, 4)\n",
    "    prompt.set_device('cpu')\n",
    "    gen.set_device('cpu')\n",
    "    generated.append((prompt, target, gen))\n",
    "result = evaluate_babi(generated, vocab)\n",
    "print(result)"
   ]
  },
  {
   "cell_type": "code",
   "execution_count": 12,
   "metadata": {},
   "outputs": [],
   "source": [
    "save_generated(generated, 'lambada_stage1')"
   ]
  },
  {
   "cell_type": "code",
   "execution_count": null,
   "metadata": {},
   "outputs": [],
   "source": []
  },
  {
   "cell_type": "markdown",
   "metadata": {},
   "source": [
    "with stage 2 training"
   ]
  },
  {
   "cell_type": "code",
   "execution_count": 7,
   "metadata": {},
   "outputs": [
    {
     "name": "stdout",
     "output_type": "stream",
     "text": [
      "Coder path is none, do not load compressor for this model\n"
     ]
    },
    {
     "name": "stderr",
     "output_type": "stream",
     "text": [
      "100%|██████████| 5153/5153 [03:51<00:00, 22.31it/s]\n",
      "100%|██████████| 5153/5153 [20:41<00:00,  4.15it/s]"
     ]
    },
    {
     "name": "stdout",
     "output_type": "stream",
     "text": [
      "{'paddleocr': 0.12458761886279837, 'tesseract': 0.13137977876964874, 'union': 0.13758975354162623, 'readability': 0.8218513487288958}\n"
     ]
    },
    {
     "name": "stderr",
     "output_type": "stream",
     "text": [
      "\n"
     ]
    }
   ],
   "source": [
    "model = LatentLlama(backbone_path=pixar113_stage2_path, num_channels=1, patch_len=2, patch_size=8)\n",
    "\n",
    "model.eval()\n",
    "model.cuda()\n",
    "generated2 = []\n",
    "for txt in tqdm(data['text']):\n",
    "    words = txt.split()\n",
    "    prompt = process_lambda(' '.join(words[:-1]))\n",
    "    prompt = TGraph.from_text([prompt])\n",
    "    prompt = prompt._spacing_text(3)\n",
    "    prompt.set_device('cuda')\n",
    "    target = words[-1]\n",
    "    gen = model.autoregressive_generate(prompt, None, 4)\n",
    "    prompt.set_device('cpu')\n",
    "    gen.set_device('cpu')\n",
    "    generated2.append((prompt, target, gen))\n",
    "result2 = evaluate_babi(generated2, vocab)\n",
    "print(result2)"
   ]
  },
  {
   "cell_type": "code",
   "execution_count": 14,
   "metadata": {},
   "outputs": [],
   "source": [
    "save_generated(generated2, 'lambada_stage2')"
   ]
  },
  {
   "cell_type": "markdown",
   "metadata": {},
   "source": [
    "### 2. 0.1M binary model"
   ]
  },
  {
   "cell_type": "code",
   "execution_count": 37,
   "metadata": {},
   "outputs": [
    {
     "name": "stderr",
     "output_type": "stream",
     "text": [
      "100%|██████████| 200/200 [00:48<00:00,  4.15it/s]\n"
     ]
    }
   ],
   "source": [
    "model = LatentLlama(backbone_path='storage/checkpoints/100kModels/dllama_2_100k/backbone', num_channels=1, patch_len=2, patch_size=8)\n",
    "\n",
    "model.eval()\n",
    "model.cuda()\n",
    "generated = []\n",
    "for txt in tqdm(data['text']):\n",
    "    words = txt.split()\n",
    "    prompt = process_lambda(' '.join(words[:-1]))\n",
    "    prompt = TGraph.from_text([prompt])\n",
    "    prompt = prompt._spacing_text(3)\n",
    "    prompt.set_device('cuda')\n",
    "    target = words[-1]\n",
    "    gen = model.autoregressive_generate(prompt, None, 4)\n",
    "    prompt.set_device('cpu')\n",
    "    gen.set_device('cpu')\n",
    "    generated.append((prompt, target, gen))\n",
    "result = evaluate_babi(generated, vocab)\n",
    "print(result)"
   ]
  },
  {
   "cell_type": "code",
   "execution_count": 38,
   "metadata": {},
   "outputs": [
    {
     "name": "stdout",
     "output_type": "stream",
     "text": [
      "{'paddleocr': 0.035, 'tesseract': 0.025, 'union': 0.035, 'readability': 0.13}\n"
     ]
    }
   ],
   "source": [
    "print(result)"
   ]
  },
  {
   "cell_type": "markdown",
   "metadata": {},
   "source": [
    "### 3. 1M binary model with 200 steps adversarial training"
   ]
  },
  {
   "cell_type": "code",
   "execution_count": 4,
   "metadata": {},
   "outputs": [
    {
     "name": "stdout",
     "output_type": "stream",
     "text": [
      "Coder path is none, do not load compressor for this model\n"
     ]
    },
    {
     "name": "stderr",
     "output_type": "stream",
     "text": [
      "  3%|▎         | 164/5153 [00:07<03:46, 21.98it/s]\n"
     ]
    },
    {
     "ename": "KeyboardInterrupt",
     "evalue": "",
     "output_type": "error",
     "traceback": [
      "\u001b[0;31m---------------------------------------------------------------------------\u001b[0m",
      "\u001b[0;31mKeyboardInterrupt\u001b[0m                         Traceback (most recent call last)",
      "Cell \u001b[0;32mIn[4], line 13\u001b[0m\n\u001b[1;32m     11\u001b[0m prompt\u001b[39m.\u001b[39mset_device(\u001b[39m'\u001b[39m\u001b[39mcuda\u001b[39m\u001b[39m'\u001b[39m)\n\u001b[1;32m     12\u001b[0m target \u001b[39m=\u001b[39m words[\u001b[39m-\u001b[39m\u001b[39m1\u001b[39m]\n\u001b[0;32m---> 13\u001b[0m gen \u001b[39m=\u001b[39m model\u001b[39m.\u001b[39;49mautoregressive_generate(prompt, \u001b[39mNone\u001b[39;49;00m, \u001b[39m4\u001b[39;49m)\n\u001b[1;32m     14\u001b[0m prompt\u001b[39m.\u001b[39mset_device(\u001b[39m'\u001b[39m\u001b[39mcpu\u001b[39m\u001b[39m'\u001b[39m)\n\u001b[1;32m     15\u001b[0m gen\u001b[39m.\u001b[39mset_device(\u001b[39m'\u001b[39m\u001b[39mcpu\u001b[39m\u001b[39m'\u001b[39m)\n",
      "File \u001b[0;32m~/src/projects/msc_project/LatentPixel/modeling/latent_model.py:229\u001b[0m, in \u001b[0;36mLatentModel.autoregressive_generate\u001b[0;34m(self, prompt, gen_idx, num_new_patches, binary_method, threshold, temperature)\u001b[0m\n\u001b[1;32m    227\u001b[0m \u001b[39mdef\u001b[39;00m \u001b[39mautoregressive_generate\u001b[39m(\u001b[39mself\u001b[39m, prompt: TGraph, gen_idx: \u001b[39mint\u001b[39m, num_new_patches: \u001b[39mint\u001b[39m, binary_method: \u001b[39mstr\u001b[39m\u001b[39m=\u001b[39m\u001b[39m'\u001b[39m\u001b[39mthreshold\u001b[39m\u001b[39m'\u001b[39m, threshold: \u001b[39mfloat\u001b[39m\u001b[39m=\u001b[39m\u001b[39m0.5\u001b[39m, temperature: \u001b[39mfloat\u001b[39m\u001b[39m=\u001b[39m\u001b[39m1.0\u001b[39m) \u001b[39m-\u001b[39m\u001b[39m>\u001b[39m TGraph:\n\u001b[1;32m    228\u001b[0m     \u001b[39mfor\u001b[39;00m _ \u001b[39min\u001b[39;00m \u001b[39mrange\u001b[39m(num_new_patches):\n\u001b[0;32m--> 229\u001b[0m         gen \u001b[39m=\u001b[39m \u001b[39mself\u001b[39;49m\u001b[39m.\u001b[39;49m_generate(prompt, binary_method, threshold, temperature\u001b[39m=\u001b[39;49mtemperature)\n\u001b[1;32m    230\u001b[0m         prompt \u001b[39m=\u001b[39m gen\n\u001b[1;32m    231\u001b[0m     \u001b[39mreturn\u001b[39;00m gen\n",
      "File \u001b[0;32m~/src/projects/msc_project/LatentPixel/modeling/latent_model.py:215\u001b[0m, in \u001b[0;36mLatentModel._generate\u001b[0;34m(self, prompt, binary_method, threshold, temperature)\u001b[0m\n\u001b[1;32m    213\u001b[0m gen \u001b[39m=\u001b[39m TGraph\u001b[39m.\u001b[39mfrom_tgraph(prompt)\n\u001b[1;32m    214\u001b[0m gen\u001b[39m.\u001b[39m_value \u001b[39m=\u001b[39m prompt\u001b[39m.\u001b[39mvalue\n\u001b[0;32m--> 215\u001b[0m output \u001b[39m=\u001b[39m \u001b[39mself\u001b[39;49m\u001b[39m.\u001b[39;49mforward(prompt, temperature\u001b[39m=\u001b[39;49mtemperature)\n\u001b[1;32m    216\u001b[0m \u001b[39mfor\u001b[39;00m idx, num_text \u001b[39min\u001b[39;00m \u001b[39menumerate\u001b[39m(prompt\u001b[39m.\u001b[39mnum_text_patches):\n\u001b[1;32m    217\u001b[0m     bidx \u001b[39m=\u001b[39m (num_text \u001b[39m-\u001b[39m \u001b[39m2\u001b[39m) \u001b[39m*\u001b[39m prompt\u001b[39m.\u001b[39mpatch_len \u001b[39m*\u001b[39m prompt\u001b[39m.\u001b[39mpatch_size            \n",
      "File \u001b[0;32m~/src/projects/msc_project/LatentPixel/modeling/latent_model.py:97\u001b[0m, in \u001b[0;36mLatentModel.forward\u001b[0;34m(self, img, temperature)\u001b[0m\n\u001b[1;32m     95\u001b[0m     img\u001b[39m.\u001b[39mbinary()\n\u001b[1;32m     96\u001b[0m \u001b[39mif\u001b[39;00m \u001b[39mself\u001b[39m\u001b[39m.\u001b[39mcompressor \u001b[39mis\u001b[39;00m \u001b[39mNone\u001b[39;00m:\n\u001b[0;32m---> 97\u001b[0m     recon \u001b[39m=\u001b[39m \u001b[39mself\u001b[39;49m\u001b[39m.\u001b[39;49mlatent_forward(img)\n\u001b[1;32m     98\u001b[0m     recon\u001b[39m.\u001b[39m_labels \u001b[39m=\u001b[39m img\u001b[39m.\u001b[39m_labels\n\u001b[1;32m     99\u001b[0m     \u001b[39mif\u001b[39;00m \u001b[39mself\u001b[39m\u001b[39m.\u001b[39mbinary \u001b[39mand\u001b[39;00m \u001b[39mself\u001b[39m\u001b[39m.\u001b[39mnum_labels \u001b[39mis\u001b[39;00m \u001b[39mNone\u001b[39;00m:\n",
      "File \u001b[0;32m~/src/projects/msc_project/LatentPixel/modeling/llama.py:345\u001b[0m, in \u001b[0;36mLatentLlama.latent_forward\u001b[0;34m(self, img)\u001b[0m\n\u001b[1;32m    343\u001b[0m \u001b[39melse\u001b[39;00m:\n\u001b[1;32m    344\u001b[0m     img_values \u001b[39m=\u001b[39m target\n\u001b[0;32m--> 345\u001b[0m output: BaseModelOutputWithPastAndCrossAttentions \u001b[39m=\u001b[39m \u001b[39mself\u001b[39;49m\u001b[39m.\u001b[39;49mbackbone\u001b[39m.\u001b[39;49mforward(\n\u001b[1;32m    346\u001b[0m     attention_mask\u001b[39m=\u001b[39;49mimg\u001b[39m.\u001b[39;49mattention_mask,\n\u001b[1;32m    347\u001b[0m     inputs_embeds\u001b[39m=\u001b[39;49mimg_values\n\u001b[1;32m    348\u001b[0m )\n\u001b[1;32m    349\u001b[0m pred \u001b[39m=\u001b[39m output\u001b[39m.\u001b[39mlast_hidden_state\n\u001b[1;32m    351\u001b[0m \u001b[39m# attention_mask = mask2img(img.attention_mask, self.latent_patch_size, self.patch_len)\u001b[39;00m\n\u001b[1;32m    352\u001b[0m \u001b[39m# patch_width = self.latent_patch_size * self.patch_len\u001b[39;00m\n\u001b[1;32m    353\u001b[0m \u001b[39m# attention_mask.unsqueeze_(1)    # add the channel dimension\u001b[39;00m\n\u001b[0;32m   (...)\u001b[0m\n\u001b[1;32m    356\u001b[0m \u001b[39m# loss = (pred[..., :-patch_width] - img_values[..., patch_width:]) ** 2\u001b[39;00m\n\u001b[1;32m    357\u001b[0m \u001b[39m# loss = (loss * attention_mask).sum() / (attention_mask.sum() * self.num_latent_channel)  # mean loss on removed patches\u001b[39;00m\n",
      "File \u001b[0;32m~/src/projects/msc_project/LatentPixel/modeling/llama.py:270\u001b[0m, in \u001b[0;36mLlamaForPatchCausalInference.forward\u001b[0;34m(self, input_ids, past_key_values, attention_mask, token_type_ids, position_ids, head_mask, inputs_embeds, encoder_hidden_states, encoder_attention_mask, use_cache, output_attentions, output_hidden_states, return_dict, ignore_out_proj)\u001b[0m\n\u001b[1;32m    266\u001b[0m     layer_outputs \u001b[39m=\u001b[39m torch\u001b[39m.\u001b[39mutils\u001b[39m.\u001b[39mcheckpoint\u001b[39m.\u001b[39mcheckpoint(\n\u001b[1;32m    267\u001b[0m         create_custom_forward(decoder_layer), hidden_states, attention_mask, position_ids\n\u001b[1;32m    268\u001b[0m     )\n\u001b[1;32m    269\u001b[0m \u001b[39melse\u001b[39;00m:\n\u001b[0;32m--> 270\u001b[0m     layer_outputs \u001b[39m=\u001b[39m decoder_layer(\n\u001b[1;32m    271\u001b[0m         hidden_states,\n\u001b[1;32m    272\u001b[0m         attention_mask\u001b[39m=\u001b[39;49mattention_mask,\n\u001b[1;32m    273\u001b[0m         position_ids\u001b[39m=\u001b[39;49mposition_ids,\n\u001b[1;32m    274\u001b[0m         past_key_value\u001b[39m=\u001b[39;49mpast_key_value,\n\u001b[1;32m    275\u001b[0m         output_attentions\u001b[39m=\u001b[39;49moutput_attentions,\n\u001b[1;32m    276\u001b[0m         use_cache\u001b[39m=\u001b[39;49muse_cache,\n\u001b[1;32m    277\u001b[0m         padding_mask\u001b[39m=\u001b[39;49mpadding_mask,\n\u001b[1;32m    278\u001b[0m     )\n\u001b[1;32m    280\u001b[0m hidden_states \u001b[39m=\u001b[39m layer_outputs[\u001b[39m0\u001b[39m]\n\u001b[1;32m    282\u001b[0m \u001b[39mif\u001b[39;00m use_cache:\n",
      "File \u001b[0;32m~/data/miniconda3/envs/pixel/lib/python3.10/site-packages/torch/nn/modules/module.py:1518\u001b[0m, in \u001b[0;36mModule._wrapped_call_impl\u001b[0;34m(self, *args, **kwargs)\u001b[0m\n\u001b[1;32m   1516\u001b[0m     \u001b[39mreturn\u001b[39;00m \u001b[39mself\u001b[39m\u001b[39m.\u001b[39m_compiled_call_impl(\u001b[39m*\u001b[39margs, \u001b[39m*\u001b[39m\u001b[39m*\u001b[39mkwargs)  \u001b[39m# type: ignore[misc]\u001b[39;00m\n\u001b[1;32m   1517\u001b[0m \u001b[39melse\u001b[39;00m:\n\u001b[0;32m-> 1518\u001b[0m     \u001b[39mreturn\u001b[39;00m \u001b[39mself\u001b[39;49m\u001b[39m.\u001b[39;49m_call_impl(\u001b[39m*\u001b[39;49margs, \u001b[39m*\u001b[39;49m\u001b[39m*\u001b[39;49mkwargs)\n",
      "File \u001b[0;32m~/data/miniconda3/envs/pixel/lib/python3.10/site-packages/torch/nn/modules/module.py:1527\u001b[0m, in \u001b[0;36mModule._call_impl\u001b[0;34m(self, *args, **kwargs)\u001b[0m\n\u001b[1;32m   1522\u001b[0m \u001b[39m# If we don't have any hooks, we want to skip the rest of the logic in\u001b[39;00m\n\u001b[1;32m   1523\u001b[0m \u001b[39m# this function, and just call forward.\u001b[39;00m\n\u001b[1;32m   1524\u001b[0m \u001b[39mif\u001b[39;00m \u001b[39mnot\u001b[39;00m (\u001b[39mself\u001b[39m\u001b[39m.\u001b[39m_backward_hooks \u001b[39mor\u001b[39;00m \u001b[39mself\u001b[39m\u001b[39m.\u001b[39m_backward_pre_hooks \u001b[39mor\u001b[39;00m \u001b[39mself\u001b[39m\u001b[39m.\u001b[39m_forward_hooks \u001b[39mor\u001b[39;00m \u001b[39mself\u001b[39m\u001b[39m.\u001b[39m_forward_pre_hooks\n\u001b[1;32m   1525\u001b[0m         \u001b[39mor\u001b[39;00m _global_backward_pre_hooks \u001b[39mor\u001b[39;00m _global_backward_hooks\n\u001b[1;32m   1526\u001b[0m         \u001b[39mor\u001b[39;00m _global_forward_hooks \u001b[39mor\u001b[39;00m _global_forward_pre_hooks):\n\u001b[0;32m-> 1527\u001b[0m     \u001b[39mreturn\u001b[39;00m forward_call(\u001b[39m*\u001b[39;49margs, \u001b[39m*\u001b[39;49m\u001b[39m*\u001b[39;49mkwargs)\n\u001b[1;32m   1529\u001b[0m \u001b[39mtry\u001b[39;00m:\n\u001b[1;32m   1530\u001b[0m     result \u001b[39m=\u001b[39m \u001b[39mNone\u001b[39;00m\n",
      "File \u001b[0;32m~/src/projects/msc_project/LatentPixel/modeling/llama.py:78\u001b[0m, in \u001b[0;36mLlamaDecoderLayer.forward\u001b[0;34m(self, hidden_states, attention_mask, position_ids, past_key_value, output_attentions, use_cache, padding_mask)\u001b[0m\n\u001b[1;32m     75\u001b[0m hidden_states \u001b[39m=\u001b[39m \u001b[39mself\u001b[39m\u001b[39m.\u001b[39minput_layernorm(hidden_states)\n\u001b[1;32m     77\u001b[0m \u001b[39m# Self Attention\u001b[39;00m\n\u001b[0;32m---> 78\u001b[0m hidden_states, self_attn_weights, present_key_value \u001b[39m=\u001b[39m \u001b[39mself\u001b[39;49m\u001b[39m.\u001b[39;49mself_attn(\n\u001b[1;32m     79\u001b[0m     hidden_states\u001b[39m=\u001b[39;49mhidden_states,\n\u001b[1;32m     80\u001b[0m     attention_mask\u001b[39m=\u001b[39;49mattention_mask,\n\u001b[1;32m     81\u001b[0m     position_ids\u001b[39m=\u001b[39;49mposition_ids,\n\u001b[1;32m     82\u001b[0m     past_key_value\u001b[39m=\u001b[39;49mpast_key_value,\n\u001b[1;32m     83\u001b[0m     output_attentions\u001b[39m=\u001b[39;49moutput_attentions,\n\u001b[1;32m     84\u001b[0m     use_cache\u001b[39m=\u001b[39;49muse_cache,\n\u001b[1;32m     85\u001b[0m     padding_mask\u001b[39m=\u001b[39;49mpadding_mask,\n\u001b[1;32m     86\u001b[0m )\n\u001b[1;32m     87\u001b[0m hidden_states \u001b[39m=\u001b[39m residual \u001b[39m+\u001b[39m hidden_states\n\u001b[1;32m     89\u001b[0m \u001b[39m# Fully Connected\u001b[39;00m\n",
      "File \u001b[0;32m~/data/miniconda3/envs/pixel/lib/python3.10/site-packages/torch/nn/modules/module.py:1518\u001b[0m, in \u001b[0;36mModule._wrapped_call_impl\u001b[0;34m(self, *args, **kwargs)\u001b[0m\n\u001b[1;32m   1516\u001b[0m     \u001b[39mreturn\u001b[39;00m \u001b[39mself\u001b[39m\u001b[39m.\u001b[39m_compiled_call_impl(\u001b[39m*\u001b[39margs, \u001b[39m*\u001b[39m\u001b[39m*\u001b[39mkwargs)  \u001b[39m# type: ignore[misc]\u001b[39;00m\n\u001b[1;32m   1517\u001b[0m \u001b[39melse\u001b[39;00m:\n\u001b[0;32m-> 1518\u001b[0m     \u001b[39mreturn\u001b[39;00m \u001b[39mself\u001b[39;49m\u001b[39m.\u001b[39;49m_call_impl(\u001b[39m*\u001b[39;49margs, \u001b[39m*\u001b[39;49m\u001b[39m*\u001b[39;49mkwargs)\n",
      "File \u001b[0;32m~/data/miniconda3/envs/pixel/lib/python3.10/site-packages/torch/nn/modules/module.py:1527\u001b[0m, in \u001b[0;36mModule._call_impl\u001b[0;34m(self, *args, **kwargs)\u001b[0m\n\u001b[1;32m   1522\u001b[0m \u001b[39m# If we don't have any hooks, we want to skip the rest of the logic in\u001b[39;00m\n\u001b[1;32m   1523\u001b[0m \u001b[39m# this function, and just call forward.\u001b[39;00m\n\u001b[1;32m   1524\u001b[0m \u001b[39mif\u001b[39;00m \u001b[39mnot\u001b[39;00m (\u001b[39mself\u001b[39m\u001b[39m.\u001b[39m_backward_hooks \u001b[39mor\u001b[39;00m \u001b[39mself\u001b[39m\u001b[39m.\u001b[39m_backward_pre_hooks \u001b[39mor\u001b[39;00m \u001b[39mself\u001b[39m\u001b[39m.\u001b[39m_forward_hooks \u001b[39mor\u001b[39;00m \u001b[39mself\u001b[39m\u001b[39m.\u001b[39m_forward_pre_hooks\n\u001b[1;32m   1525\u001b[0m         \u001b[39mor\u001b[39;00m _global_backward_pre_hooks \u001b[39mor\u001b[39;00m _global_backward_hooks\n\u001b[1;32m   1526\u001b[0m         \u001b[39mor\u001b[39;00m _global_forward_hooks \u001b[39mor\u001b[39;00m _global_forward_pre_hooks):\n\u001b[0;32m-> 1527\u001b[0m     \u001b[39mreturn\u001b[39;00m forward_call(\u001b[39m*\u001b[39;49margs, \u001b[39m*\u001b[39;49m\u001b[39m*\u001b[39;49mkwargs)\n\u001b[1;32m   1529\u001b[0m \u001b[39mtry\u001b[39;00m:\n\u001b[1;32m   1530\u001b[0m     result \u001b[39m=\u001b[39m \u001b[39mNone\u001b[39;00m\n",
      "File \u001b[0;32m~/data/miniconda3/envs/pixel/lib/python3.10/site-packages/transformers/models/llama/modeling_llama.py:361\u001b[0m, in \u001b[0;36mLlamaAttention.forward\u001b[0;34m(self, hidden_states, attention_mask, position_ids, past_key_value, output_attentions, use_cache, padding_mask)\u001b[0m\n\u001b[1;32m    359\u001b[0m     kv_seq_len \u001b[39m+\u001b[39m\u001b[39m=\u001b[39m past_key_value[\u001b[39m0\u001b[39m]\u001b[39m.\u001b[39mshape[\u001b[39m-\u001b[39m\u001b[39m2\u001b[39m]\n\u001b[1;32m    360\u001b[0m cos, sin \u001b[39m=\u001b[39m \u001b[39mself\u001b[39m\u001b[39m.\u001b[39mrotary_emb(value_states, seq_len\u001b[39m=\u001b[39mkv_seq_len)\n\u001b[0;32m--> 361\u001b[0m query_states, key_states \u001b[39m=\u001b[39m apply_rotary_pos_emb(query_states, key_states, cos, sin, position_ids)\n\u001b[1;32m    363\u001b[0m \u001b[39mif\u001b[39;00m past_key_value \u001b[39mis\u001b[39;00m \u001b[39mnot\u001b[39;00m \u001b[39mNone\u001b[39;00m:\n\u001b[1;32m    364\u001b[0m     \u001b[39m# reuse k, v, self_attention\u001b[39;00m\n\u001b[1;32m    365\u001b[0m     key_states \u001b[39m=\u001b[39m torch\u001b[39m.\u001b[39mcat([past_key_value[\u001b[39m0\u001b[39m], key_states], dim\u001b[39m=\u001b[39m\u001b[39m2\u001b[39m)\n",
      "File \u001b[0;32m~/data/miniconda3/envs/pixel/lib/python3.10/site-packages/transformers/models/llama/modeling_llama.py:211\u001b[0m, in \u001b[0;36mapply_rotary_pos_emb\u001b[0;34m(q, k, cos, sin, position_ids)\u001b[0m\n\u001b[1;32m    209\u001b[0m cos \u001b[39m=\u001b[39m cos\u001b[39m.\u001b[39msqueeze(\u001b[39m1\u001b[39m)\u001b[39m.\u001b[39msqueeze(\u001b[39m0\u001b[39m)  \u001b[39m# [seq_len, dim]\u001b[39;00m\n\u001b[1;32m    210\u001b[0m sin \u001b[39m=\u001b[39m sin\u001b[39m.\u001b[39msqueeze(\u001b[39m1\u001b[39m)\u001b[39m.\u001b[39msqueeze(\u001b[39m0\u001b[39m)  \u001b[39m# [seq_len, dim]\u001b[39;00m\n\u001b[0;32m--> 211\u001b[0m cos \u001b[39m=\u001b[39m cos[position_ids]\u001b[39m.\u001b[39;49munsqueeze(\u001b[39m1\u001b[39;49m)  \u001b[39m# [bs, 1, seq_len, dim]\u001b[39;00m\n\u001b[1;32m    212\u001b[0m sin \u001b[39m=\u001b[39m sin[position_ids]\u001b[39m.\u001b[39munsqueeze(\u001b[39m1\u001b[39m)  \u001b[39m# [bs, 1, seq_len, dim]\u001b[39;00m\n\u001b[1;32m    213\u001b[0m q_embed \u001b[39m=\u001b[39m (q \u001b[39m*\u001b[39m cos) \u001b[39m+\u001b[39m (rotate_half(q) \u001b[39m*\u001b[39m sin)\n",
      "\u001b[0;31mKeyboardInterrupt\u001b[0m: "
     ]
    }
   ],
   "source": [
    "model = LatentLlama(backbone_path='storage/checkpoints/1MGan/gan_ratio_10/200/backbone', num_channels=1, patch_len=2, patch_size=8)\n",
    "\n",
    "model.eval()\n",
    "model.cuda()\n",
    "generated = []\n",
    "for txt in tqdm(data['text']):\n",
    "    words = txt.split()\n",
    "    prompt = process_lambda(' '.join(words[:-1]))\n",
    "    prompt = TGraph.from_text([prompt])\n",
    "    prompt = prompt._spacing_text(3)\n",
    "    prompt.set_device('cuda')\n",
    "    target = words[-1]\n",
    "    gen = model.autoregressive_generate(prompt, None, 4)\n",
    "    prompt.set_device('cpu')\n",
    "    gen.set_device('cpu')\n",
    "    generated.append((prompt, target, gen))\n",
    "result = evaluate_babi(generated, vocab)\n",
    "print(result)"
   ]
  },
  {
   "cell_type": "markdown",
   "metadata": {},
   "source": [
    "### 4. 1M binary model with 400 steps adversarial training"
   ]
  },
  {
   "cell_type": "code",
   "execution_count": 10,
   "metadata": {},
   "outputs": [
    {
     "name": "stdout",
     "output_type": "stream",
     "text": [
      "Coder path is none, do not load compressor for this model\n"
     ]
    },
    {
     "name": "stderr",
     "output_type": "stream",
     "text": [
      "100%|██████████| 5153/5153 [03:50<00:00, 22.31it/s]\n",
      "100%|██████████| 5153/5153 [20:15<00:00,  4.24it/s]"
     ]
    },
    {
     "name": "stdout",
     "output_type": "stream",
     "text": [
      "{'paddleocr': 0.08267028915195032, 'tesseract': 0.08849214050067922, 'union': 0.09159712788666796, 'readability': 0.8024451775664662}\n"
     ]
    },
    {
     "name": "stderr",
     "output_type": "stream",
     "text": [
      "\n"
     ]
    }
   ],
   "source": [
    "model = LatentLlama(backbone_path='storage/checkpoints/1MGan/gan_ratio_10/400/backbone', num_channels=1, patch_len=2, patch_size=8)\n",
    "\n",
    "model.eval()\n",
    "model.cuda()\n",
    "generated = []\n",
    "for txt in tqdm(data['text']):\n",
    "    words = txt.split()\n",
    "    prompt = process_lambda(' '.join(words[:-1]))\n",
    "    prompt = TGraph.from_text([prompt])\n",
    "    prompt = prompt._spacing_text(3)\n",
    "    prompt.set_device('cuda')\n",
    "    target = words[-1]\n",
    "    gen = model.autoregressive_generate(prompt, None, 4)\n",
    "    prompt.set_device('cpu')\n",
    "    gen.set_device('cpu')\n",
    "    generated.append((prompt, target, gen))\n",
    "result = evaluate_babi(generated, vocab)\n",
    "print(result)"
   ]
  },
  {
   "cell_type": "markdown",
   "metadata": {},
   "source": [
    "### 5. 1M binary model with 600 steps adversarial training"
   ]
  },
  {
   "cell_type": "code",
   "execution_count": 11,
   "metadata": {},
   "outputs": [
    {
     "name": "stdout",
     "output_type": "stream",
     "text": [
      "Coder path is none, do not load compressor for this model\n"
     ]
    },
    {
     "name": "stderr",
     "output_type": "stream",
     "text": [
      "100%|██████████| 5153/5153 [03:51<00:00, 22.29it/s]\n",
      "100%|██████████| 5153/5153 [20:23<00:00,  4.21it/s]"
     ]
    },
    {
     "name": "stdout",
     "output_type": "stream",
     "text": [
      "{'paddleocr': 0.060741315738404814, 'tesseract': 0.06578692024063652, 'union': 0.06753347564525519, 'readability': 0.8177760527847856}\n"
     ]
    },
    {
     "name": "stderr",
     "output_type": "stream",
     "text": [
      "\n"
     ]
    }
   ],
   "source": [
    "model = LatentLlama(backbone_path='storage/checkpoints/1MGan/gan_ratio_10/600/backbone', num_channels=1, patch_len=2, patch_size=8)\n",
    "\n",
    "model.eval()\n",
    "model.cuda()\n",
    "generated = []\n",
    "for txt in tqdm(data['text']):\n",
    "    words = txt.split()\n",
    "    prompt = process_lambda(' '.join(words[:-1]))\n",
    "    prompt = TGraph.from_text([prompt])\n",
    "    prompt = prompt._spacing_text(3)\n",
    "    prompt.set_device('cuda')\n",
    "    target = words[-1]\n",
    "    gen = model.autoregressive_generate(prompt, None, 4)\n",
    "    prompt.set_device('cpu')\n",
    "    gen.set_device('cpu')\n",
    "    generated.append((prompt, target, gen))\n",
    "result = evaluate_babi(generated, vocab)\n",
    "print(result)"
   ]
  },
  {
   "cell_type": "markdown",
   "metadata": {},
   "source": [
    "### 6. 1M binary model with 3000 steps adversarial training"
   ]
  },
  {
   "cell_type": "code",
   "execution_count": 12,
   "metadata": {},
   "outputs": [
    {
     "name": "stdout",
     "output_type": "stream",
     "text": [
      "Coder path is none, do not load compressor for this model\n"
     ]
    },
    {
     "name": "stderr",
     "output_type": "stream",
     "text": [
      " 13%|█▎        | 658/5153 [00:29<03:20, 22.44it/s]\n"
     ]
    },
    {
     "ename": "KeyboardInterrupt",
     "evalue": "",
     "output_type": "error",
     "traceback": [
      "\u001b[0;31m---------------------------------------------------------------------------\u001b[0m",
      "\u001b[0;31mKeyboardInterrupt\u001b[0m                         Traceback (most recent call last)",
      "Cell \u001b[0;32mIn[12], line 13\u001b[0m\n\u001b[1;32m     11\u001b[0m prompt\u001b[39m.\u001b[39mset_device(\u001b[39m'\u001b[39m\u001b[39mcuda\u001b[39m\u001b[39m'\u001b[39m)\n\u001b[1;32m     12\u001b[0m target \u001b[39m=\u001b[39m words[\u001b[39m-\u001b[39m\u001b[39m1\u001b[39m]\n\u001b[0;32m---> 13\u001b[0m gen \u001b[39m=\u001b[39m model\u001b[39m.\u001b[39;49mautoregressive_generate(prompt, \u001b[39mNone\u001b[39;49;00m, \u001b[39m4\u001b[39;49m)\n\u001b[1;32m     14\u001b[0m prompt\u001b[39m.\u001b[39mset_device(\u001b[39m'\u001b[39m\u001b[39mcpu\u001b[39m\u001b[39m'\u001b[39m)\n\u001b[1;32m     15\u001b[0m gen\u001b[39m.\u001b[39mset_device(\u001b[39m'\u001b[39m\u001b[39mcpu\u001b[39m\u001b[39m'\u001b[39m)\n",
      "File \u001b[0;32m~/src/projects/msc_project/LatentPixel/modeling/latent_model.py:229\u001b[0m, in \u001b[0;36mLatentModel.autoregressive_generate\u001b[0;34m(self, prompt, gen_idx, num_new_patches, binary_method, threshold, temperature)\u001b[0m\n\u001b[1;32m    227\u001b[0m \u001b[39mdef\u001b[39;00m \u001b[39mautoregressive_generate\u001b[39m(\u001b[39mself\u001b[39m, prompt: TGraph, gen_idx: \u001b[39mint\u001b[39m, num_new_patches: \u001b[39mint\u001b[39m, binary_method: \u001b[39mstr\u001b[39m\u001b[39m=\u001b[39m\u001b[39m'\u001b[39m\u001b[39mthreshold\u001b[39m\u001b[39m'\u001b[39m, threshold: \u001b[39mfloat\u001b[39m\u001b[39m=\u001b[39m\u001b[39m0.5\u001b[39m, temperature: \u001b[39mfloat\u001b[39m\u001b[39m=\u001b[39m\u001b[39m1.0\u001b[39m) \u001b[39m-\u001b[39m\u001b[39m>\u001b[39m TGraph:\n\u001b[1;32m    228\u001b[0m     \u001b[39mfor\u001b[39;00m _ \u001b[39min\u001b[39;00m \u001b[39mrange\u001b[39m(num_new_patches):\n\u001b[0;32m--> 229\u001b[0m         gen \u001b[39m=\u001b[39m \u001b[39mself\u001b[39;49m\u001b[39m.\u001b[39;49m_generate(prompt, binary_method, threshold, temperature\u001b[39m=\u001b[39;49mtemperature)\n\u001b[1;32m    230\u001b[0m         prompt \u001b[39m=\u001b[39m gen\n\u001b[1;32m    231\u001b[0m     \u001b[39mreturn\u001b[39;00m gen\n",
      "File \u001b[0;32m~/src/projects/msc_project/LatentPixel/modeling/latent_model.py:215\u001b[0m, in \u001b[0;36mLatentModel._generate\u001b[0;34m(self, prompt, binary_method, threshold, temperature)\u001b[0m\n\u001b[1;32m    213\u001b[0m gen \u001b[39m=\u001b[39m TGraph\u001b[39m.\u001b[39mfrom_tgraph(prompt)\n\u001b[1;32m    214\u001b[0m gen\u001b[39m.\u001b[39m_value \u001b[39m=\u001b[39m prompt\u001b[39m.\u001b[39mvalue\n\u001b[0;32m--> 215\u001b[0m output \u001b[39m=\u001b[39m \u001b[39mself\u001b[39;49m\u001b[39m.\u001b[39;49mforward(prompt, temperature\u001b[39m=\u001b[39;49mtemperature)\n\u001b[1;32m    216\u001b[0m \u001b[39mfor\u001b[39;00m idx, num_text \u001b[39min\u001b[39;00m \u001b[39menumerate\u001b[39m(prompt\u001b[39m.\u001b[39mnum_text_patches):\n\u001b[1;32m    217\u001b[0m     bidx \u001b[39m=\u001b[39m (num_text \u001b[39m-\u001b[39m \u001b[39m2\u001b[39m) \u001b[39m*\u001b[39m prompt\u001b[39m.\u001b[39mpatch_len \u001b[39m*\u001b[39m prompt\u001b[39m.\u001b[39mpatch_size            \n",
      "File \u001b[0;32m~/src/projects/msc_project/LatentPixel/modeling/latent_model.py:97\u001b[0m, in \u001b[0;36mLatentModel.forward\u001b[0;34m(self, img, temperature)\u001b[0m\n\u001b[1;32m     95\u001b[0m     img\u001b[39m.\u001b[39mbinary()\n\u001b[1;32m     96\u001b[0m \u001b[39mif\u001b[39;00m \u001b[39mself\u001b[39m\u001b[39m.\u001b[39mcompressor \u001b[39mis\u001b[39;00m \u001b[39mNone\u001b[39;00m:\n\u001b[0;32m---> 97\u001b[0m     recon \u001b[39m=\u001b[39m \u001b[39mself\u001b[39;49m\u001b[39m.\u001b[39;49mlatent_forward(img)\n\u001b[1;32m     98\u001b[0m     recon\u001b[39m.\u001b[39m_labels \u001b[39m=\u001b[39m img\u001b[39m.\u001b[39m_labels\n\u001b[1;32m     99\u001b[0m     \u001b[39mif\u001b[39;00m \u001b[39mself\u001b[39m\u001b[39m.\u001b[39mbinary \u001b[39mand\u001b[39;00m \u001b[39mself\u001b[39m\u001b[39m.\u001b[39mnum_labels \u001b[39mis\u001b[39;00m \u001b[39mNone\u001b[39;00m:\n",
      "File \u001b[0;32m~/src/projects/msc_project/LatentPixel/modeling/llama.py:345\u001b[0m, in \u001b[0;36mLatentLlama.latent_forward\u001b[0;34m(self, img)\u001b[0m\n\u001b[1;32m    343\u001b[0m \u001b[39melse\u001b[39;00m:\n\u001b[1;32m    344\u001b[0m     img_values \u001b[39m=\u001b[39m target\n\u001b[0;32m--> 345\u001b[0m output: BaseModelOutputWithPastAndCrossAttentions \u001b[39m=\u001b[39m \u001b[39mself\u001b[39;49m\u001b[39m.\u001b[39;49mbackbone\u001b[39m.\u001b[39;49mforward(\n\u001b[1;32m    346\u001b[0m     attention_mask\u001b[39m=\u001b[39;49mimg\u001b[39m.\u001b[39;49mattention_mask,\n\u001b[1;32m    347\u001b[0m     inputs_embeds\u001b[39m=\u001b[39;49mimg_values\n\u001b[1;32m    348\u001b[0m )\n\u001b[1;32m    349\u001b[0m pred \u001b[39m=\u001b[39m output\u001b[39m.\u001b[39mlast_hidden_state\n\u001b[1;32m    351\u001b[0m \u001b[39m# attention_mask = mask2img(img.attention_mask, self.latent_patch_size, self.patch_len)\u001b[39;00m\n\u001b[1;32m    352\u001b[0m \u001b[39m# patch_width = self.latent_patch_size * self.patch_len\u001b[39;00m\n\u001b[1;32m    353\u001b[0m \u001b[39m# attention_mask.unsqueeze_(1)    # add the channel dimension\u001b[39;00m\n\u001b[0;32m   (...)\u001b[0m\n\u001b[1;32m    356\u001b[0m \u001b[39m# loss = (pred[..., :-patch_width] - img_values[..., patch_width:]) ** 2\u001b[39;00m\n\u001b[1;32m    357\u001b[0m \u001b[39m# loss = (loss * attention_mask).sum() / (attention_mask.sum() * self.num_latent_channel)  # mean loss on removed patches\u001b[39;00m\n",
      "File \u001b[0;32m~/src/projects/msc_project/LatentPixel/modeling/llama.py:270\u001b[0m, in \u001b[0;36mLlamaForPatchCausalInference.forward\u001b[0;34m(self, input_ids, past_key_values, attention_mask, token_type_ids, position_ids, head_mask, inputs_embeds, encoder_hidden_states, encoder_attention_mask, use_cache, output_attentions, output_hidden_states, return_dict, ignore_out_proj)\u001b[0m\n\u001b[1;32m    266\u001b[0m     layer_outputs \u001b[39m=\u001b[39m torch\u001b[39m.\u001b[39mutils\u001b[39m.\u001b[39mcheckpoint\u001b[39m.\u001b[39mcheckpoint(\n\u001b[1;32m    267\u001b[0m         create_custom_forward(decoder_layer), hidden_states, attention_mask, position_ids\n\u001b[1;32m    268\u001b[0m     )\n\u001b[1;32m    269\u001b[0m \u001b[39melse\u001b[39;00m:\n\u001b[0;32m--> 270\u001b[0m     layer_outputs \u001b[39m=\u001b[39m decoder_layer(\n\u001b[1;32m    271\u001b[0m         hidden_states,\n\u001b[1;32m    272\u001b[0m         attention_mask\u001b[39m=\u001b[39;49mattention_mask,\n\u001b[1;32m    273\u001b[0m         position_ids\u001b[39m=\u001b[39;49mposition_ids,\n\u001b[1;32m    274\u001b[0m         past_key_value\u001b[39m=\u001b[39;49mpast_key_value,\n\u001b[1;32m    275\u001b[0m         output_attentions\u001b[39m=\u001b[39;49moutput_attentions,\n\u001b[1;32m    276\u001b[0m         use_cache\u001b[39m=\u001b[39;49muse_cache,\n\u001b[1;32m    277\u001b[0m         padding_mask\u001b[39m=\u001b[39;49mpadding_mask,\n\u001b[1;32m    278\u001b[0m     )\n\u001b[1;32m    280\u001b[0m hidden_states \u001b[39m=\u001b[39m layer_outputs[\u001b[39m0\u001b[39m]\n\u001b[1;32m    282\u001b[0m \u001b[39mif\u001b[39;00m use_cache:\n",
      "File \u001b[0;32m~/data/miniconda3/envs/pixel/lib/python3.10/site-packages/torch/nn/modules/module.py:1518\u001b[0m, in \u001b[0;36mModule._wrapped_call_impl\u001b[0;34m(self, *args, **kwargs)\u001b[0m\n\u001b[1;32m   1516\u001b[0m     \u001b[39mreturn\u001b[39;00m \u001b[39mself\u001b[39m\u001b[39m.\u001b[39m_compiled_call_impl(\u001b[39m*\u001b[39margs, \u001b[39m*\u001b[39m\u001b[39m*\u001b[39mkwargs)  \u001b[39m# type: ignore[misc]\u001b[39;00m\n\u001b[1;32m   1517\u001b[0m \u001b[39melse\u001b[39;00m:\n\u001b[0;32m-> 1518\u001b[0m     \u001b[39mreturn\u001b[39;00m \u001b[39mself\u001b[39;49m\u001b[39m.\u001b[39;49m_call_impl(\u001b[39m*\u001b[39;49margs, \u001b[39m*\u001b[39;49m\u001b[39m*\u001b[39;49mkwargs)\n",
      "File \u001b[0;32m~/data/miniconda3/envs/pixel/lib/python3.10/site-packages/torch/nn/modules/module.py:1527\u001b[0m, in \u001b[0;36mModule._call_impl\u001b[0;34m(self, *args, **kwargs)\u001b[0m\n\u001b[1;32m   1522\u001b[0m \u001b[39m# If we don't have any hooks, we want to skip the rest of the logic in\u001b[39;00m\n\u001b[1;32m   1523\u001b[0m \u001b[39m# this function, and just call forward.\u001b[39;00m\n\u001b[1;32m   1524\u001b[0m \u001b[39mif\u001b[39;00m \u001b[39mnot\u001b[39;00m (\u001b[39mself\u001b[39m\u001b[39m.\u001b[39m_backward_hooks \u001b[39mor\u001b[39;00m \u001b[39mself\u001b[39m\u001b[39m.\u001b[39m_backward_pre_hooks \u001b[39mor\u001b[39;00m \u001b[39mself\u001b[39m\u001b[39m.\u001b[39m_forward_hooks \u001b[39mor\u001b[39;00m \u001b[39mself\u001b[39m\u001b[39m.\u001b[39m_forward_pre_hooks\n\u001b[1;32m   1525\u001b[0m         \u001b[39mor\u001b[39;00m _global_backward_pre_hooks \u001b[39mor\u001b[39;00m _global_backward_hooks\n\u001b[1;32m   1526\u001b[0m         \u001b[39mor\u001b[39;00m _global_forward_hooks \u001b[39mor\u001b[39;00m _global_forward_pre_hooks):\n\u001b[0;32m-> 1527\u001b[0m     \u001b[39mreturn\u001b[39;00m forward_call(\u001b[39m*\u001b[39;49margs, \u001b[39m*\u001b[39;49m\u001b[39m*\u001b[39;49mkwargs)\n\u001b[1;32m   1529\u001b[0m \u001b[39mtry\u001b[39;00m:\n\u001b[1;32m   1530\u001b[0m     result \u001b[39m=\u001b[39m \u001b[39mNone\u001b[39;00m\n",
      "File \u001b[0;32m~/src/projects/msc_project/LatentPixel/modeling/llama.py:92\u001b[0m, in \u001b[0;36mLlamaDecoderLayer.forward\u001b[0;34m(self, hidden_states, attention_mask, position_ids, past_key_value, output_attentions, use_cache, padding_mask)\u001b[0m\n\u001b[1;32m     90\u001b[0m residual \u001b[39m=\u001b[39m hidden_states\n\u001b[1;32m     91\u001b[0m hidden_states \u001b[39m=\u001b[39m \u001b[39mself\u001b[39m\u001b[39m.\u001b[39mpost_attention_layernorm(hidden_states)\n\u001b[0;32m---> 92\u001b[0m hidden_states \u001b[39m=\u001b[39m \u001b[39mself\u001b[39;49m\u001b[39m.\u001b[39;49mmlp(hidden_states)\n\u001b[1;32m     93\u001b[0m hidden_states \u001b[39m=\u001b[39m residual \u001b[39m+\u001b[39m hidden_states\n\u001b[1;32m     95\u001b[0m outputs \u001b[39m=\u001b[39m (hidden_states,)\n",
      "File \u001b[0;32m~/data/miniconda3/envs/pixel/lib/python3.10/site-packages/torch/nn/modules/module.py:1518\u001b[0m, in \u001b[0;36mModule._wrapped_call_impl\u001b[0;34m(self, *args, **kwargs)\u001b[0m\n\u001b[1;32m   1516\u001b[0m     \u001b[39mreturn\u001b[39;00m \u001b[39mself\u001b[39m\u001b[39m.\u001b[39m_compiled_call_impl(\u001b[39m*\u001b[39margs, \u001b[39m*\u001b[39m\u001b[39m*\u001b[39mkwargs)  \u001b[39m# type: ignore[misc]\u001b[39;00m\n\u001b[1;32m   1517\u001b[0m \u001b[39melse\u001b[39;00m:\n\u001b[0;32m-> 1518\u001b[0m     \u001b[39mreturn\u001b[39;00m \u001b[39mself\u001b[39;49m\u001b[39m.\u001b[39;49m_call_impl(\u001b[39m*\u001b[39;49margs, \u001b[39m*\u001b[39;49m\u001b[39m*\u001b[39;49mkwargs)\n",
      "File \u001b[0;32m~/data/miniconda3/envs/pixel/lib/python3.10/site-packages/torch/nn/modules/module.py:1527\u001b[0m, in \u001b[0;36mModule._call_impl\u001b[0;34m(self, *args, **kwargs)\u001b[0m\n\u001b[1;32m   1522\u001b[0m \u001b[39m# If we don't have any hooks, we want to skip the rest of the logic in\u001b[39;00m\n\u001b[1;32m   1523\u001b[0m \u001b[39m# this function, and just call forward.\u001b[39;00m\n\u001b[1;32m   1524\u001b[0m \u001b[39mif\u001b[39;00m \u001b[39mnot\u001b[39;00m (\u001b[39mself\u001b[39m\u001b[39m.\u001b[39m_backward_hooks \u001b[39mor\u001b[39;00m \u001b[39mself\u001b[39m\u001b[39m.\u001b[39m_backward_pre_hooks \u001b[39mor\u001b[39;00m \u001b[39mself\u001b[39m\u001b[39m.\u001b[39m_forward_hooks \u001b[39mor\u001b[39;00m \u001b[39mself\u001b[39m\u001b[39m.\u001b[39m_forward_pre_hooks\n\u001b[1;32m   1525\u001b[0m         \u001b[39mor\u001b[39;00m _global_backward_pre_hooks \u001b[39mor\u001b[39;00m _global_backward_hooks\n\u001b[1;32m   1526\u001b[0m         \u001b[39mor\u001b[39;00m _global_forward_hooks \u001b[39mor\u001b[39;00m _global_forward_pre_hooks):\n\u001b[0;32m-> 1527\u001b[0m     \u001b[39mreturn\u001b[39;00m forward_call(\u001b[39m*\u001b[39;49margs, \u001b[39m*\u001b[39;49m\u001b[39m*\u001b[39;49mkwargs)\n\u001b[1;32m   1529\u001b[0m \u001b[39mtry\u001b[39;00m:\n\u001b[1;32m   1530\u001b[0m     result \u001b[39m=\u001b[39m \u001b[39mNone\u001b[39;00m\n",
      "File \u001b[0;32m~/data/miniconda3/envs/pixel/lib/python3.10/site-packages/transformers/models/llama/modeling_llama.py:247\u001b[0m, in \u001b[0;36mLlamaMLP.forward\u001b[0;34m(self, x)\u001b[0m\n\u001b[1;32m    245\u001b[0m     down_proj \u001b[39m=\u001b[39m \u001b[39msum\u001b[39m(down_proj)\n\u001b[1;32m    246\u001b[0m \u001b[39melse\u001b[39;00m:\n\u001b[0;32m--> 247\u001b[0m     down_proj \u001b[39m=\u001b[39m \u001b[39mself\u001b[39m\u001b[39m.\u001b[39mdown_proj(\u001b[39mself\u001b[39m\u001b[39m.\u001b[39mact_fn(\u001b[39mself\u001b[39m\u001b[39m.\u001b[39mgate_proj(x)) \u001b[39m*\u001b[39m \u001b[39mself\u001b[39;49m\u001b[39m.\u001b[39;49mup_proj(x))\n\u001b[1;32m    249\u001b[0m \u001b[39mreturn\u001b[39;00m down_proj\n",
      "File \u001b[0;32m~/data/miniconda3/envs/pixel/lib/python3.10/site-packages/torch/nn/modules/module.py:1518\u001b[0m, in \u001b[0;36mModule._wrapped_call_impl\u001b[0;34m(self, *args, **kwargs)\u001b[0m\n\u001b[1;32m   1516\u001b[0m     \u001b[39mreturn\u001b[39;00m \u001b[39mself\u001b[39m\u001b[39m.\u001b[39m_compiled_call_impl(\u001b[39m*\u001b[39margs, \u001b[39m*\u001b[39m\u001b[39m*\u001b[39mkwargs)  \u001b[39m# type: ignore[misc]\u001b[39;00m\n\u001b[1;32m   1517\u001b[0m \u001b[39melse\u001b[39;00m:\n\u001b[0;32m-> 1518\u001b[0m     \u001b[39mreturn\u001b[39;00m \u001b[39mself\u001b[39;49m\u001b[39m.\u001b[39;49m_call_impl(\u001b[39m*\u001b[39;49margs, \u001b[39m*\u001b[39;49m\u001b[39m*\u001b[39;49mkwargs)\n",
      "File \u001b[0;32m~/data/miniconda3/envs/pixel/lib/python3.10/site-packages/torch/nn/modules/module.py:1527\u001b[0m, in \u001b[0;36mModule._call_impl\u001b[0;34m(self, *args, **kwargs)\u001b[0m\n\u001b[1;32m   1522\u001b[0m \u001b[39m# If we don't have any hooks, we want to skip the rest of the logic in\u001b[39;00m\n\u001b[1;32m   1523\u001b[0m \u001b[39m# this function, and just call forward.\u001b[39;00m\n\u001b[1;32m   1524\u001b[0m \u001b[39mif\u001b[39;00m \u001b[39mnot\u001b[39;00m (\u001b[39mself\u001b[39m\u001b[39m.\u001b[39m_backward_hooks \u001b[39mor\u001b[39;00m \u001b[39mself\u001b[39m\u001b[39m.\u001b[39m_backward_pre_hooks \u001b[39mor\u001b[39;00m \u001b[39mself\u001b[39m\u001b[39m.\u001b[39m_forward_hooks \u001b[39mor\u001b[39;00m \u001b[39mself\u001b[39m\u001b[39m.\u001b[39m_forward_pre_hooks\n\u001b[1;32m   1525\u001b[0m         \u001b[39mor\u001b[39;00m _global_backward_pre_hooks \u001b[39mor\u001b[39;00m _global_backward_hooks\n\u001b[1;32m   1526\u001b[0m         \u001b[39mor\u001b[39;00m _global_forward_hooks \u001b[39mor\u001b[39;00m _global_forward_pre_hooks):\n\u001b[0;32m-> 1527\u001b[0m     \u001b[39mreturn\u001b[39;00m forward_call(\u001b[39m*\u001b[39;49margs, \u001b[39m*\u001b[39;49m\u001b[39m*\u001b[39;49mkwargs)\n\u001b[1;32m   1529\u001b[0m \u001b[39mtry\u001b[39;00m:\n\u001b[1;32m   1530\u001b[0m     result \u001b[39m=\u001b[39m \u001b[39mNone\u001b[39;00m\n",
      "File \u001b[0;32m~/data/miniconda3/envs/pixel/lib/python3.10/site-packages/torch/nn/modules/linear.py:114\u001b[0m, in \u001b[0;36mLinear.forward\u001b[0;34m(self, input)\u001b[0m\n\u001b[1;32m    113\u001b[0m \u001b[39mdef\u001b[39;00m \u001b[39mforward\u001b[39m(\u001b[39mself\u001b[39m, \u001b[39minput\u001b[39m: Tensor) \u001b[39m-\u001b[39m\u001b[39m>\u001b[39m Tensor:\n\u001b[0;32m--> 114\u001b[0m     \u001b[39mreturn\u001b[39;00m F\u001b[39m.\u001b[39;49mlinear(\u001b[39minput\u001b[39;49m, \u001b[39mself\u001b[39;49m\u001b[39m.\u001b[39;49mweight, \u001b[39mself\u001b[39;49m\u001b[39m.\u001b[39;49mbias)\n",
      "\u001b[0;31mKeyboardInterrupt\u001b[0m: "
     ]
    }
   ],
   "source": [
    "model = LatentLlama(backbone_path='storage/checkpoints/1MGan/gan_ratio_10/3000/backbone', num_channels=1, patch_len=2, patch_size=8)\n",
    "\n",
    "model.eval()\n",
    "model.cuda()\n",
    "generated = []\n",
    "for txt in tqdm(data['text']):\n",
    "    words = txt.split()\n",
    "    prompt = process_lambda(' '.join(words[:-1]))\n",
    "    prompt = TGraph.from_text([prompt])\n",
    "    prompt = prompt._spacing_text(3)\n",
    "    prompt.set_device('cuda')\n",
    "    target = words[-1]\n",
    "    gen = model.autoregressive_generate(prompt, None, 4)\n",
    "    prompt.set_device('cpu')\n",
    "    gen.set_device('cpu')\n",
    "    generated.append((prompt, target, gen))\n",
    "result = evaluate_babi(generated, vocab)\n",
    "print(result)"
   ]
  },
  {
   "cell_type": "markdown",
   "metadata": {},
   "source": [
    "## GAN Model with 7.0 Gan_ratio\n",
    "\n",
    "```\n",
    "/exports/eddie3_homes_local/s1891075/msc_project/train.py --task gan_pretrain --model LatentLlama --exp_type full_gan --backbone_path /home/s1891075/msc_project/storage/checkpoints/pretrain/lpixel_pretrain/LatentLlama/20231202-215356/900000/backbone --dataset_path storage/BooksAndWiki2 --discriminator_path self --shuffle_dataset false --optim AdamW --lr 3e-5 --beta1 0.9 --beta2 0.95 --decay 0.1 --total_steps 5000 --stop_step 5000 --warm_up_step 100 --save_freq 200 --eval_freq 200 --gan_lr 3e-5 --gan_lr_warm_up_steps 100 --gan_total_steps 5000 --gan_ratio 7.0 --gan_ratio_warm_up_steps 100 --seed 42 --batch_size 128 --sub_size 64 --dpi 80 --font_size 8 --font_file PixeloidSans-mLxMm.ttf --pixels_per_patch 8 --patch_len 2 --num_channel 1 --binary true --rgb false --max_seq_length 720 --mix_precision fp16 --half_coder false --mp_workers 16 --prerendered false --is_continue_train false --num_gpu_per_node 2 --num_node 1\n",
    "```\n",
    "\n",
    "#### 1. 200 steps ckpt"
   ]
  },
  {
   "cell_type": "code",
   "execution_count": 4,
   "metadata": {},
   "outputs": [
    {
     "name": "stdout",
     "output_type": "stream",
     "text": [
      "Coder path is none, do not load compressor for this model\n"
     ]
    },
    {
     "name": "stderr",
     "output_type": "stream",
     "text": [
      "100%|██████████| 5153/5153 [03:49<00:00, 22.44it/s]\n"
     ]
    }
   ],
   "source": [
    "model = LatentLlama(backbone_path='/home/tai/src/projects/msc_project/storage/checkpoints/1MGan/gan_ratio_7_0/200/backbone', num_channels=1, patch_len=2, patch_size=8)\n",
    "\n",
    "model.eval()\n",
    "model.cuda()\n",
    "generated = []\n",
    "with torch.no_grad():\n",
    "    for txt in tqdm(data['text']):\n",
    "        words = txt.split()\n",
    "        prompt = process_lambda(' '.join(words[:-1]))\n",
    "        prompt = TGraph.from_text([prompt])\n",
    "        prompt = prompt._spacing_text(3)\n",
    "        prompt.set_device('cuda')\n",
    "        target = words[-1]\n",
    "        gen = model.autoregressive_generate(prompt, None, 4)\n",
    "        prompt.set_device('cpu')\n",
    "        gen.set_device('cpu')\n",
    "        generated.append((prompt, target, gen))\n"
   ]
  },
  {
   "cell_type": "code",
   "execution_count": 23,
   "metadata": {},
   "outputs": [
    {
     "name": "stdout",
     "output_type": "stream",
     "text": [
      "\n",
      "\n",
      "--------------------------------------\n",
      "C++ Traceback (most recent call last):\n",
      "--------------------------------------\n",
      "No stack trace in paddle, may be caused by external reasons.\n",
      "\n",
      "----------------------\n",
      "Error Message Summary:\n",
      "----------------------\n",
      "FatalError: `Termination signal` is detected by the operating system.\n",
      "  [TimeInfo: *** Aborted at 1702255616 (unix time) try \"date -d @1702255616\" if you are using GNU date ***]\n",
      "  [SignalInfo: *** SIGTERM (@0x3e8001c3433) received by PID 1861542 (TID 0x7f5206588740) from PID 1848371 ***]\n",
      "\n",
      "\n",
      "\n",
      "--------------------------------------\n",
      "C++ Traceback (most recent call last):\n",
      "--------------------------------------\n",
      "No stack trace in paddle, may be caused by external reasons.\n",
      "\n",
      "----------------------\n",
      "Error Message Summary:\n",
      "----------------------\n",
      "FatalError: `Termination signal` is detected by the operating system.\n",
      "  [TimeInfo: *** Aborted at 1702255616 (unix time) try \"date -d @1702255616\" if you are using GNU date ***]\n",
      "  [SignalInfo: *** SIGTERM (@0x3e8001c3433) received by PID 1861562 (TID 0x7f5206588740) from PID 1848371 ***]\n",
      "\n",
      "\n",
      "\n",
      "--------------------------------------\n",
      "C++ Traceback (most recent call last):\n",
      "--------------------------------------\n",
      "No stack trace in paddle, may be caused by external reasons.\n",
      "\n",
      "----------------------\n",
      "Error Message Summary:\n",
      "----------------------\n",
      "FatalError: `Termination signal` is detected by the operating system.\n",
      "  [TimeInfo: *** Aborted at 1702255616 (unix time) try \"date -d @1702255616\" if you are using GNU date ***]\n",
      "  [SignalInfo: *** SIGTERM (@0x3e8001c3433) received by PID 1861556 (TID 0x7f5206588740) from PID 1848371 ***]\n",
      "\n"
     ]
    },
    {
     "data": {
      "text/plain": [
       "(0.03473704638074908, 0.03764797205511353, 0.7259848631864934)"
      ]
     },
     "execution_count": 23,
     "metadata": {},
     "output_type": "execute_result"
    }
   ],
   "source": [
    "evaluate(generated, vocab)"
   ]
  },
  {
   "cell_type": "markdown",
   "metadata": {},
   "source": [
    "#### 2. 400 steps ckpt"
   ]
  },
  {
   "cell_type": "code",
   "execution_count": 24,
   "metadata": {},
   "outputs": [
    {
     "name": "stdout",
     "output_type": "stream",
     "text": [
      "Coder path is none, do not load compressor for this model\n"
     ]
    },
    {
     "name": "stderr",
     "output_type": "stream",
     "text": [
      "100%|██████████| 5153/5153 [03:16<00:00, 26.18it/s]\n"
     ]
    },
    {
     "name": "stdout",
     "output_type": "stream",
     "text": [
      "\n",
      "\n",
      "--------------------------------------\n",
      "C++ Traceback (most recent call last):\n",
      "--------------------------------------\n",
      "No stack trace in paddle, may be caused by external reasons.\n",
      "\n",
      "----------------------\n",
      "Error Message Summary:\n",
      "----------------------\n",
      "FatalError: `Termination signal` is detected by the operating system.\n",
      "  [TimeInfo: *** Aborted at 1702255982 (unix time) try \"date -d @1702255982\" if you are using GNU date ***]\n",
      "  [SignalInfo: *** SIGTERM (@0x3e8001c3433) received by PID 1884260 (TID 0x7f5206588740) from PID 1848371 ***]\n",
      "\n"
     ]
    },
    {
     "data": {
      "text/plain": [
       "(0.03240830584125752, 0.03784203376673782, 0.6627207451969727)"
      ]
     },
     "execution_count": 24,
     "metadata": {},
     "output_type": "execute_result"
    }
   ],
   "source": [
    "model = LatentLlama(backbone_path='/home/tai/src/projects/msc_project/storage/checkpoints/1MGan/gan_ratio_7_0/400/backbone', num_channels=1, patch_len=2, patch_size=8)\n",
    "\n",
    "model.eval()\n",
    "model.cuda()\n",
    "generated = []\n",
    "with torch.no_grad():\n",
    "    for txt in tqdm(data['text']):\n",
    "        words = txt.split()\n",
    "        prompt = process_lambda(' '.join(words[:-1]))\n",
    "        prompt = TGraph.from_text([prompt])\n",
    "        prompt = prompt._spacing_text(3)\n",
    "        prompt.set_device('cuda')\n",
    "        target = words[-1]\n",
    "        gen = model.autoregressive_generate(prompt, None, 4)\n",
    "        prompt.set_device('cpu')\n",
    "        gen.set_device('cpu')\n",
    "        generated.append((prompt, target, gen))\n",
    "        \n",
    "for g in generated:\n",
    "    g[2]._value = g[2]._value.to('cpu')\n",
    "evaluate(generated, vocab)"
   ]
  },
  {
   "cell_type": "markdown",
   "metadata": {},
   "source": [
    "#### 3. 600 steps ckpt"
   ]
  },
  {
   "cell_type": "code",
   "execution_count": 25,
   "metadata": {},
   "outputs": [
    {
     "name": "stdout",
     "output_type": "stream",
     "text": [
      "Coder path is none, do not load compressor for this model\n"
     ]
    },
    {
     "name": "stderr",
     "output_type": "stream",
     "text": [
      "100%|██████████| 5153/5153 [03:17<00:00, 26.10it/s]\n"
     ]
    },
    {
     "name": "stdout",
     "output_type": "stream",
     "text": [
      "\n",
      "\n",
      "--------------------------------------\n",
      "C++ Traceback (most recent call last):\n",
      "--------------------------------------\n",
      "No stack trace in paddle, may be caused by external reasons.\n",
      "\n",
      "----------------------\n",
      "Error Message Summary:\n",
      "----------------------\n",
      "FatalError: `Termination signal` is detected by the operating system.\n",
      "  [TimeInfo: *** Aborted at 1702256343 (unix time) try \"date -d @1702256343\" if you are using GNU date ***]\n",
      "  [SignalInfo: *** SIGTERM (@0x3e8001c3433) received by PID 1907462 (TID 0x7f5206588740) from PID 1848371 ***]\n",
      "\n",
      "\n",
      "\n",
      "--------------------------------------\n",
      "C++ Traceback (most recent call last):\n",
      "--------------------------------------\n",
      "No stack trace in paddle, may be caused by external reasons.\n",
      "\n",
      "----------------------\n",
      "Error Message Summary:\n",
      "----------------------\n",
      "FatalError: `Termination signal` is detected by the operating system.\n",
      "  [TimeInfo: *** Aborted at 1702256343 (unix time) try \"date -d @1702256343\" if you are using GNU date ***]\n",
      "  [SignalInfo: *** SIGTERM (@0x3e8001c3433) received by PID 1907456 (TID 0x7f5206588740) from PID 1848371 ***]\n",
      "\n"
     ]
    },
    {
     "data": {
      "text/plain": [
       "(0.03279642926450611, 0.03978265088298079, 0.6708713370851931)"
      ]
     },
     "execution_count": 25,
     "metadata": {},
     "output_type": "execute_result"
    }
   ],
   "source": [
    "model = LatentLlama(backbone_path='/home/tai/src/projects/msc_project/storage/checkpoints/1MGan/gan_ratio_7_0/600/backbone', num_channels=1, patch_len=2, patch_size=8)\n",
    "\n",
    "model.eval()\n",
    "model.cuda()\n",
    "generated = []\n",
    "with torch.no_grad():\n",
    "    for txt in tqdm(data['text']):\n",
    "        words = txt.split()\n",
    "        prompt = process_lambda(' '.join(words[:-1]))\n",
    "        prompt = TGraph.from_text([prompt])\n",
    "        prompt = prompt._spacing_text(3)\n",
    "        prompt.set_device('cuda')\n",
    "        target = words[-1]\n",
    "        gen = model.autoregressive_generate(prompt, None, 4)\n",
    "        prompt.set_device('cpu')\n",
    "        gen.set_device('cpu')\n",
    "        generated.append((prompt, target, gen))\n",
    "        \n",
    "for g in generated:\n",
    "    g[2]._value = g[2]._value.to('cpu')\n",
    "evaluate(generated, vocab)"
   ]
  },
  {
   "cell_type": "markdown",
   "metadata": {},
   "source": [
    "## GAN Model with 5.0 Gan_ratio\n",
    "\n",
    "```\n",
    "/exports/eddie3_homes_local/s1891075/msc_project/train.py --task gan_pretrain --model LatentLlama --exp_type full_gan --backbone_path /home/s1891075/msc_project/storage/checkpoints/pretrain/lpixel_pretrain/LatentLlama/20231202-215356/900000/backbone --dataset_path storage/BooksAndWiki2 --discriminator_path self --shuffle_dataset false --optim AdamW --lr 3e-5 --beta1 0.9 --beta2 0.95 --decay 0.1 --total_steps 5000 --stop_step 5000 --warm_up_step 100 --save_freq 200 --eval_freq 200 --gan_lr 3e-5 --gan_lr_warm_up_steps 100 --gan_total_steps 5000 --gan_ratio 5.0 --gan_ratio_warm_up_steps 100 --seed 42 --batch_size 128 --sub_size 64 --dpi 80 --font_size 8 --font_file PixeloidSans-mLxMm.ttf --pixels_per_patch 8 --patch_len 2 --num_channel 1 --binary true --rgb false --max_seq_length 720 --mix_precision fp16 --half_coder false --mp_workers 16 --prerendered false --is_continue_train false --num_gpu_per_node 2 --num_node 1\n",
    "```\n",
    "\n",
    "#### 1. 200 steps ckpt"
   ]
  },
  {
   "cell_type": "code",
   "execution_count": 26,
   "metadata": {},
   "outputs": [
    {
     "name": "stdout",
     "output_type": "stream",
     "text": [
      "Coder path is none, do not load compressor for this model\n"
     ]
    },
    {
     "name": "stderr",
     "output_type": "stream",
     "text": [
      "100%|██████████| 5153/5153 [03:17<00:00, 26.08it/s]\n"
     ]
    },
    {
     "name": "stdout",
     "output_type": "stream",
     "text": [
      "\n",
      "\n",
      "--------------------------------------\n",
      "C++ Traceback (most recent call last):\n",
      "--------------------------------------\n",
      "No stack trace in paddle, may be caused by external reasons.\n",
      "\n",
      "----------------------\n",
      "Error Message Summary:\n",
      "----------------------\n",
      "FatalError: `Termination signal` is detected by the operating system.\n",
      "  [TimeInfo: *** Aborted at 1702256707 (unix time) try \"date -d @1702256707\" if you are using GNU date ***]\n",
      "  [SignalInfo: *** SIGTERM (@0x3e8001c3433) received by PID 1930383 (TID 0x7f5206588740) from PID 1848371 ***]\n",
      "\n",
      "\n",
      "\n",
      "--------------------------------------\n",
      "C++ Traceback (most recent call last):\n",
      "--------------------------------------\n",
      "No stack trace in paddle, may be caused by external reasons.\n",
      "\n",
      "----------------------\n",
      "Error Message Summary:\n",
      "----------------------\n",
      "FatalError: `Termination signal` is detected by the operating system.\n",
      "  [TimeInfo: *** Aborted at 1702256707 (unix time) try \"date -d @1702256707\" if you are using GNU date ***]\n",
      "  [SignalInfo: *** SIGTERM (@0x3e8001c3433) received by PID 1930397 (TID 0x7f5206588740) from PID 1848371 ***]\n",
      "\n",
      "\n",
      "\n",
      "--------------------------------------\n",
      "C++ Traceback (most recent call last):\n",
      "--------------------------------------\n",
      "No stack trace in paddle, may be caused by external reasons.\n",
      "\n",
      "----------------------\n",
      "Error Message Summary:\n",
      "----------------------\n",
      "FatalError: `Termination signal` is detected by the operating system.\n",
      "  [TimeInfo: *** Aborted at 1702256707 (unix time) try \"date -d @1702256707\" if you are using GNU date ***]\n",
      "  [SignalInfo: *** SIGTERM (@0x3e8001c3433) received by PID 1930387 (TID 0x7f5206588740) from PID 1848371 ***]\n",
      "\n"
     ]
    },
    {
     "data": {
      "text/plain": [
       "(0.021346788278672618, 0.022705220260042694, 0.7292839122841064)"
      ]
     },
     "execution_count": 26,
     "metadata": {},
     "output_type": "execute_result"
    }
   ],
   "source": [
    "model = LatentLlama(backbone_path='/home/tai/src/projects/msc_project/storage/checkpoints/1MGan/gan_ratio_5_0/200/backbone', num_channels=1, patch_len=2, patch_size=8)\n",
    "\n",
    "model.eval()\n",
    "model.cuda()\n",
    "generated = []\n",
    "with torch.no_grad():\n",
    "    for txt in tqdm(data['text']):\n",
    "        words = txt.split()\n",
    "        prompt = process_lambda(' '.join(words[:-1]))\n",
    "        prompt = TGraph.from_text([prompt])\n",
    "        prompt = prompt._spacing_text(3)\n",
    "        prompt.set_device('cuda')\n",
    "        target = words[-1]\n",
    "        gen = model.autoregressive_generate(prompt, None, 4)\n",
    "        prompt.set_device('cpu')\n",
    "        gen.set_device('cpu')\n",
    "        generated.append((prompt, target, gen))\n",
    "        \n",
    "for g in generated:\n",
    "    g[2]._value = g[2]._value.to('cpu')\n",
    "evaluate(generated, vocab)"
   ]
  },
  {
   "cell_type": "markdown",
   "metadata": {},
   "source": [
    "#### 2. 400 steps ckpt"
   ]
  },
  {
   "cell_type": "code",
   "execution_count": 27,
   "metadata": {},
   "outputs": [
    {
     "name": "stdout",
     "output_type": "stream",
     "text": [
      "Coder path is none, do not load compressor for this model\n"
     ]
    },
    {
     "name": "stderr",
     "output_type": "stream",
     "text": [
      "100%|██████████| 5153/5153 [03:16<00:00, 26.24it/s]\n"
     ]
    },
    {
     "name": "stdout",
     "output_type": "stream",
     "text": [
      "\n",
      "\n",
      "--------------------------------------\n",
      "C++ Traceback (most recent call last):\n",
      "--------------------------------------\n",
      "No stack trace in paddle, may be caused by external reasons.\n",
      "\n",
      "----------------------\n",
      "Error Message Summary:\n",
      "----------------------\n",
      "FatalError: `Termination signal` is detected by the operating system.\n",
      "  [TimeInfo: *** Aborted at 1702257067 (unix time) try \"date -d @1702257067\" if you are using GNU date ***]\n",
      "  [SignalInfo: *** SIGTERM (@0x3e8001c3433) received by PID 1953435 (TID 0x7f5206588740) from PID 1848371 ***]\n",
      "\n"
     ]
    },
    {
     "data": {
      "text/plain": [
       "(0.0027168639627401514, 0.002522802251115855, 0.7374345041723268)"
      ]
     },
     "execution_count": 27,
     "metadata": {},
     "output_type": "execute_result"
    }
   ],
   "source": [
    "model = LatentLlama(backbone_path='/home/tai/src/projects/msc_project/storage/checkpoints/1MGan/gan_ratio_5_0/400/backbone', num_channels=1, patch_len=2, patch_size=8)\n",
    "\n",
    "model.eval()\n",
    "model.cuda()\n",
    "generated = []\n",
    "with torch.no_grad():\n",
    "    for txt in tqdm(data['text']):\n",
    "        words = txt.split()\n",
    "        prompt = process_lambda(' '.join(words[:-1]))\n",
    "        prompt = TGraph.from_text([prompt])\n",
    "        prompt = prompt._spacing_text(3)\n",
    "        prompt.set_device('cuda')\n",
    "        target = words[-1]\n",
    "        gen = model.autoregressive_generate(prompt, None, 4)\n",
    "        prompt.set_device('cpu')\n",
    "        gen.set_device('cpu')\n",
    "        generated.append((prompt, target, gen))\n",
    "        \n",
    "for g in generated:\n",
    "    g[2]._value = g[2]._value.to('cpu')\n",
    "evaluate(generated, vocab)"
   ]
  },
  {
   "cell_type": "markdown",
   "metadata": {},
   "source": [
    "#### 3. 600 steps ckpt"
   ]
  },
  {
   "cell_type": "code",
   "execution_count": 28,
   "metadata": {},
   "outputs": [
    {
     "name": "stdout",
     "output_type": "stream",
     "text": [
      "Coder path is none, do not load compressor for this model\n"
     ]
    },
    {
     "name": "stderr",
     "output_type": "stream",
     "text": [
      "100%|██████████| 5153/5153 [03:16<00:00, 26.21it/s]\n"
     ]
    },
    {
     "name": "stdout",
     "output_type": "stream",
     "text": [
      "\n",
      "\n",
      "--------------------------------------\n",
      "C++ Traceback (most recent call last):\n",
      "--------------------------------------\n",
      "No stack trace in paddle, may be caused by external reasons.\n",
      "\n",
      "----------------------\n",
      "Error Message Summary:\n",
      "----------------------\n",
      "FatalError: `Termination signal` is detected by the operating system.\n",
      "  [TimeInfo: *** Aborted at 1702257425 (unix time) try \"date -d @1702257425\" if you are using GNU date ***]\n",
      "  [SignalInfo: *** SIGTERM (@0x3e8001c3433) received by PID 1976549 (TID 0x7f5206588740) from PID 1848371 ***]\n",
      "\n"
     ]
    },
    {
     "data": {
      "text/plain": [
       "(0.004657481078983117, 0.00504560450223171, 0.8847273432951679)"
      ]
     },
     "execution_count": 28,
     "metadata": {},
     "output_type": "execute_result"
    }
   ],
   "source": [
    "model = LatentLlama(backbone_path='/home/tai/src/projects/msc_project/storage/checkpoints/1MGan/gan_ratio_5_0/600/backbone', num_channels=1, patch_len=2, patch_size=8)\n",
    "\n",
    "model.eval()\n",
    "model.cuda()\n",
    "generated = []\n",
    "with torch.no_grad():\n",
    "    for txt in tqdm(data['text']):\n",
    "        words = txt.split()\n",
    "        prompt = process_lambda(' '.join(words[:-1]))\n",
    "        prompt = TGraph.from_text([prompt])\n",
    "        prompt = prompt._spacing_text(3)\n",
    "        prompt.set_device('cuda')\n",
    "        target = words[-1]\n",
    "        gen = model.autoregressive_generate(prompt, None, 4)\n",
    "        prompt.set_device('cpu')\n",
    "        gen.set_device('cpu')\n",
    "        generated.append((prompt, target, gen))\n",
    "        \n",
    "for g in generated:\n",
    "    g[2]._value = g[2]._value.to('cpu')\n",
    "evaluate(generated, vocab)"
   ]
  },
  {
   "cell_type": "markdown",
   "metadata": {},
   "source": [
    "## GAN Model with 3.0 Gan_ratio\n",
    "\n",
    "```\n",
    "/exports/eddie3_homes_local/s1891075/msc_project/train.py --task gan_pretrain --model LatentLlama --exp_type full_gan --backbone_path /home/s1891075/msc_project/storage/checkpoints/pretrain/lpixel_pretrain/LatentLlama/20231202-215356/900000/backbone --dataset_path storage/BooksAndWiki2 --discriminator_path self --shuffle_dataset false --optim AdamW --lr 3e-5 --beta1 0.9 --beta2 0.95 --decay 0.1 --total_steps 5000 --stop_step 5000 --warm_up_step 100 --save_freq 200 --eval_freq 200 --gan_lr 3e-5 --gan_lr_warm_up_steps 100 --gan_total_steps 5000 --gan_ratio 3.0 --gan_ratio_warm_up_steps 100 --seed 42 --batch_size 128 --sub_size 64 --dpi 80 --font_size 8 --font_file PixeloidSans-mLxMm.ttf --pixels_per_patch 8 --patch_len 2 --num_channel 1 --binary true --rgb false --max_seq_length 720 --mix_precision fp16 --half_coder false --mp_workers 16 --prerendered false --is_continue_train false --num_gpu_per_node 2 --num_node 1\n",
    "```\n",
    "\n",
    "#### 1. 200 steps ckpt"
   ]
  },
  {
   "cell_type": "code",
   "execution_count": 29,
   "metadata": {},
   "outputs": [
    {
     "name": "stdout",
     "output_type": "stream",
     "text": [
      "Coder path is none, do not load compressor for this model\n"
     ]
    },
    {
     "ename": "OSError",
     "evalue": "Can't load the configuration of '/home/tai/src/projects/msc_project/storage/checkpoints/1MGan/gan_ratio_3_0/200/backbone'. If you were trying to load it from 'https://huggingface.co/models', make sure you don't have a local directory with the same name. Otherwise, make sure '/home/tai/src/projects/msc_project/storage/checkpoints/1MGan/gan_ratio_3_0/200/backbone' is the correct path to a directory containing a config.json file",
     "output_type": "error",
     "traceback": [
      "\u001b[0;31m---------------------------------------------------------------------------\u001b[0m",
      "\u001b[0;31mHFValidationError\u001b[0m                         Traceback (most recent call last)",
      "File \u001b[0;32m~/data/miniconda3/envs/pixel/lib/python3.10/site-packages/transformers/configuration_utils.py:675\u001b[0m, in \u001b[0;36mPretrainedConfig._get_config_dict\u001b[0;34m(cls, pretrained_model_name_or_path, **kwargs)\u001b[0m\n\u001b[1;32m    673\u001b[0m \u001b[39mtry\u001b[39;00m:\n\u001b[1;32m    674\u001b[0m     \u001b[39m# Load from local folder or from cache or download from model Hub and cache\u001b[39;00m\n\u001b[0;32m--> 675\u001b[0m     resolved_config_file \u001b[39m=\u001b[39m cached_file(\n\u001b[1;32m    676\u001b[0m         pretrained_model_name_or_path,\n\u001b[1;32m    677\u001b[0m         configuration_file,\n\u001b[1;32m    678\u001b[0m         cache_dir\u001b[39m=\u001b[39;49mcache_dir,\n\u001b[1;32m    679\u001b[0m         force_download\u001b[39m=\u001b[39;49mforce_download,\n\u001b[1;32m    680\u001b[0m         proxies\u001b[39m=\u001b[39;49mproxies,\n\u001b[1;32m    681\u001b[0m         resume_download\u001b[39m=\u001b[39;49mresume_download,\n\u001b[1;32m    682\u001b[0m         local_files_only\u001b[39m=\u001b[39;49mlocal_files_only,\n\u001b[1;32m    683\u001b[0m         token\u001b[39m=\u001b[39;49mtoken,\n\u001b[1;32m    684\u001b[0m         user_agent\u001b[39m=\u001b[39;49muser_agent,\n\u001b[1;32m    685\u001b[0m         revision\u001b[39m=\u001b[39;49mrevision,\n\u001b[1;32m    686\u001b[0m         subfolder\u001b[39m=\u001b[39;49msubfolder,\n\u001b[1;32m    687\u001b[0m         _commit_hash\u001b[39m=\u001b[39;49mcommit_hash,\n\u001b[1;32m    688\u001b[0m     )\n\u001b[1;32m    689\u001b[0m     commit_hash \u001b[39m=\u001b[39m extract_commit_hash(resolved_config_file, commit_hash)\n",
      "File \u001b[0;32m~/data/miniconda3/envs/pixel/lib/python3.10/site-packages/transformers/utils/hub.py:429\u001b[0m, in \u001b[0;36mcached_file\u001b[0;34m(path_or_repo_id, filename, cache_dir, force_download, resume_download, proxies, token, revision, local_files_only, subfolder, repo_type, user_agent, _raise_exceptions_for_missing_entries, _raise_exceptions_for_connection_errors, _commit_hash, **deprecated_kwargs)\u001b[0m\n\u001b[1;32m    427\u001b[0m \u001b[39mtry\u001b[39;00m:\n\u001b[1;32m    428\u001b[0m     \u001b[39m# Load from URL or cache if already cached\u001b[39;00m\n\u001b[0;32m--> 429\u001b[0m     resolved_file \u001b[39m=\u001b[39m hf_hub_download(\n\u001b[1;32m    430\u001b[0m         path_or_repo_id,\n\u001b[1;32m    431\u001b[0m         filename,\n\u001b[1;32m    432\u001b[0m         subfolder\u001b[39m=\u001b[39;49m\u001b[39mNone\u001b[39;49;00m \u001b[39mif\u001b[39;49;00m \u001b[39mlen\u001b[39;49m(subfolder) \u001b[39m==\u001b[39;49m \u001b[39m0\u001b[39;49m \u001b[39melse\u001b[39;49;00m subfolder,\n\u001b[1;32m    433\u001b[0m         repo_type\u001b[39m=\u001b[39;49mrepo_type,\n\u001b[1;32m    434\u001b[0m         revision\u001b[39m=\u001b[39;49mrevision,\n\u001b[1;32m    435\u001b[0m         cache_dir\u001b[39m=\u001b[39;49mcache_dir,\n\u001b[1;32m    436\u001b[0m         user_agent\u001b[39m=\u001b[39;49muser_agent,\n\u001b[1;32m    437\u001b[0m         force_download\u001b[39m=\u001b[39;49mforce_download,\n\u001b[1;32m    438\u001b[0m         proxies\u001b[39m=\u001b[39;49mproxies,\n\u001b[1;32m    439\u001b[0m         resume_download\u001b[39m=\u001b[39;49mresume_download,\n\u001b[1;32m    440\u001b[0m         token\u001b[39m=\u001b[39;49mtoken,\n\u001b[1;32m    441\u001b[0m         local_files_only\u001b[39m=\u001b[39;49mlocal_files_only,\n\u001b[1;32m    442\u001b[0m     )\n\u001b[1;32m    443\u001b[0m \u001b[39mexcept\u001b[39;00m GatedRepoError \u001b[39mas\u001b[39;00m e:\n",
      "File \u001b[0;32m~/data/miniconda3/envs/pixel/lib/python3.10/site-packages/huggingface_hub/utils/_validators.py:110\u001b[0m, in \u001b[0;36mvalidate_hf_hub_args.<locals>._inner_fn\u001b[0;34m(*args, **kwargs)\u001b[0m\n\u001b[1;32m    109\u001b[0m \u001b[39mif\u001b[39;00m arg_name \u001b[39min\u001b[39;00m [\u001b[39m\"\u001b[39m\u001b[39mrepo_id\u001b[39m\u001b[39m\"\u001b[39m, \u001b[39m\"\u001b[39m\u001b[39mfrom_id\u001b[39m\u001b[39m\"\u001b[39m, \u001b[39m\"\u001b[39m\u001b[39mto_id\u001b[39m\u001b[39m\"\u001b[39m]:\n\u001b[0;32m--> 110\u001b[0m     validate_repo_id(arg_value)\n\u001b[1;32m    112\u001b[0m \u001b[39melif\u001b[39;00m arg_name \u001b[39m==\u001b[39m \u001b[39m\"\u001b[39m\u001b[39mtoken\u001b[39m\u001b[39m\"\u001b[39m \u001b[39mand\u001b[39;00m arg_value \u001b[39mis\u001b[39;00m \u001b[39mnot\u001b[39;00m \u001b[39mNone\u001b[39;00m:\n",
      "File \u001b[0;32m~/data/miniconda3/envs/pixel/lib/python3.10/site-packages/huggingface_hub/utils/_validators.py:158\u001b[0m, in \u001b[0;36mvalidate_repo_id\u001b[0;34m(repo_id)\u001b[0m\n\u001b[1;32m    157\u001b[0m \u001b[39mif\u001b[39;00m repo_id\u001b[39m.\u001b[39mcount(\u001b[39m\"\u001b[39m\u001b[39m/\u001b[39m\u001b[39m\"\u001b[39m) \u001b[39m>\u001b[39m \u001b[39m1\u001b[39m:\n\u001b[0;32m--> 158\u001b[0m     \u001b[39mraise\u001b[39;00m HFValidationError(\n\u001b[1;32m    159\u001b[0m         \u001b[39m\"\u001b[39m\u001b[39mRepo id must be in the form \u001b[39m\u001b[39m'\u001b[39m\u001b[39mrepo_name\u001b[39m\u001b[39m'\u001b[39m\u001b[39m or \u001b[39m\u001b[39m'\u001b[39m\u001b[39mnamespace/repo_name\u001b[39m\u001b[39m'\u001b[39m\u001b[39m:\u001b[39m\u001b[39m\"\u001b[39m\n\u001b[1;32m    160\u001b[0m         \u001b[39mf\u001b[39m\u001b[39m\"\u001b[39m\u001b[39m \u001b[39m\u001b[39m'\u001b[39m\u001b[39m{\u001b[39;00mrepo_id\u001b[39m}\u001b[39;00m\u001b[39m'\u001b[39m\u001b[39m. Use `repo_type` argument if needed.\u001b[39m\u001b[39m\"\u001b[39m\n\u001b[1;32m    161\u001b[0m     )\n\u001b[1;32m    163\u001b[0m \u001b[39mif\u001b[39;00m \u001b[39mnot\u001b[39;00m REPO_ID_REGEX\u001b[39m.\u001b[39mmatch(repo_id):\n",
      "\u001b[0;31mHFValidationError\u001b[0m: Repo id must be in the form 'repo_name' or 'namespace/repo_name': '/home/tai/src/projects/msc_project/storage/checkpoints/1MGan/gan_ratio_3_0/200/backbone'. Use `repo_type` argument if needed.",
      "\nDuring handling of the above exception, another exception occurred:\n",
      "\u001b[0;31mOSError\u001b[0m                                   Traceback (most recent call last)",
      "Cell \u001b[0;32mIn[29], line 1\u001b[0m\n\u001b[0;32m----> 1\u001b[0m model \u001b[39m=\u001b[39m LatentLlama(backbone_path\u001b[39m=\u001b[39;49m\u001b[39m'\u001b[39;49m\u001b[39m/home/tai/src/projects/msc_project/storage/checkpoints/1MGan/gan_ratio_3_0/200/backbone\u001b[39;49m\u001b[39m'\u001b[39;49m, num_channels\u001b[39m=\u001b[39;49m\u001b[39m1\u001b[39;49m, patch_len\u001b[39m=\u001b[39;49m\u001b[39m2\u001b[39;49m, patch_size\u001b[39m=\u001b[39;49m\u001b[39m8\u001b[39;49m)\n\u001b[1;32m      3\u001b[0m model\u001b[39m.\u001b[39meval()\n\u001b[1;32m      4\u001b[0m model\u001b[39m.\u001b[39mcuda()\n",
      "File \u001b[0;32m~/src/projects/msc_project/LatentPixel/modeling/latent_model.py:56\u001b[0m, in \u001b[0;36mLatentModel.__init__\u001b[0;34m(self, compressor_path, backbone_path, compressor_name, num_channels, num_labels, patch_size, patch_len, binary)\u001b[0m\n\u001b[1;32m     53\u001b[0m     \u001b[39mself\u001b[39m\u001b[39m.\u001b[39mnum_latent_channel \u001b[39m=\u001b[39m \u001b[39mself\u001b[39m\u001b[39m.\u001b[39mcompressor\u001b[39m.\u001b[39mconfig\u001b[39m.\u001b[39mnum_latent_channel\n\u001b[1;32m     54\u001b[0m     \u001b[39mself\u001b[39m\u001b[39m.\u001b[39mlatent_patch_size \u001b[39m=\u001b[39m patch_size \u001b[39m/\u001b[39m\u001b[39m/\u001b[39m \u001b[39mself\u001b[39m\u001b[39m.\u001b[39mcompressor\u001b[39m.\u001b[39mconfig\u001b[39m.\u001b[39mcompress_ratio\n\u001b[0;32m---> 56\u001b[0m \u001b[39mself\u001b[39m\u001b[39m.\u001b[39mbackbone \u001b[39m=\u001b[39m \u001b[39mself\u001b[39;49m\u001b[39m.\u001b[39;49mload_backbone(\n\u001b[1;32m     57\u001b[0m     path\u001b[39m=\u001b[39;49mbackbone_path,\n\u001b[1;32m     58\u001b[0m     num_latent_channel\u001b[39m=\u001b[39;49m\u001b[39mself\u001b[39;49m\u001b[39m.\u001b[39;49mnum_latent_channel,\n\u001b[1;32m     59\u001b[0m     latent_patch_size\u001b[39m=\u001b[39;49m\u001b[39mself\u001b[39;49m\u001b[39m.\u001b[39;49mlatent_patch_size,\n\u001b[1;32m     60\u001b[0m     patch_len\u001b[39m=\u001b[39;49m\u001b[39mself\u001b[39;49m\u001b[39m.\u001b[39;49mpatch_len,\n\u001b[1;32m     61\u001b[0m     num_labels\u001b[39m=\u001b[39;49m\u001b[39mself\u001b[39;49m\u001b[39m.\u001b[39;49mnum_labels,\n\u001b[1;32m     62\u001b[0m     binary\u001b[39m=\u001b[39;49m\u001b[39mself\u001b[39;49m\u001b[39m.\u001b[39;49mbinary\n\u001b[1;32m     63\u001b[0m )\n\u001b[1;32m     65\u001b[0m problems, ok \u001b[39m=\u001b[39m \u001b[39mself\u001b[39m\u001b[39m.\u001b[39mcheck_structure()\n\u001b[1;32m     66\u001b[0m \u001b[39mif\u001b[39;00m \u001b[39mnot\u001b[39;00m ok:\n",
      "File \u001b[0;32m~/src/projects/msc_project/LatentPixel/modeling/llama.py:314\u001b[0m, in \u001b[0;36mLatentLlama.load_backbone\u001b[0;34m(self, path, num_latent_channel, latent_patch_size, patch_len, num_labels, binary)\u001b[0m\n\u001b[1;32m    313\u001b[0m \u001b[39mdef\u001b[39;00m \u001b[39mload_backbone\u001b[39m(\u001b[39mself\u001b[39m, path: \u001b[39mstr\u001b[39m \u001b[39m|\u001b[39m PathLike, num_latent_channel: \u001b[39mint\u001b[39m, latent_patch_size: \u001b[39mint\u001b[39m, patch_len: \u001b[39mint\u001b[39m, num_labels: \u001b[39mint\u001b[39m, binary: \u001b[39mbool\u001b[39m) \u001b[39m-\u001b[39m\u001b[39m>\u001b[39m nn\u001b[39m.\u001b[39mModule:\n\u001b[0;32m--> 314\u001b[0m     Llama_config \u001b[39m=\u001b[39m LlamaConfig\u001b[39m.\u001b[39;49mfrom_pretrained(path)\n\u001b[1;32m    316\u001b[0m     \u001b[39msetattr\u001b[39m(Llama_config, \u001b[39m'\u001b[39m\u001b[39mnum_channel\u001b[39m\u001b[39m'\u001b[39m, num_latent_channel)\n\u001b[1;32m    317\u001b[0m     \u001b[39msetattr\u001b[39m(Llama_config, \u001b[39m'\u001b[39m\u001b[39mpatch_size\u001b[39m\u001b[39m'\u001b[39m, latent_patch_size)\n",
      "File \u001b[0;32m~/data/miniconda3/envs/pixel/lib/python3.10/site-packages/transformers/configuration_utils.py:591\u001b[0m, in \u001b[0;36mPretrainedConfig.from_pretrained\u001b[0;34m(cls, pretrained_model_name_or_path, cache_dir, force_download, local_files_only, token, revision, **kwargs)\u001b[0m\n\u001b[1;32m    587\u001b[0m kwargs[\u001b[39m\"\u001b[39m\u001b[39mrevision\u001b[39m\u001b[39m\"\u001b[39m] \u001b[39m=\u001b[39m revision\n\u001b[1;32m    589\u001b[0m \u001b[39mcls\u001b[39m\u001b[39m.\u001b[39m_set_token_in_kwargs(kwargs, token)\n\u001b[0;32m--> 591\u001b[0m config_dict, kwargs \u001b[39m=\u001b[39m \u001b[39mcls\u001b[39;49m\u001b[39m.\u001b[39;49mget_config_dict(pretrained_model_name_or_path, \u001b[39m*\u001b[39;49m\u001b[39m*\u001b[39;49mkwargs)\n\u001b[1;32m    592\u001b[0m \u001b[39mif\u001b[39;00m \u001b[39m\"\u001b[39m\u001b[39mmodel_type\u001b[39m\u001b[39m\"\u001b[39m \u001b[39min\u001b[39;00m config_dict \u001b[39mand\u001b[39;00m \u001b[39mhasattr\u001b[39m(\u001b[39mcls\u001b[39m, \u001b[39m\"\u001b[39m\u001b[39mmodel_type\u001b[39m\u001b[39m\"\u001b[39m) \u001b[39mand\u001b[39;00m config_dict[\u001b[39m\"\u001b[39m\u001b[39mmodel_type\u001b[39m\u001b[39m\"\u001b[39m] \u001b[39m!=\u001b[39m \u001b[39mcls\u001b[39m\u001b[39m.\u001b[39mmodel_type:\n\u001b[1;32m    593\u001b[0m     logger\u001b[39m.\u001b[39mwarning(\n\u001b[1;32m    594\u001b[0m         \u001b[39mf\u001b[39m\u001b[39m\"\u001b[39m\u001b[39mYou are using a model of type \u001b[39m\u001b[39m{\u001b[39;00mconfig_dict[\u001b[39m'\u001b[39m\u001b[39mmodel_type\u001b[39m\u001b[39m'\u001b[39m]\u001b[39m}\u001b[39;00m\u001b[39m to instantiate a model of type \u001b[39m\u001b[39m\"\u001b[39m\n\u001b[1;32m    595\u001b[0m         \u001b[39mf\u001b[39m\u001b[39m\"\u001b[39m\u001b[39m{\u001b[39;00m\u001b[39mcls\u001b[39m\u001b[39m.\u001b[39mmodel_type\u001b[39m}\u001b[39;00m\u001b[39m. This is not supported for all configurations of models and can yield errors.\u001b[39m\u001b[39m\"\u001b[39m\n\u001b[1;32m    596\u001b[0m     )\n",
      "File \u001b[0;32m~/data/miniconda3/envs/pixel/lib/python3.10/site-packages/transformers/configuration_utils.py:620\u001b[0m, in \u001b[0;36mPretrainedConfig.get_config_dict\u001b[0;34m(cls, pretrained_model_name_or_path, **kwargs)\u001b[0m\n\u001b[1;32m    618\u001b[0m original_kwargs \u001b[39m=\u001b[39m copy\u001b[39m.\u001b[39mdeepcopy(kwargs)\n\u001b[1;32m    619\u001b[0m \u001b[39m# Get config dict associated with the base config file\u001b[39;00m\n\u001b[0;32m--> 620\u001b[0m config_dict, kwargs \u001b[39m=\u001b[39m \u001b[39mcls\u001b[39;49m\u001b[39m.\u001b[39;49m_get_config_dict(pretrained_model_name_or_path, \u001b[39m*\u001b[39;49m\u001b[39m*\u001b[39;49mkwargs)\n\u001b[1;32m    621\u001b[0m \u001b[39mif\u001b[39;00m \u001b[39m\"\u001b[39m\u001b[39m_commit_hash\u001b[39m\u001b[39m\"\u001b[39m \u001b[39min\u001b[39;00m config_dict:\n\u001b[1;32m    622\u001b[0m     original_kwargs[\u001b[39m\"\u001b[39m\u001b[39m_commit_hash\u001b[39m\u001b[39m\"\u001b[39m] \u001b[39m=\u001b[39m config_dict[\u001b[39m\"\u001b[39m\u001b[39m_commit_hash\u001b[39m\u001b[39m\"\u001b[39m]\n",
      "File \u001b[0;32m~/data/miniconda3/envs/pixel/lib/python3.10/site-packages/transformers/configuration_utils.py:696\u001b[0m, in \u001b[0;36mPretrainedConfig._get_config_dict\u001b[0;34m(cls, pretrained_model_name_or_path, **kwargs)\u001b[0m\n\u001b[1;32m    693\u001b[0m         \u001b[39mraise\u001b[39;00m\n\u001b[1;32m    694\u001b[0m     \u001b[39mexcept\u001b[39;00m \u001b[39mException\u001b[39;00m:\n\u001b[1;32m    695\u001b[0m         \u001b[39m# For any other exception, we throw a generic error.\u001b[39;00m\n\u001b[0;32m--> 696\u001b[0m         \u001b[39mraise\u001b[39;00m \u001b[39mEnvironmentError\u001b[39;00m(\n\u001b[1;32m    697\u001b[0m             \u001b[39mf\u001b[39m\u001b[39m\"\u001b[39m\u001b[39mCan\u001b[39m\u001b[39m'\u001b[39m\u001b[39mt load the configuration of \u001b[39m\u001b[39m'\u001b[39m\u001b[39m{\u001b[39;00mpretrained_model_name_or_path\u001b[39m}\u001b[39;00m\u001b[39m'\u001b[39m\u001b[39m. If you were trying to load it\u001b[39m\u001b[39m\"\u001b[39m\n\u001b[1;32m    698\u001b[0m             \u001b[39m\"\u001b[39m\u001b[39m from \u001b[39m\u001b[39m'\u001b[39m\u001b[39mhttps://huggingface.co/models\u001b[39m\u001b[39m'\u001b[39m\u001b[39m, make sure you don\u001b[39m\u001b[39m'\u001b[39m\u001b[39mt have a local directory with the same\u001b[39m\u001b[39m\"\u001b[39m\n\u001b[1;32m    699\u001b[0m             \u001b[39mf\u001b[39m\u001b[39m\"\u001b[39m\u001b[39m name. Otherwise, make sure \u001b[39m\u001b[39m'\u001b[39m\u001b[39m{\u001b[39;00mpretrained_model_name_or_path\u001b[39m}\u001b[39;00m\u001b[39m'\u001b[39m\u001b[39m is the correct path to a directory\u001b[39m\u001b[39m\"\u001b[39m\n\u001b[1;32m    700\u001b[0m             \u001b[39mf\u001b[39m\u001b[39m\"\u001b[39m\u001b[39m containing a \u001b[39m\u001b[39m{\u001b[39;00mconfiguration_file\u001b[39m}\u001b[39;00m\u001b[39m file\u001b[39m\u001b[39m\"\u001b[39m\n\u001b[1;32m    701\u001b[0m         )\n\u001b[1;32m    703\u001b[0m \u001b[39mtry\u001b[39;00m:\n\u001b[1;32m    704\u001b[0m     \u001b[39m# Load config dict\u001b[39;00m\n\u001b[1;32m    705\u001b[0m     config_dict \u001b[39m=\u001b[39m \u001b[39mcls\u001b[39m\u001b[39m.\u001b[39m_dict_from_json_file(resolved_config_file)\n",
      "\u001b[0;31mOSError\u001b[0m: Can't load the configuration of '/home/tai/src/projects/msc_project/storage/checkpoints/1MGan/gan_ratio_3_0/200/backbone'. If you were trying to load it from 'https://huggingface.co/models', make sure you don't have a local directory with the same name. Otherwise, make sure '/home/tai/src/projects/msc_project/storage/checkpoints/1MGan/gan_ratio_3_0/200/backbone' is the correct path to a directory containing a config.json file"
     ]
    }
   ],
   "source": [
    "model = LatentLlama(backbone_path='/home/tai/src/projects/msc_project/storage/checkpoints/1MGan/gan_ratio_3_0/200/backbone', num_channels=1, patch_len=2, patch_size=8)\n",
    "\n",
    "model.eval()\n",
    "model.cuda()\n",
    "generated = []\n",
    "with torch.no_grad():\n",
    "    for txt in tqdm(data['text']):\n",
    "        words = txt.split()\n",
    "        prompt = process_lambda(' '.join(words[:-1]))\n",
    "        prompt = TGraph.from_text([prompt])\n",
    "        prompt = prompt._spacing_text(3)\n",
    "        prompt.set_device('cuda')\n",
    "        target = words[-1]\n",
    "        gen = model.autoregressive_generate(prompt, None, 4)\n",
    "        prompt.set_device('cpu')\n",
    "        gen.set_device('cpu')\n",
    "        generated.append((prompt, target, gen))\n",
    "        \n",
    "for g in generated:\n",
    "    g[2]._value = g[2]._value.to('cpu')\n",
    "evaluate(generated, vocab)"
   ]
  },
  {
   "cell_type": "markdown",
   "metadata": {},
   "source": [
    "#### 2. 400 steps ckpt"
   ]
  },
  {
   "cell_type": "code",
   "execution_count": null,
   "metadata": {},
   "outputs": [],
   "source": [
    "model = LatentLlama(backbone_path='/home/tai/src/projects/msc_project/storage/checkpoints/1MGan/gan_ratio_3_0/400/backbone', num_channels=1, patch_len=2, patch_size=8)\n",
    "\n",
    "model.eval()\n",
    "model.cuda()\n",
    "generated = []\n",
    "with torch.no_grad():\n",
    "    for txt in tqdm(data['text']):\n",
    "        words = txt.split()\n",
    "        prompt = process_lambda(' '.join(words[:-1]))\n",
    "        prompt = TGraph.from_text([prompt])\n",
    "        prompt = prompt._spacing_text(3)\n",
    "        prompt.set_device('cuda')\n",
    "        target = words[-1]\n",
    "        gen = model.autoregressive_generate(prompt, None, 4)\n",
    "        prompt.set_device('cpu')\n",
    "        gen.set_device('cpu')\n",
    "        generated.append((prompt, target, gen))\n",
    "        \n",
    "for g in generated:\n",
    "    g[2]._value = g[2]._value.to('cpu')\n",
    "evaluate(generated, vocab)"
   ]
  },
  {
   "cell_type": "markdown",
   "metadata": {},
   "source": [
    "#### 3. 600 steps ckpt"
   ]
  },
  {
   "cell_type": "code",
   "execution_count": null,
   "metadata": {},
   "outputs": [],
   "source": [
    "model = LatentLlama(backbone_path='/home/tai/src/projects/msc_project/storage/checkpoints/1MGan/gan_ratio_3_0/600/backbone', num_channels=1, patch_len=2, patch_size=8)\n",
    "\n",
    "model.eval()\n",
    "model.cuda()\n",
    "generated = []\n",
    "with torch.no_grad():\n",
    "    for txt in tqdm(data['text']):\n",
    "        words = txt.split()\n",
    "        prompt = process_lambda(' '.join(words[:-1]))\n",
    "        prompt = TGraph.from_text([prompt])\n",
    "        prompt = prompt._spacing_text(3)\n",
    "        prompt.set_device('cuda')\n",
    "        target = words[-1]\n",
    "        gen = model.autoregressive_generate(prompt, None, 4)\n",
    "        prompt.set_device('cpu')\n",
    "        gen.set_device('cpu')\n",
    "        generated.append((prompt, target, gen))\n",
    "        \n",
    "for g in generated:\n",
    "    g[2]._value = g[2]._value.to('cpu')\n",
    "evaluate(generated, vocab)"
   ]
  },
  {
   "cell_type": "markdown",
   "metadata": {},
   "source": [
    "## GAN Model with 1.0 Gan_ratio\n",
    "\n",
    "```\n",
    "/exports/eddie3_homes_local/s1891075/msc_project/train.py --task gan_pretrain --model LatentLlama --exp_type full_gan --backbone_path /home/s1891075/msc_project/storage/checkpoints/pretrain/lpixel_pretrain/LatentLlama/20231202-215356/900000/backbone --dataset_path storage/BooksAndWiki2 --discriminator_path self --shuffle_dataset false --optim AdamW --lr 3e-5 --beta1 0.9 --beta2 0.95 --decay 0.1 --total_steps 5000 --stop_step 5000 --warm_up_step 100 --save_freq 200 --eval_freq 200 --gan_lr 3e-5 --gan_lr_warm_up_steps 100 --gan_total_steps 5000 --gan_ratio 1.0 --gan_ratio_warm_up_steps 100 --seed 42 --batch_size 128 --sub_size 64 --dpi 80 --font_size 8 --font_file PixeloidSans-mLxMm.ttf --pixels_per_patch 8 --patch_len 2 --num_channel 1 --binary true --rgb false --max_seq_length 720 --mix_precision fp16 --half_coder false --mp_workers 16 --prerendered false --is_continue_train false --num_gpu_per_node 2 --num_node 1\n",
    "```\n",
    "\n",
    "#### 1. 200 steps ckpt"
   ]
  },
  {
   "cell_type": "code",
   "execution_count": null,
   "metadata": {},
   "outputs": [],
   "source": [
    "model = LatentLlama(backbone_path='/home/tai/src/projects/msc_project/storage/checkpoints/1MGan/gan_ratio_1_0/200/backbone', num_channels=1, patch_len=2, patch_size=8)\n",
    "\n",
    "model.eval()\n",
    "model.cuda()\n",
    "generated = []\n",
    "with torch.no_grad():\n",
    "    for txt in tqdm(data['text']):\n",
    "        words = txt.split()\n",
    "        prompt = process_lambda(' '.join(words[:-1]))\n",
    "        prompt = TGraph.from_text([prompt])\n",
    "        prompt = prompt._spacing_text(3)\n",
    "        prompt.set_device('cuda')\n",
    "        target = words[-1]\n",
    "        gen = model.autoregressive_generate(prompt, None, 4)\n",
    "        prompt.set_device('cpu')\n",
    "        gen.set_device('cpu')\n",
    "        generated.append((prompt, target, gen))\n",
    "        \n",
    "for g in generated:\n",
    "    g[2]._value = g[2]._value.to('cpu')\n",
    "evaluate(generated, vocab)"
   ]
  },
  {
   "cell_type": "markdown",
   "metadata": {},
   "source": [
    "#### 2. 400 steps ckpt"
   ]
  },
  {
   "cell_type": "code",
   "execution_count": null,
   "metadata": {},
   "outputs": [],
   "source": [
    "model = LatentLlama(backbone_path='/home/tai/src/projects/msc_project/storage/checkpoints/1MGan/gan_ratio_1_0/400/backbone', num_channels=1, patch_len=2, patch_size=8)\n",
    "\n",
    "model.eval()\n",
    "model.cuda()\n",
    "generated = []\n",
    "with torch.no_grad():\n",
    "    for txt in tqdm(data['text']):\n",
    "        words = txt.split()\n",
    "        prompt = process_lambda(' '.join(words[:-1]))\n",
    "        prompt = TGraph.from_text([prompt])\n",
    "        prompt = prompt._spacing_text(3)\n",
    "        prompt.set_device('cuda')\n",
    "        target = words[-1]\n",
    "        gen = model.autoregressive_generate(prompt, None, 4)\n",
    "        prompt.set_device('cpu')\n",
    "        gen.set_device('cpu')\n",
    "        generated.append((prompt, target, gen))\n",
    "        \n",
    "for g in generated:\n",
    "    g[2]._value = g[2]._value.to('cpu')\n",
    "evaluate(generated, vocab)"
   ]
  },
  {
   "cell_type": "markdown",
   "metadata": {},
   "source": [
    "#### 3. 600 steps ckpt"
   ]
  },
  {
   "cell_type": "code",
   "execution_count": null,
   "metadata": {},
   "outputs": [],
   "source": [
    "model = LatentLlama(backbone_path='/home/tai/src/projects/msc_project/storage/checkpoints/1MGan/gan_ratio_1_0/600/backbone', num_channels=1, patch_len=2, patch_size=8)\n",
    "\n",
    "model.eval()\n",
    "model.cuda()\n",
    "generated = []\n",
    "with torch.no_grad():\n",
    "    for txt in tqdm(data['text']):\n",
    "        words = txt.split()\n",
    "        prompt = process_lambda(' '.join(words[:-1]))\n",
    "        prompt = TGraph.from_text([prompt])\n",
    "        prompt = prompt._spacing_text(3)\n",
    "        prompt.set_device('cuda')\n",
    "        target = words[-1]\n",
    "        gen = model.autoregressive_generate(prompt, None, 4)\n",
    "        prompt.set_device('cpu')\n",
    "        gen.set_device('cpu')\n",
    "        generated.append((prompt, target, gen))\n",
    "        \n",
    "for g in generated:\n",
    "    g[2]._value = g[2]._value.to('cpu')\n",
    "evaluate(generated, vocab)"
   ]
  },
  {
   "cell_type": "markdown",
   "metadata": {},
   "source": [
    "## Evaluation for 85M models"
   ]
  },
  {
   "cell_type": "code",
   "execution_count": 26,
   "metadata": {},
   "outputs": [
    {
     "name": "stdout",
     "output_type": "stream",
     "text": [
      "Coder path is none, do not load compressor for this model\n"
     ]
    }
   ],
   "source": [
    "model = LatentLlama(backbone_path='storage/checkpoints/1MGan/gan_ratio_10/200/backbone', num_channels=1, patch_len=2, patch_size=8)\n"
   ]
  },
  {
   "cell_type": "code",
   "execution_count": 32,
   "metadata": {},
   "outputs": [
    {
     "name": "stderr",
     "output_type": "stream",
     "text": [
      "  0%|          | 0/5153 [00:00<?, ?it/s]"
     ]
    },
    {
     "name": "stderr",
     "output_type": "stream",
     "text": [
      "  4%|▎         | 186/5153 [00:07<03:11, 25.96it/s]\n"
     ]
    },
    {
     "ename": "KeyboardInterrupt",
     "evalue": "",
     "output_type": "error",
     "traceback": [
      "\u001b[0;31m---------------------------------------------------------------------------\u001b[0m",
      "\u001b[0;31mKeyboardInterrupt\u001b[0m                         Traceback (most recent call last)",
      "Cell \u001b[0;32mIn[32], line 12\u001b[0m\n\u001b[1;32m     10\u001b[0m prompt\u001b[39m.\u001b[39mset_device(\u001b[39m'\u001b[39m\u001b[39mcuda\u001b[39m\u001b[39m'\u001b[39m)\n\u001b[1;32m     11\u001b[0m target \u001b[39m=\u001b[39m words[\u001b[39m-\u001b[39m\u001b[39m1\u001b[39m]\n\u001b[0;32m---> 12\u001b[0m gen \u001b[39m=\u001b[39m model\u001b[39m.\u001b[39;49mautoregressive_generate(prompt, \u001b[39mNone\u001b[39;49;00m, \u001b[39m4\u001b[39;49m)\n\u001b[1;32m     13\u001b[0m prompt\u001b[39m.\u001b[39mset_device(\u001b[39m'\u001b[39m\u001b[39mcpu\u001b[39m\u001b[39m'\u001b[39m)\n\u001b[1;32m     14\u001b[0m gen\u001b[39m.\u001b[39mset_device(\u001b[39m'\u001b[39m\u001b[39mcpu\u001b[39m\u001b[39m'\u001b[39m)\n",
      "File \u001b[0;32m~/src/projects/msc_project/LatentPixel/modeling/latent_model.py:229\u001b[0m, in \u001b[0;36mLatentModel.autoregressive_generate\u001b[0;34m(self, prompt, gen_idx, num_new_patches, binary_method, threshold, temperature)\u001b[0m\n\u001b[1;32m    227\u001b[0m \u001b[39mdef\u001b[39;00m \u001b[39mautoregressive_generate\u001b[39m(\u001b[39mself\u001b[39m, prompt: TGraph, gen_idx: \u001b[39mint\u001b[39m, num_new_patches: \u001b[39mint\u001b[39m, binary_method: \u001b[39mstr\u001b[39m\u001b[39m=\u001b[39m\u001b[39m'\u001b[39m\u001b[39mthreshold\u001b[39m\u001b[39m'\u001b[39m, threshold: \u001b[39mfloat\u001b[39m\u001b[39m=\u001b[39m\u001b[39m0.5\u001b[39m, temperature: \u001b[39mfloat\u001b[39m\u001b[39m=\u001b[39m\u001b[39m1.0\u001b[39m) \u001b[39m-\u001b[39m\u001b[39m>\u001b[39m TGraph:\n\u001b[1;32m    228\u001b[0m     \u001b[39mfor\u001b[39;00m _ \u001b[39min\u001b[39;00m \u001b[39mrange\u001b[39m(num_new_patches):\n\u001b[0;32m--> 229\u001b[0m         gen \u001b[39m=\u001b[39m \u001b[39mself\u001b[39;49m\u001b[39m.\u001b[39;49m_generate(prompt, binary_method, threshold, temperature\u001b[39m=\u001b[39;49mtemperature)\n\u001b[1;32m    230\u001b[0m         prompt \u001b[39m=\u001b[39m gen\n\u001b[1;32m    231\u001b[0m     \u001b[39mreturn\u001b[39;00m gen\n",
      "File \u001b[0;32m~/src/projects/msc_project/LatentPixel/modeling/latent_model.py:215\u001b[0m, in \u001b[0;36mLatentModel._generate\u001b[0;34m(self, prompt, binary_method, threshold, temperature)\u001b[0m\n\u001b[1;32m    213\u001b[0m gen \u001b[39m=\u001b[39m TGraph\u001b[39m.\u001b[39mfrom_tgraph(prompt)\n\u001b[1;32m    214\u001b[0m gen\u001b[39m.\u001b[39m_value \u001b[39m=\u001b[39m prompt\u001b[39m.\u001b[39mvalue\n\u001b[0;32m--> 215\u001b[0m output \u001b[39m=\u001b[39m \u001b[39mself\u001b[39;49m\u001b[39m.\u001b[39;49mforward(prompt, temperature\u001b[39m=\u001b[39;49mtemperature)\n\u001b[1;32m    216\u001b[0m \u001b[39mfor\u001b[39;00m idx, num_text \u001b[39min\u001b[39;00m \u001b[39menumerate\u001b[39m(prompt\u001b[39m.\u001b[39mnum_text_patches):\n\u001b[1;32m    217\u001b[0m     bidx \u001b[39m=\u001b[39m (num_text \u001b[39m-\u001b[39m \u001b[39m2\u001b[39m) \u001b[39m*\u001b[39m prompt\u001b[39m.\u001b[39mpatch_len \u001b[39m*\u001b[39m prompt\u001b[39m.\u001b[39mpatch_size            \n",
      "File \u001b[0;32m~/src/projects/msc_project/LatentPixel/modeling/latent_model.py:97\u001b[0m, in \u001b[0;36mLatentModel.forward\u001b[0;34m(self, img, temperature)\u001b[0m\n\u001b[1;32m     95\u001b[0m     img\u001b[39m.\u001b[39mbinary()\n\u001b[1;32m     96\u001b[0m \u001b[39mif\u001b[39;00m \u001b[39mself\u001b[39m\u001b[39m.\u001b[39mcompressor \u001b[39mis\u001b[39;00m \u001b[39mNone\u001b[39;00m:\n\u001b[0;32m---> 97\u001b[0m     recon \u001b[39m=\u001b[39m \u001b[39mself\u001b[39;49m\u001b[39m.\u001b[39;49mlatent_forward(img)\n\u001b[1;32m     98\u001b[0m     recon\u001b[39m.\u001b[39m_labels \u001b[39m=\u001b[39m img\u001b[39m.\u001b[39m_labels\n\u001b[1;32m     99\u001b[0m     \u001b[39mif\u001b[39;00m \u001b[39mself\u001b[39m\u001b[39m.\u001b[39mbinary \u001b[39mand\u001b[39;00m \u001b[39mself\u001b[39m\u001b[39m.\u001b[39mnum_labels \u001b[39mis\u001b[39;00m \u001b[39mNone\u001b[39;00m:\n",
      "File \u001b[0;32m~/src/projects/msc_project/LatentPixel/modeling/llama.py:345\u001b[0m, in \u001b[0;36mLatentLlama.latent_forward\u001b[0;34m(self, img)\u001b[0m\n\u001b[1;32m    343\u001b[0m \u001b[39melse\u001b[39;00m:\n\u001b[1;32m    344\u001b[0m     img_values \u001b[39m=\u001b[39m target\n\u001b[0;32m--> 345\u001b[0m output: BaseModelOutputWithPastAndCrossAttentions \u001b[39m=\u001b[39m \u001b[39mself\u001b[39;49m\u001b[39m.\u001b[39;49mbackbone\u001b[39m.\u001b[39;49mforward(\n\u001b[1;32m    346\u001b[0m     attention_mask\u001b[39m=\u001b[39;49mimg\u001b[39m.\u001b[39;49mattention_mask,\n\u001b[1;32m    347\u001b[0m     inputs_embeds\u001b[39m=\u001b[39;49mimg_values\n\u001b[1;32m    348\u001b[0m )\n\u001b[1;32m    349\u001b[0m pred \u001b[39m=\u001b[39m output\u001b[39m.\u001b[39mlast_hidden_state\n\u001b[1;32m    351\u001b[0m \u001b[39m# attention_mask = mask2img(img.attention_mask, self.latent_patch_size, self.patch_len)\u001b[39;00m\n\u001b[1;32m    352\u001b[0m \u001b[39m# patch_width = self.latent_patch_size * self.patch_len\u001b[39;00m\n\u001b[1;32m    353\u001b[0m \u001b[39m# attention_mask.unsqueeze_(1)    # add the channel dimension\u001b[39;00m\n\u001b[0;32m   (...)\u001b[0m\n\u001b[1;32m    356\u001b[0m \u001b[39m# loss = (pred[..., :-patch_width] - img_values[..., patch_width:]) ** 2\u001b[39;00m\n\u001b[1;32m    357\u001b[0m \u001b[39m# loss = (loss * attention_mask).sum() / (attention_mask.sum() * self.num_latent_channel)  # mean loss on removed patches\u001b[39;00m\n",
      "File \u001b[0;32m~/src/projects/msc_project/LatentPixel/modeling/llama.py:270\u001b[0m, in \u001b[0;36mLlamaForPatchCausalInference.forward\u001b[0;34m(self, input_ids, past_key_values, attention_mask, token_type_ids, position_ids, head_mask, inputs_embeds, encoder_hidden_states, encoder_attention_mask, use_cache, output_attentions, output_hidden_states, return_dict, ignore_out_proj)\u001b[0m\n\u001b[1;32m    266\u001b[0m     layer_outputs \u001b[39m=\u001b[39m torch\u001b[39m.\u001b[39mutils\u001b[39m.\u001b[39mcheckpoint\u001b[39m.\u001b[39mcheckpoint(\n\u001b[1;32m    267\u001b[0m         create_custom_forward(decoder_layer), hidden_states, attention_mask, position_ids\n\u001b[1;32m    268\u001b[0m     )\n\u001b[1;32m    269\u001b[0m \u001b[39melse\u001b[39;00m:\n\u001b[0;32m--> 270\u001b[0m     layer_outputs \u001b[39m=\u001b[39m decoder_layer(\n\u001b[1;32m    271\u001b[0m         hidden_states,\n\u001b[1;32m    272\u001b[0m         attention_mask\u001b[39m=\u001b[39;49mattention_mask,\n\u001b[1;32m    273\u001b[0m         position_ids\u001b[39m=\u001b[39;49mposition_ids,\n\u001b[1;32m    274\u001b[0m         past_key_value\u001b[39m=\u001b[39;49mpast_key_value,\n\u001b[1;32m    275\u001b[0m         output_attentions\u001b[39m=\u001b[39;49moutput_attentions,\n\u001b[1;32m    276\u001b[0m         use_cache\u001b[39m=\u001b[39;49muse_cache,\n\u001b[1;32m    277\u001b[0m         padding_mask\u001b[39m=\u001b[39;49mpadding_mask,\n\u001b[1;32m    278\u001b[0m     )\n\u001b[1;32m    280\u001b[0m hidden_states \u001b[39m=\u001b[39m layer_outputs[\u001b[39m0\u001b[39m]\n\u001b[1;32m    282\u001b[0m \u001b[39mif\u001b[39;00m use_cache:\n",
      "File \u001b[0;32m~/data/miniconda3/envs/pixel/lib/python3.10/site-packages/torch/nn/modules/module.py:1518\u001b[0m, in \u001b[0;36mModule._wrapped_call_impl\u001b[0;34m(self, *args, **kwargs)\u001b[0m\n\u001b[1;32m   1516\u001b[0m     \u001b[39mreturn\u001b[39;00m \u001b[39mself\u001b[39m\u001b[39m.\u001b[39m_compiled_call_impl(\u001b[39m*\u001b[39margs, \u001b[39m*\u001b[39m\u001b[39m*\u001b[39mkwargs)  \u001b[39m# type: ignore[misc]\u001b[39;00m\n\u001b[1;32m   1517\u001b[0m \u001b[39melse\u001b[39;00m:\n\u001b[0;32m-> 1518\u001b[0m     \u001b[39mreturn\u001b[39;00m \u001b[39mself\u001b[39;49m\u001b[39m.\u001b[39;49m_call_impl(\u001b[39m*\u001b[39;49margs, \u001b[39m*\u001b[39;49m\u001b[39m*\u001b[39;49mkwargs)\n",
      "File \u001b[0;32m~/data/miniconda3/envs/pixel/lib/python3.10/site-packages/torch/nn/modules/module.py:1527\u001b[0m, in \u001b[0;36mModule._call_impl\u001b[0;34m(self, *args, **kwargs)\u001b[0m\n\u001b[1;32m   1522\u001b[0m \u001b[39m# If we don't have any hooks, we want to skip the rest of the logic in\u001b[39;00m\n\u001b[1;32m   1523\u001b[0m \u001b[39m# this function, and just call forward.\u001b[39;00m\n\u001b[1;32m   1524\u001b[0m \u001b[39mif\u001b[39;00m \u001b[39mnot\u001b[39;00m (\u001b[39mself\u001b[39m\u001b[39m.\u001b[39m_backward_hooks \u001b[39mor\u001b[39;00m \u001b[39mself\u001b[39m\u001b[39m.\u001b[39m_backward_pre_hooks \u001b[39mor\u001b[39;00m \u001b[39mself\u001b[39m\u001b[39m.\u001b[39m_forward_hooks \u001b[39mor\u001b[39;00m \u001b[39mself\u001b[39m\u001b[39m.\u001b[39m_forward_pre_hooks\n\u001b[1;32m   1525\u001b[0m         \u001b[39mor\u001b[39;00m _global_backward_pre_hooks \u001b[39mor\u001b[39;00m _global_backward_hooks\n\u001b[1;32m   1526\u001b[0m         \u001b[39mor\u001b[39;00m _global_forward_hooks \u001b[39mor\u001b[39;00m _global_forward_pre_hooks):\n\u001b[0;32m-> 1527\u001b[0m     \u001b[39mreturn\u001b[39;00m forward_call(\u001b[39m*\u001b[39;49margs, \u001b[39m*\u001b[39;49m\u001b[39m*\u001b[39;49mkwargs)\n\u001b[1;32m   1529\u001b[0m \u001b[39mtry\u001b[39;00m:\n\u001b[1;32m   1530\u001b[0m     result \u001b[39m=\u001b[39m \u001b[39mNone\u001b[39;00m\n",
      "File \u001b[0;32m~/src/projects/msc_project/LatentPixel/modeling/llama.py:92\u001b[0m, in \u001b[0;36mLlamaDecoderLayer.forward\u001b[0;34m(self, hidden_states, attention_mask, position_ids, past_key_value, output_attentions, use_cache, padding_mask)\u001b[0m\n\u001b[1;32m     90\u001b[0m residual \u001b[39m=\u001b[39m hidden_states\n\u001b[1;32m     91\u001b[0m hidden_states \u001b[39m=\u001b[39m \u001b[39mself\u001b[39m\u001b[39m.\u001b[39mpost_attention_layernorm(hidden_states)\n\u001b[0;32m---> 92\u001b[0m hidden_states \u001b[39m=\u001b[39m \u001b[39mself\u001b[39;49m\u001b[39m.\u001b[39;49mmlp(hidden_states)\n\u001b[1;32m     93\u001b[0m hidden_states \u001b[39m=\u001b[39m residual \u001b[39m+\u001b[39m hidden_states\n\u001b[1;32m     95\u001b[0m outputs \u001b[39m=\u001b[39m (hidden_states,)\n",
      "File \u001b[0;32m~/data/miniconda3/envs/pixel/lib/python3.10/site-packages/torch/nn/modules/module.py:1518\u001b[0m, in \u001b[0;36mModule._wrapped_call_impl\u001b[0;34m(self, *args, **kwargs)\u001b[0m\n\u001b[1;32m   1516\u001b[0m     \u001b[39mreturn\u001b[39;00m \u001b[39mself\u001b[39m\u001b[39m.\u001b[39m_compiled_call_impl(\u001b[39m*\u001b[39margs, \u001b[39m*\u001b[39m\u001b[39m*\u001b[39mkwargs)  \u001b[39m# type: ignore[misc]\u001b[39;00m\n\u001b[1;32m   1517\u001b[0m \u001b[39melse\u001b[39;00m:\n\u001b[0;32m-> 1518\u001b[0m     \u001b[39mreturn\u001b[39;00m \u001b[39mself\u001b[39;49m\u001b[39m.\u001b[39;49m_call_impl(\u001b[39m*\u001b[39;49margs, \u001b[39m*\u001b[39;49m\u001b[39m*\u001b[39;49mkwargs)\n",
      "File \u001b[0;32m~/data/miniconda3/envs/pixel/lib/python3.10/site-packages/torch/nn/modules/module.py:1527\u001b[0m, in \u001b[0;36mModule._call_impl\u001b[0;34m(self, *args, **kwargs)\u001b[0m\n\u001b[1;32m   1522\u001b[0m \u001b[39m# If we don't have any hooks, we want to skip the rest of the logic in\u001b[39;00m\n\u001b[1;32m   1523\u001b[0m \u001b[39m# this function, and just call forward.\u001b[39;00m\n\u001b[1;32m   1524\u001b[0m \u001b[39mif\u001b[39;00m \u001b[39mnot\u001b[39;00m (\u001b[39mself\u001b[39m\u001b[39m.\u001b[39m_backward_hooks \u001b[39mor\u001b[39;00m \u001b[39mself\u001b[39m\u001b[39m.\u001b[39m_backward_pre_hooks \u001b[39mor\u001b[39;00m \u001b[39mself\u001b[39m\u001b[39m.\u001b[39m_forward_hooks \u001b[39mor\u001b[39;00m \u001b[39mself\u001b[39m\u001b[39m.\u001b[39m_forward_pre_hooks\n\u001b[1;32m   1525\u001b[0m         \u001b[39mor\u001b[39;00m _global_backward_pre_hooks \u001b[39mor\u001b[39;00m _global_backward_hooks\n\u001b[1;32m   1526\u001b[0m         \u001b[39mor\u001b[39;00m _global_forward_hooks \u001b[39mor\u001b[39;00m _global_forward_pre_hooks):\n\u001b[0;32m-> 1527\u001b[0m     \u001b[39mreturn\u001b[39;00m forward_call(\u001b[39m*\u001b[39;49margs, \u001b[39m*\u001b[39;49m\u001b[39m*\u001b[39;49mkwargs)\n\u001b[1;32m   1529\u001b[0m \u001b[39mtry\u001b[39;00m:\n\u001b[1;32m   1530\u001b[0m     result \u001b[39m=\u001b[39m \u001b[39mNone\u001b[39;00m\n",
      "File \u001b[0;32m~/data/miniconda3/envs/pixel/lib/python3.10/site-packages/transformers/models/llama/modeling_llama.py:229\u001b[0m, in \u001b[0;36mLlamaMLP.forward\u001b[0;34m(self, x)\u001b[0m\n\u001b[1;32m    226\u001b[0m     \u001b[39mself\u001b[39m\u001b[39m.\u001b[39mdown_proj \u001b[39m=\u001b[39m nn\u001b[39m.\u001b[39mLinear(\u001b[39mself\u001b[39m\u001b[39m.\u001b[39mintermediate_size, \u001b[39mself\u001b[39m\u001b[39m.\u001b[39mhidden_size, bias\u001b[39m=\u001b[39m\u001b[39mFalse\u001b[39;00m)\n\u001b[1;32m    227\u001b[0m     \u001b[39mself\u001b[39m\u001b[39m.\u001b[39mact_fn \u001b[39m=\u001b[39m ACT2FN[config\u001b[39m.\u001b[39mhidden_act]\n\u001b[0;32m--> 229\u001b[0m \u001b[39mdef\u001b[39;00m \u001b[39mforward\u001b[39m(\u001b[39mself\u001b[39m, x):\n\u001b[1;32m    230\u001b[0m     \u001b[39mif\u001b[39;00m \u001b[39mself\u001b[39m\u001b[39m.\u001b[39mconfig\u001b[39m.\u001b[39mpretraining_tp \u001b[39m>\u001b[39m \u001b[39m1\u001b[39m:\n\u001b[1;32m    231\u001b[0m         \u001b[39mslice\u001b[39m \u001b[39m=\u001b[39m \u001b[39mself\u001b[39m\u001b[39m.\u001b[39mintermediate_size \u001b[39m/\u001b[39m\u001b[39m/\u001b[39m \u001b[39mself\u001b[39m\u001b[39m.\u001b[39mconfig\u001b[39m.\u001b[39mpretraining_tp\n",
      "\u001b[0;31mKeyboardInterrupt\u001b[0m: "
     ]
    }
   ],
   "source": [
    "model.eval()\n",
    "model.cuda()\n",
    "generated = []\n",
    "with torch.no_grad():\n",
    "    for txt in tqdm(data['text']):\n",
    "        words = txt.split()\n",
    "        prompt = process_lambda(' '.join(words[:-1]))\n",
    "        prompt = TGraph.from_text([prompt])\n",
    "        prompt = prompt._spacing_text(3)\n",
    "        prompt.set_device('cuda')\n",
    "        target = words[-1]\n",
    "        gen = model.autoregressive_generate(prompt, None, 4)\n",
    "        prompt.set_device('cpu')\n",
    "        gen.set_device('cpu')\n",
    "        generated.append((prompt, target, gen))\n",
    "        \n",
    "for g in generated:\n",
    "    g[2]._value = g[2]._value.to('cpu')\n"
   ]
  },
  {
   "cell_type": "code",
   "execution_count": 31,
   "metadata": {},
   "outputs": [
    {
     "name": "stdout",
     "output_type": "stream",
     "text": [
      "\n",
      "\n",
      "--------------------------------------\n",
      "C++ Traceback (most recent call last):\n",
      "--------------------------------------\n",
      "No stack trace in paddle, may be caused by external reasons.\n",
      "\n",
      "----------------------\n",
      "Error Message Summary:\n",
      "----------------------\n",
      "FatalError: `Termination signal` is detected by the operating system.\n",
      "  [TimeInfo: *** Aborted at 1703041933 (unix time) try \"date -d @1703041933\" if you are using GNU date ***]\n",
      "  [SignalInfo: *** SIGTERM (@0x3e80008c12e) received by PID 625468 (TID 0x7f39bfa06740) from PID 573742 ***]\n",
      "\n"
     ]
    },
    {
     "data": {
      "text/plain": [
       "(0.105, 0.11, 0.115, 0.7)"
      ]
     },
     "execution_count": 31,
     "metadata": {},
     "output_type": "execute_result"
    }
   ],
   "source": [
    "evaluate(generated, vocab)"
   ]
  },
  {
   "cell_type": "code",
   "execution_count": 22,
   "metadata": {},
   "outputs": [
    {
     "name": "stdout",
     "output_type": "stream",
     "text": [
      "Coder path is none, do not load compressor for this model\n"
     ]
    },
    {
     "name": "stderr",
     "output_type": "stream",
     "text": [
      "100%|██████████| 200/200 [00:07<00:00, 28.33it/s]\n"
     ]
    }
   ],
   "source": [
    "model = LatentLlama(backbone_path='/home/tai/src/projects/msc_project/storage/checkpoints/1MGAN_85M/gan_ratio_1_4_10/ckpts/1000', num_channels=1, patch_len=2, patch_size=8)\n",
    "model.eval()\n",
    "model.cuda()\n",
    "generated = []\n",
    "with torch.no_grad():\n",
    "    for txt in tqdm(data['text'][:200]):\n",
    "        words = txt.split()\n",
    "        prompt = process_lambda(' '.join(words[:-1]))\n",
    "        prompt = TGraph.from_text([prompt])\n",
    "        prompt = prompt._spacing_text(3)\n",
    "        prompt.set_device('cuda')\n",
    "        target = words[-1]\n",
    "        gen = model.autoregressive_generate(prompt, None, 4)\n",
    "        prompt.set_device('cpu')\n",
    "        gen.set_device('cpu')\n",
    "        generated.append((prompt, target, gen))\n",
    "        \n",
    "for g in generated:\n",
    "    g[2]._value = g[2]._value.to('cpu')"
   ]
  },
  {
   "cell_type": "code",
   "execution_count": 23,
   "metadata": {},
   "outputs": [
    {
     "name": "stderr",
     "output_type": "stream",
     "text": [
      "100%|██████████| 200/200 [00:48<00:00,  4.11it/s]"
     ]
    },
    {
     "name": "stdout",
     "output_type": "stream",
     "text": [
      "{'paddleocr': 0.065, 'tesseract': 0.06, 'union': 0.065, 'readability': 0.385}\n"
     ]
    },
    {
     "name": "stderr",
     "output_type": "stream",
     "text": [
      "\n"
     ]
    }
   ],
   "source": [
    "ans7_100 = evaluate_babi(generated, vocab)\n",
    "print(ans7_100)"
   ]
  },
  {
   "cell_type": "code",
   "execution_count": 17,
   "metadata": {},
   "outputs": [
    {
     "data": {
      "image/jpeg": "[encoded data removed]",
      "image/png": "[encoded data removed]",
      "text/plain": [
       "<PIL.Image.Image image mode=L size=240x192>"
      ]
     },
     "execution_count": 17,
     "metadata": {},
     "output_type": "execute_result"
    }
   ],
   "source": [
    "generated[0][0].to_PIL()[0]"
   ]
  },
  {
   "cell_type": "code",
   "execution_count": 14,
   "metadata": {},
   "outputs": [
    {
     "data": {
      "image/jpeg": "[encoded data removed]",
      "image/png": "[encoded data removed]",
      "text/plain": [
       "<PIL.Image.Image image mode=L size=240x192>"
      ]
     },
     "execution_count": 14,
     "metadata": {},
     "output_type": "execute_result"
    }
   ],
   "source": [
    "generated[0][2].to_PIL()[0]"
   ]
  },
  {
   "cell_type": "code",
   "execution_count": 19,
   "metadata": {},
   "outputs": [
    {
     "data": {
      "text/plain": [
       "'signs'"
      ]
     },
     "execution_count": 19,
     "metadata": {},
     "output_type": "execute_result"
    }
   ],
   "source": [
    "generated[0][1]"
   ]
  },
  {
   "cell_type": "code",
   "execution_count": null,
   "metadata": {},
   "outputs": [],
   "source": [
    "(0.095, 0.085, 0.095, 0.4)  # best for 85M model"
   ]
  },
  {
   "cell_type": "code",
   "execution_count": 39,
   "metadata": {},
   "outputs": [
    {
     "name": "stderr",
     "output_type": "stream",
     "text": [
      "100%|██████████| 5153/5153 [23:11<00:00,  3.70it/s]\n"
     ]
    }
   ],
   "source": [
    "eva = evaluate_babi(generated, vocab)"
   ]
  },
  {
   "cell_type": "code",
   "execution_count": null,
   "metadata": {},
   "outputs": [],
   "source": [
    "print(eva)"
   ]
  },
  {
   "cell_type": "code",
   "execution_count": 40,
   "metadata": {},
   "outputs": [
    {
     "name": "stdout",
     "output_type": "stream",
     "text": [
      "{'paddleocr': 0.11274985445371628, 'tesseract': 0.10304676887250146, 'union': 0.12090044634193674, 'readability': 0.21016883368911313}\n"
     ]
    }
   ],
   "source": [
    "print(eva)"
   ]
  },
  {
   "cell_type": "code",
   "execution_count": 34,
   "metadata": {},
   "outputs": [
    {
     "name": "stdout",
     "output_type": "stream",
     "text": [
      "{'paddleocr': 0.12458761886279837, 'tesseract': 0.13137977876964874, 'union': 0.13758975354162623, 'readability': 0.6722297690665632}\n"
     ]
    }
   ],
   "source": [
    "print(eva)"
   ]
  }
 ],
 "metadata": {
  "kernelspec": {
   "display_name": "pt2hfpy310",
   "language": "python",
   "name": "python3"
  },
  "language_info": {
   "codemirror_mode": {
    "name": "ipython",
    "version": 3
   },
   "file_extension": ".py",
   "mimetype": "text/x-python",
   "name": "python",
   "nbconvert_exporter": "python",
   "pygments_lexer": "ipython3",
   "version": "3.10.13"
  }
 },
 "nbformat": 4,
 "nbformat_minor": 2
}
