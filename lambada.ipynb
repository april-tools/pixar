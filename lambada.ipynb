{
 "cells": [
  {
   "cell_type": "code",
   "execution_count": 16,
   "metadata": {},
   "outputs": [],
   "source": [
    "from datasets import load_dataset\n",
    "from LatentPixel import LatentLlama, TGraph, BIN_FONT\n",
    "from tqdm import tqdm\n",
    "import numpy as np"
   ]
  },
  {
   "cell_type": "code",
   "execution_count": null,
   "metadata": {},
   "outputs": [],
   "source": [
    "'''\n",
    "Xiyang's cirrus environment\n",
    "'''\n",
    "data = load_dataset('lambada', split='test')\n",
    "_ = TGraph.init_render(\n",
    "    dpi=80,\n",
    "    font_file=BIN_FONT,\n",
    "    font_size=8,\n",
    "    pixels_per_patch=8,\n",
    "    rgb=False,\n",
    "    binary=True,\n",
    "    max_seq_length=800,\n",
    "    patch_len=2\n",
    ")\n",
    "model = LatentLlama(\n",
    "    backbone_path='/work/sc118/sc118/shared/checkpoints/dllama_pretrain/lpixel_pretrain/LatentLlama/20231025-162146/last/backbone/',\n",
    "    num_channels=1,\n",
    "    patch_len=2,\n",
    "    patch_size=8,\n",
    "    binary=True\n",
    ")"
   ]
  },
  {
   "cell_type": "code",
   "execution_count": 17,
   "metadata": {},
   "outputs": [
    {
     "name": "stderr",
     "output_type": "stream",
     "text": [
      "[2023-11-24 01:08:46,587] [ WARNING] builder.py:816 - Found cached dataset lambada (/mnt/data/huggingface/lambada/plain_text/1.1.0/2e4879aaaa342d8f748b7275991006d2e27a8b0abc0a28ea299b3e3b839a3a40)\n"
     ]
    },
    {
     "name": "stdout",
     "output_type": "stream",
     "text": [
      "Coder path is none, do not load compressor for this model\n"
     ]
    },
    {
     "name": "stderr",
     "output_type": "stream",
     "text": [
      "Some weights of LlamaForPatchCausalInference were not initialized from the model checkpoint at storage/llama_2_backbone/ and are newly initialized: ['embed_tokens.weight']\n",
      "You should probably TRAIN this model on a down-stream task to be able to use it for predictions and inference.\n"
     ]
    }
   ],
   "source": [
    "'''\n",
    "Yintao's devbox environment\n",
    "'''\n",
    "data = load_dataset('lambada', split='test')\n",
    "TGraph.init_render(\n",
    "    dpi=80,\n",
    "    font_file=BIN_FONT,\n",
    "    font_size=8,\n",
    "    pixels_per_patch=8,\n",
    "    rgb=False,\n",
    "    binary=True,\n",
    "    max_seq_length=800,\n",
    "    patch_len=2\n",
    ")\n",
    "model = LatentLlama(\n",
    "    backbone_path='storage/llama_2_backbone/',\n",
    "    num_channels=1,\n",
    "    patch_len=2,\n",
    "    patch_size=8,\n",
    "    binary=True\n",
    ")"
   ]
  },
  {
   "cell_type": "code",
   "execution_count": 18,
   "metadata": {},
   "outputs": [],
   "source": [
    "def process_lambda(raw: str) -> str:\n",
    "    raw = raw.replace('`` ', '\"').replace(\" ''\", '\"').replace('``', '\"').replace(\"''\", '\"')\n",
    "    result = ''\n",
    "    for idx in range(len(raw) - 1):\n",
    "        c = raw[idx]\n",
    "        cn = raw[idx + 1]\n",
    "        if cn in ',.?><{}()\\'' and c == ' ':\n",
    "            continue\n",
    "        if (raw[idx+1:idx+4] == \"n't\" or raw[idx+1:idx+4] == \"'re\" or raw[idx+1:idx+3] == \"'d\" or raw[idx+1:idx+3] == \"'s\" or raw[idx+1:idx+3] == \"'m\") and raw[idx] == ' ':\n",
    "            continue\n",
    "        if raw[idx+1] == \"'\" and raw[idx+2] in 'abcdefghijklmnopqrstuvwxyz' and raw[idx] == ' ':\n",
    "            continue\n",
    "        result += raw[idx]\n",
    "    result += raw[-1]\n",
    "    return result"
   ]
  },
  {
   "cell_type": "code",
   "execution_count": 19,
   "metadata": {},
   "outputs": [
    {
     "name": "stderr",
     "output_type": "stream",
     "text": [
      "100%|██████████| 200/200 [00:08<00:00, 22.84it/s]\n"
     ]
    }
   ],
   "source": [
    "model.eval()\n",
    "model.cuda()\n",
    "generated = []\n",
    "for txt in tqdm(data['text'][:200]):\n",
    "    words = txt.split()\n",
    "    prompt = process_lambda(' '.join(words[:-1]))\n",
    "    prompt = TGraph.from_text([prompt])\n",
    "    prompt = prompt._spacing_text(3)\n",
    "    prompt.set_device('cuda')\n",
    "    target = words[-1]\n",
    "    gen = model.autoregressive_generate(prompt, None, 4)\n",
    "    prompt.set_device('cpu')\n",
    "    gen.set_device('cpu')\n",
    "    generated.append((prompt, target, gen))"
   ]
  },
  {
   "cell_type": "code",
   "execution_count": 20,
   "metadata": {},
   "outputs": [],
   "source": [
    "capital = '1 3 5 7 8 17 19 21 23 24 26 29 30 31 33 36 38 40 41 43 48 55 57 58 59 60 61 62 65 70 72 74 76 79 80 81 82 87 88 90 93 95 96 97 99 101 104 106 110 112 115 116 117 118 120 121 122 124 126 131 132 134 138 139 141 143 145 147 148 149 150 151 154 155 157 159 160 162 164 165 166 167 172 174 176 180 181 183 186 187 189 191 192 195 197 198 199'\n",
    "wrong_word = '19 21 24 58 81 88 106 182 184'\n",
    "correct = '2 4 20 35 63 111 141 145'\n",
    "non_text = '0 1 3 5 6 7 8 9 10 11 12 13 14 15 16 17 18 22 23 25 26 27 28 29 30 31 32 33 34 36 37 38 39 40 41 42 43 44 45 46 47 48 49 50 51 52 53 54 55 56 57 59 60 61 62 64 65 66 67 68 69 70 72 71 73 74 75 76 77 78 79 80 82 83 84 85 86 87 89 90 91 92 93 94 95 96 97 98 99 100 101 102 103 104 105 107 108 109 110 112 113 114 115 116 117 118 119 120 121 122 123 124 125 126 127 128 129 130 131 132 133 134 135 136 137 138 139 140 142 143 144 146 147 148 149 150 151 152 153 154 155 156 157 159 160 161 162 163 164 165 166 167 168 169 170 171 172 173 174 175 176 177 178 179 180 181 183 185 186 187 188 189 190 191 192 193 194 195 196 197 198 199'"
   ]
  },
  {
   "cell_type": "code",
   "execution_count": 21,
   "metadata": {},
   "outputs": [],
   "source": [
    "capitals = set(capital.split(' '))\n",
    "wrong_words = set(wrong_word.split(' '))\n",
    "corrects = set(correct.split(' '))\n",
    "non_texts = set(non_text.split(' '))"
   ]
  },
  {
   "cell_type": "code",
   "execution_count": 22,
   "metadata": {},
   "outputs": [
    {
     "name": "stdout",
     "output_type": "stream",
     "text": [
      "Acc:  0.04\n",
      "Wrong:  0.045\n",
      "Acc_no_cap:  0.05825242718446602\n",
      "Wrong_no_cap:  0.019417475728155338\n",
      "Non_text:  0.91\n",
      "Non_text_no_cap:  0.912621359223301\n",
      "Num_no_cap:  103\n",
      "Num_total:  200\n"
     ]
    }
   ],
   "source": [
    "print('Acc: ', len(corrects) / 200)\n",
    "print('Wrong: ', len(wrong_words) / 200)\n",
    "print('Acc_no_cap: ', len(corrects - capitals) / (200 - len(capitals)))\n",
    "print('Wrong_no_cap: ', len(wrong_words - capitals) / (200 - len(capitals)))\n",
    "print('Non_text: ', len(non_texts) / 200)\n",
    "print('Non_text_no_cap: ', len(non_texts - capitals) / (200 - len(capitals)))\n",
    "print('Num_no_cap: ', (200 - len(capitals)))\n",
    "print('Num_total: ', 200)"
   ]
  },
  {
   "cell_type": "markdown",
   "metadata": {},
   "source": [
    "Add OCR"
   ]
  },
  {
   "cell_type": "code",
   "execution_count": 23,
   "metadata": {},
   "outputs": [],
   "source": [
    "correct = '2 4 20 35 63 111 141 145 158'"
   ]
  },
  {
   "cell_type": "code",
   "execution_count": 25,
   "metadata": {},
   "outputs": [
    {
     "name": "stdout",
     "output_type": "stream",
     "text": [
      "[2023/11/24 01:09:17] ppocr DEBUG: dt_boxes num : 1, elapsed : 0.09052062034606934\n",
      "[2023/11/24 01:09:18] ppocr DEBUG: rec_res num  : 1, elapsed : 0.08508086204528809\n",
      "[[[[[30.0, 111.0], [217.0, 111.0], [217.0, 134.0], [30.0, 134.0]], ('track cna t', 0.6663442254066467)]]]\n",
      "Predictions: ['track cna t'] \n",
      "Target: track\n"
     ]
    }
   ],
   "source": [
    "idx = 20\n",
    "pro = generated[idx][0]\n",
    "t = generated[idx][1]\n",
    "g   = generated[idx][2]\n",
    "img: TGraph = g[pro._num_text_patches[0]-1:g._num_text_patches[0]-1]\n",
    "text = img.ocr(method='paddleocr', square=False, span=True, span_ratio=1.3, scale=3)\n",
    "print(\"Predictions:\",text,\"\\nTarget:\", t)"
   ]
  },
  {
   "cell_type": "code",
   "execution_count": null,
   "metadata": {},
   "outputs": [],
   "source": [
    "img.to_PIL(square=False)[0]"
   ]
  },
  {
   "cell_type": "code",
   "execution_count": null,
   "metadata": {},
   "outputs": [],
   "source": [
    "img.value.shape"
   ]
  },
  {
   "cell_type": "code",
   "execution_count": null,
   "metadata": {},
   "outputs": [],
   "source": [
    "img._to_PIL(val[0])"
   ]
  },
  {
   "cell_type": "code",
   "execution_count": null,
   "metadata": {},
   "outputs": [],
   "source": [
    "val.shape"
   ]
  },
  {
   "cell_type": "code",
   "execution_count": null,
   "metadata": {},
   "outputs": [],
   "source": [
    "imgs = TGraph.from_text(['Portal']).to_PIL(square=False)\n",
    "imgs = [np.array(im.resize((im.size[0]*3, im.size[1]*3))) for im in imgs]\n",
    "ocr = PaddleOCR( det=False, cls = False, lang=\"en\")\n",
    "\n",
    "# results = [ocr.ocr(im, cls=True)[0][0][1][0].lower() for im in imgs]\n",
    "results = [ocr.ocr(im, cls=True) for im in imgs]\n",
    "results"
   ]
  },
  {
   "cell_type": "code",
   "execution_count": null,
   "metadata": {},
   "outputs": [],
   "source": [
    "imgs.shape"
   ]
  },
  {
   "cell_type": "code",
   "execution_count": null,
   "metadata": {},
   "outputs": [],
   "source": []
  }
 ],
 "metadata": {
  "kernelspec": {
   "display_name": "pt2hfpy310",
   "language": "python",
   "name": "python3"
  },
  "language_info": {
   "codemirror_mode": {
    "name": "ipython",
    "version": 3
   },
   "file_extension": ".py",
   "mimetype": "text/x-python",
   "name": "python",
   "nbconvert_exporter": "python",
   "pygments_lexer": "ipython3",
   "version": "3.10.12"
  }
 },
 "nbformat": 4,
 "nbformat_minor": 2
}
