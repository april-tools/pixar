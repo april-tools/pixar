{
 "cells": [
  {
   "cell_type": "code",
   "execution_count": 1,
   "metadata": {},
   "outputs": [
    {
     "name": "stderr",
     "output_type": "stream",
     "text": [
      "/home/tai/data/miniconda3/envs/pixel/lib/python3.10/site-packages/transformers/deepspeed.py:23: FutureWarning: transformers.deepspeed module is deprecated and will be removed in a future version. Please import deepspeed modules directly from transformers.integrations\n",
      "  warnings.warn(\n"
     ]
    }
   ],
   "source": [
    "from datasets import load_dataset\n",
    "from LatentPixel import LatentLlama, TGraph, BIN_FONT\n",
    "from tqdm import tqdm\n",
    "import numpy as np\n",
    "import re\n",
    "import subprocess\n",
    "import torch\n",
    "import pandas as pd\n",
    "import logging\n",
    "loggers = [logging.getLogger(name) for name in logging.root.manager.loggerDict]\n",
    "for logger in loggers:\n",
    "    logger.setLevel(logging.ERROR)"
   ]
  },
  {
   "cell_type": "code",
   "execution_count": 2,
   "metadata": {},
   "outputs": [],
   "source": [
    "pat = re.compile('([a-zA-Z]+)')\n",
    "def add_word(words: str | list[str], corpus: set[str]):\n",
    "    global pat\n",
    "    if isinstance(words, str):\n",
    "        words = re.findall(pat, words)\n",
    "\n",
    "    for word in words:\n",
    "        corpus.add(str(word).lower())\n",
    "    return\n",
    "\n",
    "def evaluate_babi(generated: list, vocab: set) -> dict[str, float]:\n",
    "    pat = re.compile('^([a-zA-Z]*)')\n",
    "    correct_paddle = 0\n",
    "    correct_tess = 0\n",
    "    corrects = 0\n",
    "    n_readable = 0\n",
    "    for idx in tqdm(range(len(generated))):\n",
    "        cor = False\n",
    "        readable = False\n",
    "        pro = generated[idx][0]\n",
    "        t: str = generated[idx][1]\n",
    "        t = t.replace('g', 'q')\n",
    "        g = generated[idx][2]\n",
    "        img: TGraph = g[pro._num_text_patches[0]-1:g._num_text_patches[0]-1]\n",
    "        text = img.ocr(method='paddleocr', square=False, span=True, span_ratio=1.3, scale=3)\n",
    "        raw = text[0].lower().split()\n",
    "        if len(raw) == 0:\n",
    "            raw = ''\n",
    "        else:\n",
    "            raw = raw[0]  \n",
    "        m = pat.match(text[0])\n",
    "        if m is not None:\n",
    "            text = m.groups()[0]\n",
    "        else:\n",
    "            text = ''\n",
    "        if raw in vocab:\n",
    "            readable = True\n",
    "        text = text.replace('g', 'q')\n",
    "        if text == t:\n",
    "            correct_paddle += 1\n",
    "            cor = True\n",
    "        text = img.ocr(method='tesseract', square=False, span=True, span_ratio=1.3, scale=3)\n",
    "        raw = text[0].lower().split()\n",
    "        if len(raw) == 0:\n",
    "            raw = ''\n",
    "        else:\n",
    "            raw = raw[0]  \n",
    "        m = pat.match(text[0])\n",
    "        if m is not None:\n",
    "            text = m.groups()[0]\n",
    "        else:\n",
    "            text = ''\n",
    "        if raw in vocab:\n",
    "            readable = True\n",
    "        text = text.replace('g', 'q')\n",
    "        if text == t:\n",
    "            correct_tess += 1\n",
    "            cor = True\n",
    "        if cor:\n",
    "            corrects += 1\n",
    "        if readable:\n",
    "            n_readable += 1\n",
    "    return {\n",
    "        'paddleocr': correct_paddle / len(generated),\n",
    "        'tesseract': correct_tess / len(generated),\n",
    "        'union': corrects / len(generated),\n",
    "        'readability': n_readable / len(generated) \n",
    "    }\n",
    "\n",
    "def gen_babi(task_id: int, num: int, prompt: str, after_prompt: str) -> tuple[str, str]:\n",
    "    pat = re.compile(\"(^[0-9]*) ([^\\t]*)(?:\\t(.*)\\t)*\")\n",
    "\n",
    "    raw = subprocess.run(['babi-tasks', f'{task_id}', f'{num}'], stdout=subprocess.PIPE).stdout.decode()\n",
    "    lines = list(map(lambda x: x.groups(), map(pat.match, raw.splitlines())))\n",
    "    # return lines\n",
    "    results = []\n",
    "    cur_sample = []\n",
    "    for line in lines:\n",
    "        if line[0] == '1':\n",
    "            results.append(cur_sample) if len(cur_sample) > 0 else ...\n",
    "            cur_sample = []\n",
    "        cur_sample.append(line[1])\n",
    "        if line[2] is not None:\n",
    "            cur_sample.append(prompt)\n",
    "            cur_sample.append(line[2] + after_prompt)\n",
    "    results.append(cur_sample)\n",
    "    data = []\n",
    "    for sample in results:\n",
    "        prompt = ' '.join(sample[:-1])\n",
    "        target = sample[-1]\n",
    "        data.append((prompt, target))\n",
    "    return data\n"
   ]
  },
  {
   "cell_type": "code",
   "execution_count": 3,
   "metadata": {},
   "outputs": [],
   "source": [
    "corpo = pd.read_csv('storage/unigram_freq.csv')\n",
    "vocab = set()\n",
    "add_word(corpo.word.tolist()[:3000], vocab)\n"
   ]
  },
  {
   "cell_type": "code",
   "execution_count": 4,
   "metadata": {},
   "outputs": [
    {
     "name": "stdout",
     "output_type": "stream",
     "text": [
      "Coder path is none, do not load compressor for this model\n"
     ]
    }
   ],
   "source": [
    "'''\n",
    "Yintao's devbox environment\n",
    "'''\n",
    "_ =TGraph.init_render(\n",
    "    dpi=80,\n",
    "    font_file=BIN_FONT,\n",
    "    font_size=8,\n",
    "    pixels_per_patch=8,\n",
    "    rgb=False,\n",
    "    binary=True,\n",
    "    max_seq_length=800,\n",
    "    patch_len=2\n",
    ")\n",
    "model = LatentLlama(\n",
    "    backbone_path='storage/checkpoints/1MModels/dllama_2_b/backbone',\n",
    "    num_channels=1,\n",
    "    patch_len=2,\n",
    "    patch_size=8,\n",
    "    binary=True\n",
    ")"
   ]
  },
  {
   "cell_type": "code",
   "execution_count": 5,
   "metadata": {},
   "outputs": [
    {
     "name": "stdout",
     "output_type": "stream",
     "text": [
      "3005\n"
     ]
    },
    {
     "name": "stderr",
     "output_type": "stream",
     "text": [
      "100%|██████████| 1000/1000 [00:39<00:00, 25.29it/s]\n"
     ]
    }
   ],
   "source": [
    "data = gen_babi(1, 1000, '|', '')\n",
    "for a, b in data:\n",
    "    add_word(a, vocab)\n",
    "    add_word(b, vocab)\n",
    "    \n",
    "print(len(vocab))\n",
    "\n",
    "with torch.no_grad():\n",
    "    model.eval()\n",
    "    model.cuda()\n",
    "    generated = []\n",
    "    for prompt, target in tqdm(data):\n",
    "        prompt = TGraph.from_text([prompt])\n",
    "        prompt = prompt._spacing_text(3)\n",
    "        prompt.set_device('cuda')\n",
    "        gen = model.autoregressive_generate(prompt, None, 4)\n",
    "        prompt.set_device('cpu')\n",
    "        gen.set_device('cpu')\n",
    "        generated.append((prompt, target, gen))\n"
   ]
  },
  {
   "cell_type": "code",
   "execution_count": 6,
   "metadata": {},
   "outputs": [
    {
     "name": "stderr",
     "output_type": "stream",
     "text": [
      "100%|██████████| 1000/1000 [04:00<00:00,  4.16it/s]\n"
     ]
    },
    {
     "data": {
      "text/plain": [
       "{'paddleocr': 0.083, 'tesseract': 0.105, 'union': 0.111, 'readability': 0.437}"
      ]
     },
     "execution_count": 6,
     "metadata": {},
     "output_type": "execute_result"
    }
   ],
   "source": [
    "evaluate_babi(generated, vocab)"
   ]
  },
  {
   "cell_type": "code",
   "execution_count": 69,
   "metadata": {},
   "outputs": [
    {
     "name": "stdout",
     "output_type": "stream",
     "text": [
      "bedroom\n"
     ]
    },
    {
     "data": {
      "image/jpeg": "[encoded data removed]",
      "image/png": "[encoded data removed]",
      "text/plain": [
       "<PIL.Image.Image image mode=L size=256x200>"
      ]
     },
     "execution_count": 69,
     "metadata": {},
     "output_type": "execute_result"
    }
   ],
   "source": [
    "idx = 45\n",
    "print(generated[idx][1])\n",
    "generated[idx][2].to_PIL()[0]"
   ]
  },
  {
   "cell_type": "code",
   "execution_count": 436,
   "metadata": {},
   "outputs": [
    {
     "data": {
      "image/jpeg": "[encoded data removed]",
      "image/png": "[encoded data removed]",
      "text/plain": [
       "<PIL.Image.Image image mode=L size=256x200>"
      ]
     },
     "execution_count": 436,
     "metadata": {},
     "output_type": "execute_result"
    }
   ],
   "source": [
    "generated[idx][0].to_PIL()[0]"
   ]
  },
  {
   "cell_type": "code",
   "execution_count": 420,
   "metadata": {},
   "outputs": [
    {
     "name": "stdout",
     "output_type": "stream",
     "text": [
      "Predictions: boew \n",
      "Target: office\n"
     ]
    }
   ],
   "source": [
    "pat = re.compile('^([a-zA-Z]*)')\n",
    "pro = generated[idx][0]\n",
    "t = generated[idx][1]\n",
    "g = generated[idx][2]\n",
    "img: TGraph = g[pro._num_text_patches[0]-1:g._num_text_patches[0]-1]\n",
    "text = img.ocr(method='tesseract', square=False, span=True, span_ratio=1.3, scale=3)\n",
    "m = pat.match(text[0])\n",
    "if m is not None:\n",
    "    text = m.groups()[0]\n",
    "else:\n",
    "    text = ''\n",
    "print(\"Predictions:\",text,\"\\nTarget:\", t)"
   ]
  },
  {
   "cell_type": "code",
   "execution_count": 438,
   "metadata": {},
   "outputs": [
    {
     "data": {
      "text/plain": [
       "(<LatentPixel.text_graph.TGraph at 0x7fe69a0e33d0>,\n",
       " 'kitchen',\n",
       " <LatentPixel.text_graph.TGraph at 0x7fe69a0e1ff0>)"
      ]
     },
     "execution_count": 438,
     "metadata": {},
     "output_type": "execute_result"
    }
   ],
   "source": [
    "generated[0]"
   ]
  },
  {
   "cell_type": "code",
   "execution_count": 14,
   "metadata": {},
   "outputs": [],
   "source": [
    "idx = 0\n",
    "for p, t, g in generated:\n",
    "    p: TGraph\n",
    "    g: TGraph\n",
    "    p.to_file(f'babi_samples/{idx}/prompt_{t}.png', binary_method='gray_scale')\n",
    "    g.to_file(f'babi_samples/{idx}/generated_{t}.png', binary_method='gray_scale')\n",
    "    idx += 1"
   ]
  },
  {
   "cell_type": "code",
   "execution_count": 7,
   "metadata": {},
   "outputs": [
    {
     "data": {
      "text/plain": [
       "tensor([[[[1., 1., 1.,  ..., 1., 1., 1.],\n",
       "          [1., 1., 1.,  ..., 1., 1., 1.],\n",
       "          [1., 1., 1.,  ..., 1., 1., 1.],\n",
       "          ...,\n",
       "          [1., 1., 1.,  ..., 1., 1., 1.],\n",
       "          [1., 1., 1.,  ..., 1., 1., 1.],\n",
       "          [1., 1., 1.,  ..., 1., 1., 1.]]]], device='cuda:0')"
      ]
     },
     "execution_count": 7,
     "metadata": {},
     "output_type": "execute_result"
    }
   ],
   "source": [
    "g._value"
   ]
  },
  {
   "cell_type": "code",
   "execution_count": 87,
   "metadata": {},
   "outputs": [
    {
     "name": "stderr",
     "output_type": "stream",
     "text": [
      "100%|██████████| 1000/1000 [00:48<00:00, 20.60it/s]\n",
      "100%|██████████| 1000/1000 [03:58<00:00,  4.19it/s]\n"
     ]
    },
    {
     "data": {
      "text/plain": [
       "{'paddleocr': 0.006, 'tesseract': 0.009, 'union': 0.009, 'readability': 0.092}"
      ]
     },
     "execution_count": 87,
     "metadata": {},
     "output_type": "execute_result"
    }
   ],
   "source": [
    "data = gen_babi(1, 1000, 'Answer:', '')\n",
    "for a, b in data:\n",
    "    add_word(a, vocab)\n",
    "    add_word(b, vocab)\n",
    "\n",
    "model.eval()\n",
    "model.cuda()\n",
    "generated = []\n",
    "for prompt, target in tqdm(data):\n",
    "    prompt = TGraph.from_text([prompt])\n",
    "    prompt = prompt._spacing_text(3)\n",
    "    prompt.set_device('cuda')\n",
    "    gen = model.autoregressive_generate(prompt, None, 4)\n",
    "    prompt.set_device('cpu')\n",
    "    gen.set_device('cpu')\n",
    "    generated.append((prompt, target, gen))\n",
    "evaluate_babi(generated, vocab)"
   ]
  },
  {
   "cell_type": "code",
   "execution_count": 88,
   "metadata": {},
   "outputs": [
    {
     "name": "stderr",
     "output_type": "stream",
     "text": [
      "100%|██████████| 1000/1000 [00:48<00:00, 20.61it/s]\n",
      "100%|██████████| 1000/1000 [03:54<00:00,  4.26it/s]\n"
     ]
    },
    {
     "data": {
      "text/plain": [
       "{'paddleocr': 0.06, 'tesseract': 0.073, 'union': 0.084, 'readability': 0.374}"
      ]
     },
     "execution_count": 88,
     "metadata": {},
     "output_type": "execute_result"
    }
   ],
   "source": [
    "data = gen_babi(1, 1000, '|', '')\n",
    "for a, b in data:\n",
    "    add_word(a, vocab)\n",
    "    add_word(b, vocab)\n",
    "\n",
    "model.eval()\n",
    "model.cuda()\n",
    "generated = []\n",
    "for prompt, target in tqdm(data):\n",
    "    prompt = TGraph.from_text([prompt])\n",
    "    prompt = prompt._spacing_text(3)\n",
    "    prompt.set_device('cuda')\n",
    "    gen = model.autoregressive_generate(prompt, None, 4)\n",
    "    prompt.set_device('cpu')\n",
    "    gen.set_device('cpu')\n",
    "    generated.append((prompt, target, gen))\n",
    "evaluate_babi(generated, vocab)"
   ]
  },
  {
   "cell_type": "code",
   "execution_count": 89,
   "metadata": {},
   "outputs": [
    {
     "name": "stderr",
     "output_type": "stream",
     "text": [
      "100%|██████████| 1000/1000 [00:48<00:00, 20.56it/s]\n",
      "100%|██████████| 1000/1000 [03:56<00:00,  4.22it/s]\n"
     ]
    },
    {
     "data": {
      "text/plain": [
       "{'paddleocr': 0.002, 'tesseract': 0.003, 'union': 0.003, 'readability': 0.17}"
      ]
     },
     "execution_count": 89,
     "metadata": {},
     "output_type": "execute_result"
    }
   ],
   "source": [
    "data = gen_babi(1, 1000, '', '')\n",
    "for a, b in data:\n",
    "    add_word(a, vocab)\n",
    "    add_word(b, vocab)\n",
    "\n",
    "model.eval()\n",
    "model.cuda()\n",
    "generated = []\n",
    "for prompt, target in tqdm(data):\n",
    "    prompt = TGraph.from_text([prompt])\n",
    "    prompt = prompt._spacing_text(3)\n",
    "    prompt.set_device('cuda')\n",
    "    gen = model.autoregressive_generate(prompt, None, 4)\n",
    "    prompt.set_device('cpu')\n",
    "    gen.set_device('cpu')\n",
    "    generated.append((prompt, target, gen))\n",
    "evaluate_babi(generated, vocab)"
   ]
  },
  {
   "cell_type": "code",
   "execution_count": null,
   "metadata": {},
   "outputs": [],
   "source": []
  }
 ],
 "metadata": {
  "kernelspec": {
   "display_name": "pt2hfpy310",
   "language": "python",
   "name": "python3"
  },
  "language_info": {
   "codemirror_mode": {
    "name": "ipython",
    "version": 3
   },
   "file_extension": ".py",
   "mimetype": "text/x-python",
   "name": "python",
   "nbconvert_exporter": "python",
   "pygments_lexer": "ipython3",
   "version": "3.10.13"
  }
 },
 "nbformat": 4,
 "nbformat_minor": 2
}
