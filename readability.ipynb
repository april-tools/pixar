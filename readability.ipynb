{
 "cells": [
  {
   "cell_type": "code",
   "execution_count": 1,
   "metadata": {},
   "outputs": [
    {
     "name": "stderr",
     "output_type": "stream",
     "text": [
      "/home/tai/data/miniconda3/envs/pixel/lib/python3.10/site-packages/transformers/deepspeed.py:23: FutureWarning: transformers.deepspeed module is deprecated and will be removed in a future version. Please import deepspeed modules directly from transformers.integrations\n",
      "  warnings.warn(\n"
     ]
    }
   ],
   "source": [
    "from datasets import load_dataset, load_from_disk\n",
    "import random\n",
    "from LatentPixel import TGraph\n",
    "from LatentPixel import LatentLlama, BIN_FONT\n",
    "import re\n",
    "import pandas as pd\n",
    "from tqdm import tqdm\n",
    "import logging\n",
    "import torch\n",
    "loggers = [logging.getLogger(name) for name in logging.root.manager.loggerDict]\n",
    "for logger in loggers:\n",
    "    logger.setLevel(logging.WARNING)"
   ]
  },
  {
   "cell_type": "code",
   "execution_count": 87,
   "metadata": {},
   "outputs": [
    {
     "data": {
      "text/plain": [
       "'Juan Gálvez (Buenos Aires, 14 February 1916 – 3 March 1963 in Olavarría) was an Argentine racing driver, and the brother of driver Oscar Alfredo Gálvez. They started racing together in Turismo Carretera but then took separate ways and competed in different cars. He made his debut in the Avellaneda Automobile Club 1000-Mile race on 14 February 1941 and finished second to Juan Manuel Fangio. His first win came on 22 February 1949 at the I Vuelta de Santa Fe. He won the Turismo Carretera championship nine times, in 1949, 1950, 1951, 1952, 1955, 1956, 1957, 1958 and 1961. His last victory was at the IV Vuelta de Laboulaye (1962) behind the wheel of a Ford. He was killed during an accident at Olavarría race in 1963. In 13 years of motorsport he competed in 153 races, winning more than 50 times. See also\\n\\nAutódromo Juan y Oscar Gálvez\\n\\nRacing drivers from Buenos Aires\\n1916 births\\n1963 deaths\\nRacing drivers killed while racing\\nArgentine racing drivers\\nTurismo Carretera drivers\\nSport deaths in Argentina\\nBurials at La Chacarita Cemetery'"
      ]
     },
     "execution_count": 87,
     "metadata": {},
     "output_type": "execute_result"
    }
   ],
   "source": [
    "data[292]['text']"
   ]
  },
  {
   "cell_type": "code",
   "execution_count": 2,
   "metadata": {},
   "outputs": [],
   "source": [
    "def randomSplit(sent: str) -> tuple[str, str, str]:\n",
    "    words = sent.split()\n",
    "    if len(words) == 0:\n",
    "        return '', '', ''\n",
    "    bint = min(50, len(words))\n",
    "    eint = min(120, len(words))\n",
    "    idx = random.randint(bint, eint) - 1\n",
    "    sent1 = ' '.join(words[:idx])\n",
    "    sent2 = ' '.join(words[idx:])\n",
    "    return sent1, sent2, words[idx]\n",
    "\n",
    "pat = re.compile('([a-zA-Z]+)')\n",
    "def add_word(words: str | list[str], corpus: set[str]):\n",
    "    global pat\n",
    "    if isinstance(words, str):\n",
    "        words = re.findall(pat, words)\n",
    "\n",
    "    for word in words:\n",
    "        corpus.add(str(word).lower())\n",
    "    return\n",
    "\n",
    "def evaluate_babi(generated: list, vocab: set) -> dict[str, float]:\n",
    "    pat = re.compile('^([a-zA-Z]*)')\n",
    "    correct_paddle = 0\n",
    "    correct_tess = 0\n",
    "    corrects = 0\n",
    "    n_readable = 0\n",
    "    readables = []\n",
    "    cor_samples = []\n",
    "    for idx in tqdm(range(len(generated))):\n",
    "        cor = False\n",
    "        readable = False\n",
    "        pro = generated[idx][0]\n",
    "        t: str = generated[idx][1]\n",
    "        t = t.replace('g', 'q')\n",
    "        g = generated[idx][2]\n",
    "        img: TGraph = g[pro._num_text_patches[0]-1:g._num_text_patches[0]-1]\n",
    "        text = img.ocr(method='paddleocr', square=False, span=True, span_ratio=1.3, scale=3)\n",
    "        raw = text[0].lower().split()\n",
    "        if len(raw) == 0:\n",
    "            raw = ''\n",
    "        else:\n",
    "            raw = raw[0]\n",
    "        m = pat.match(text[0])\n",
    "        if m is not None:\n",
    "            text = m.groups()[0]\n",
    "        else:\n",
    "            text = ''\n",
    "        if raw in vocab:\n",
    "            readable = True\n",
    "        text = text.replace('g', 'q')\n",
    "        if text == t:\n",
    "            correct_paddle += 1\n",
    "            cor = True\n",
    "        text = img.ocr(method='tesseract', square=False, span=True, span_ratio=1.3, scale=3)\n",
    "        raw = text[0].lower().split()\n",
    "        if len(raw) == 0:\n",
    "            raw = ''\n",
    "        else:\n",
    "            raw = raw[0]  \n",
    "        m = pat.match(text[0])\n",
    "        if m is not None:\n",
    "            text = m.groups()[0]\n",
    "        else:\n",
    "            text = ''\n",
    "        if raw in vocab:\n",
    "            readable = True\n",
    "        text = text.replace('g', 'q')\n",
    "        if text == t:\n",
    "            correct_tess += 1\n",
    "            cor = True\n",
    "        if cor:\n",
    "            corrects += 1\n",
    "            cor_samples.append(idx)\n",
    "        if readable:\n",
    "            n_readable += 1\n",
    "            readables.append(idx)\n",
    "    return {\n",
    "        'paddleocr': correct_paddle / len(generated),\n",
    "        'tesseract': correct_tess / len(generated),\n",
    "        'union': corrects / len(generated),\n",
    "        'readability': n_readable / len(generated),\n",
    "        'readables': readables,\n",
    "        'correct_samples': cor_samples\n",
    "    }\n",
    "\n"
   ]
  },
  {
   "cell_type": "markdown",
   "metadata": {},
   "source": [
    "## Init model and render"
   ]
  },
  {
   "cell_type": "code",
   "execution_count": 10,
   "metadata": {},
   "outputs": [
    {
     "name": "stdout",
     "output_type": "stream",
     "text": [
      "Coder path is none, do not load compressor for this model\n"
     ]
    },
    {
     "name": "stderr",
     "output_type": "stream",
     "text": [
      "Some weights of LlamaForPatchCausalInference were not initialized from the model checkpoint at storage/llama_2_backbone/ and are newly initialized: ['embed_tokens.weight']\n",
      "You should probably TRAIN this model on a down-stream task to be able to use it for predictions and inference.\n"
     ]
    }
   ],
   "source": [
    "'''\n",
    "Yintao's devbox environment\n",
    "'''\n",
    "_ =TGraph.init_render(\n",
    "    dpi=80,\n",
    "    font_file=BIN_FONT,\n",
    "    font_size=8,\n",
    "    pixels_per_patch=8,\n",
    "    rgb=False,\n",
    "    binary=True,\n",
    "    max_seq_length=800,\n",
    "    patch_len=2\n",
    ")\n",
    "model = LatentLlama(\n",
    "    backbone_path='storage/llama_2_backbone/',\n",
    "    num_channels=1,\n",
    "    patch_len=2,\n",
    "    patch_size=8,\n",
    "    binary=True\n",
    ")"
   ]
  },
  {
   "cell_type": "code",
   "execution_count": 11,
   "metadata": {},
   "outputs": [
    {
     "name": "stdout",
     "output_type": "stream",
     "text": [
      "Coder path is none, do not load compressor for this model\n"
     ]
    },
    {
     "name": "stderr",
     "output_type": "stream",
     "text": [
      "Some weights of LlamaForPatchCausalInference were not initialized from the model checkpoint at storage/checkpoints/1MModels/dllama_2_b/backbone and are newly initialized: ['embed_tokens.weight']\n",
      "You should probably TRAIN this model on a down-stream task to be able to use it for predictions and inference.\n"
     ]
    }
   ],
   "source": [
    "model = LatentLlama(\n",
    "    backbone_path='storage/checkpoints/1MModels/dllama_2_b/backbone',\n",
    "    num_channels=1,\n",
    "    patch_len=2,\n",
    "    patch_size=8,\n",
    "    binary=True\n",
    ")"
   ]
  },
  {
   "cell_type": "markdown",
   "metadata": {},
   "source": [
    "## Load the pretraining dataset"
   ]
  },
  {
   "cell_type": "code",
   "execution_count": 4,
   "metadata": {},
   "outputs": [],
   "source": [
    "data = load_from_disk('storage/booksAndWiki2/data/')"
   ]
  },
  {
   "cell_type": "code",
   "execution_count": 5,
   "metadata": {},
   "outputs": [],
   "source": [
    "samples = []\n",
    "for i in range(500):\n",
    "    prompt, _, target = randomSplit(data[i]['text'])\n",
    "    samples.append((prompt, target))"
   ]
  },
  {
   "cell_type": "code",
   "execution_count": 6,
   "metadata": {},
   "outputs": [
    {
     "data": {
      "text/plain": [
       "('While the variance at FVIII:C = 0.09 IU/ml is similar between both methods (CV = 7-8%), better precision is found at FVIII:C = 0.01 IU/ml in the investigated method (CV = 5-8% versus 14% in the reference method). At higher concentrations of the other clotting factors, firm clots are formed within uniform clotting times; given the higher response of the calibration curve, uniformity is further enhanced upon converting APTTs to FVIII:Cs. The method comparison reveals that compositional similarity between calibrators and low FVIII:C samples is crucial at lower dilutions, hence falsely elevated FVIII:Cs are found when using calibration standards',\n",
       " 'based')"
      ]
     },
     "execution_count": 6,
     "metadata": {},
     "output_type": "execute_result"
    }
   ],
   "source": [
    "samples[0]"
   ]
  },
  {
   "cell_type": "markdown",
   "metadata": {},
   "source": [
    "## Generate vocabulary"
   ]
  },
  {
   "cell_type": "code",
   "execution_count": 7,
   "metadata": {},
   "outputs": [],
   "source": [
    "corpo = pd.read_csv('storage/unigram_freq.csv')\n",
    "vocab = set()\n",
    "add_word(corpo.word.tolist()[:10000], vocab)"
   ]
  },
  {
   "cell_type": "code",
   "execution_count": 8,
   "metadata": {},
   "outputs": [
    {
     "data": {
      "text/plain": [
       "10000"
      ]
     },
     "execution_count": 8,
     "metadata": {},
     "output_type": "execute_result"
    }
   ],
   "source": [
    "len(vocab)"
   ]
  },
  {
   "cell_type": "markdown",
   "metadata": {},
   "source": [
    "## Run model to generate"
   ]
  },
  {
   "cell_type": "code",
   "execution_count": 12,
   "metadata": {},
   "outputs": [
    {
     "name": "stderr",
     "output_type": "stream",
     "text": [
      "100%|██████████| 500/500 [00:21<00:00, 23.56it/s]\n"
     ]
    }
   ],
   "source": [
    "model.eval()\n",
    "model.cuda()\n",
    "generated = []\n",
    "with torch.no_grad():\n",
    "    for prompt, target in tqdm(samples):\n",
    "        prompt = TGraph.from_text([prompt])\n",
    "        prompt = prompt._spacing_text(3)\n",
    "        prompt.set_device('cuda')\n",
    "        gen = model.autoregressive_generate(prompt, None, 4, binary_method='gray_scale', temperature=1.0)\n",
    "        prompt.set_device('cpu')\n",
    "        gen.set_device('cpu')\n",
    "        generated.append((prompt, target, gen))"
   ]
  },
  {
   "cell_type": "code",
   "execution_count": 13,
   "metadata": {},
   "outputs": [
    {
     "name": "stderr",
     "output_type": "stream",
     "text": [
      "100%|██████████| 500/500 [00:19<00:00, 25.52it/s]\n"
     ]
    }
   ],
   "source": [
    "model.eval()\n",
    "model.cuda()\n",
    "generated2 = []\n",
    "with torch.no_grad():\n",
    "    for prompt, target in tqdm(samples):\n",
    "        prompt = TGraph.from_text([prompt])\n",
    "        prompt = prompt._spacing_text(3)\n",
    "        prompt.set_device('cuda')\n",
    "        gen = model.autoregressive_generate(prompt, None, 4, binary_method='gray_scale', temperature=0.1)\n",
    "        prompt.set_device('cpu')\n",
    "        gen.set_device('cpu')\n",
    "        generated2.append((prompt, target, gen))"
   ]
  },
  {
   "cell_type": "code",
   "execution_count": 21,
   "metadata": {},
   "outputs": [
    {
     "name": "stderr",
     "output_type": "stream",
     "text": [
      "100%|██████████| 500/500 [00:19<00:00, 25.34it/s]\n"
     ]
    }
   ],
   "source": [
    "model.eval()\n",
    "model.cuda()\n",
    "generated1 = []\n",
    "with torch.no_grad():\n",
    "    for prompt, target in tqdm(samples):\n",
    "        prompt = TGraph.from_text([prompt])\n",
    "        prompt = prompt._spacing_text(3)\n",
    "        prompt.set_device('cuda')\n",
    "        gen = model.autoregressive_generate(prompt, None, 4, binary_method='gray_scale', temperature=0.3)\n",
    "        prompt.set_device('cpu')\n",
    "        gen.set_device('cpu')\n",
    "        generated1.append((prompt, target, gen))"
   ]
  },
  {
   "cell_type": "code",
   "execution_count": 14,
   "metadata": {},
   "outputs": [
    {
     "name": "stderr",
     "output_type": "stream",
     "text": [
      "100%|██████████| 500/500 [00:19<00:00, 25.42it/s]\n"
     ]
    }
   ],
   "source": [
    "model.eval()\n",
    "model.cuda()\n",
    "generated3 = []\n",
    "with torch.no_grad():\n",
    "    for prompt, target in tqdm(samples):\n",
    "        prompt = TGraph.from_text([prompt])\n",
    "        prompt = prompt._spacing_text(3)\n",
    "        prompt.set_device('cuda')\n",
    "        gen = model.autoregressive_generate(prompt, None, 4, binary_method='gray_scale', temperature=10.0)\n",
    "        prompt.set_device('cpu')\n",
    "        gen.set_device('cpu')\n",
    "        generated3.append((prompt, target, gen))"
   ]
  },
  {
   "cell_type": "markdown",
   "metadata": {},
   "source": [
    "## Save Image Samples"
   ]
  },
  {
   "cell_type": "code",
   "execution_count": 32,
   "metadata": {},
   "outputs": [],
   "source": [
    "for idx, (p, t, g) in enumerate(generated):\n",
    "    p: TGraph\n",
    "    g: TGraph\n",
    "    folder = f'pretrain_samples/{idx}_target_{t}'\n",
    "    p.to_file(f'{folder}/prompt')\n",
    "    g.to_file(f'{folder}/gen_thresholding_0_5')"
   ]
  },
  {
   "cell_type": "code",
   "execution_count": 39,
   "metadata": {},
   "outputs": [],
   "source": [
    "for idx, (p, t, g) in enumerate(generated):\n",
    "    p: TGraph\n",
    "    g: TGraph\n",
    "    folder = f'pretrain_samples/{idx}_target_{t}'\n",
    "    g.to_file(f'{folder}/gen_gray_temp_1_0', binary_method='gray_scale')"
   ]
  },
  {
   "cell_type": "code",
   "execution_count": 36,
   "metadata": {},
   "outputs": [],
   "source": [
    "for idx, (p, t, g) in enumerate(generated1):\n",
    "    p: TGraph\n",
    "    g: TGraph\n",
    "    folder = f'pretrain_samples/{idx}_target_{t}'\n",
    "    g.to_file(f'{folder}/gen_gray_temp_0_3', binary_method='gray_scale')"
   ]
  },
  {
   "cell_type": "code",
   "execution_count": 37,
   "metadata": {},
   "outputs": [],
   "source": [
    "for idx, (p, t, g) in enumerate(generated2):\n",
    "    p: TGraph\n",
    "    g: TGraph\n",
    "    folder = f'pretrain_samples/{idx}_target_{t}'\n",
    "    g.to_file(f'{folder}/gen_gray_temp_0_1', binary_method='gray_scale')"
   ]
  },
  {
   "cell_type": "code",
   "execution_count": 38,
   "metadata": {},
   "outputs": [],
   "source": [
    "for idx, (p, t, g) in enumerate(generated3):\n",
    "    p: TGraph\n",
    "    g: TGraph\n",
    "    folder = f'pretrain_samples/{idx}_target_{t}'\n",
    "    g.to_file(f'{folder}/gen_gray_temp_10_0', binary_method='gray_scale')"
   ]
  },
  {
   "cell_type": "markdown",
   "metadata": {},
   "source": [
    "## Plot the statistics of generated patches"
   ]
  },
  {
   "cell_type": "code",
   "execution_count": 53,
   "metadata": {},
   "outputs": [],
   "source": [
    "dists = {}"
   ]
  },
  {
   "cell_type": "code",
   "execution_count": 71,
   "metadata": {},
   "outputs": [],
   "source": [
    "values = []\n",
    "for p, t, g in generated:\n",
    "    patch = g[p._num_text_patches[0]-1:p._num_text_patches[0]]\n",
    "    patch: TGraph\n",
    "    values.append(patch._value.flatten())\n",
    "values = torch.concat(values).flatten().numpy()\n",
    "dists['temp=1.0'] = values\n",
    "\n",
    "values = []\n",
    "for p, t, g in generated1:\n",
    "    patch = g[p._num_text_patches[0]-1:p._num_text_patches[0]]\n",
    "    patch: TGraph\n",
    "    values.append(patch._value.flatten())\n",
    "values = torch.concat(values).flatten().numpy()\n",
    "dists['temp=0.3'] = values\n",
    "\n",
    "\n",
    "values = []\n",
    "for p, t, g in generated2:\n",
    "    patch = g[p._num_text_patches[0]-1:p._num_text_patches[0]]\n",
    "    patch: TGraph\n",
    "    values.append(patch._value.flatten())\n",
    "values = torch.concat(values).flatten().numpy()\n",
    "dists['temp=0.1'] = values\n",
    "\n",
    "\n",
    "values = []\n",
    "for p, t, g in generated3:\n",
    "    patch = g[p._num_text_patches[0]-1:p._num_text_patches[0]]\n",
    "    patch: TGraph\n",
    "    values.append(patch._value.flatten())\n",
    "values = torch.concat(values).flatten().numpy()\n",
    "dists['temp=10.0'] = values\n",
    "\n",
    "values = []\n",
    "for p, t, g in generated:\n",
    "    patch = g[p._num_text_patches[0]-1:p._num_text_patches[0]]\n",
    "    patch.binary()\n",
    "    patch: TGraph\n",
    "    values.append(patch._value.flatten())\n",
    "values = torch.concat(values).flatten().numpy()\n",
    "dists['binary th=0.5'] = values\n",
    "\n",
    "values = []\n",
    "for p, t, g in generated3:\n",
    "    patch = p[10:11]\n",
    "    patch: TGraph\n",
    "    values.append(patch._value.flatten())\n",
    "values = torch.concat(values).flatten().numpy()\n",
    "dists['gold'] = values\n",
    "\n"
   ]
  },
  {
   "cell_type": "code",
   "execution_count": 72,
   "metadata": {},
   "outputs": [
    {
     "data": {
      "text/plain": [
       "64000"
      ]
     },
     "execution_count": 72,
     "metadata": {},
     "output_type": "execute_result"
    }
   ],
   "source": [
    "len(values)"
   ]
  },
  {
   "cell_type": "code",
   "execution_count": 84,
   "metadata": {},
   "outputs": [
    {
     "data": {
      "image/png": "[encoded data removed]",
      "text/plain": [
       "<Figure size 640x480 with 6 Axes>"
      ]
     },
     "metadata": {},
     "output_type": "display_data"
    }
   ],
   "source": [
    "import matplotlib.pyplot as plt\n",
    "plt.style.use('ggplot')\n",
    "\n",
    "fig, axs = plt.subplots(3, 2, sharey=True, tight_layout=True)\n",
    "n_bins = 10\n",
    "\n",
    "# We can set the number of bins with the *bins* keyword argument.\n",
    "axs[0][0].hist(dists['temp=0.1'], bins=n_bins)\n",
    "axs[0][0].title.set_text('temp=0.1')\n",
    "\n",
    "axs[1][0].hist(dists['temp=0.3'], bins=n_bins)\n",
    "axs[1][0].title.set_text('temp=0.3')\n",
    "\n",
    "axs[2][0].hist(dists['temp=1.0'], bins=n_bins)\n",
    "axs[2][0].title.set_text('temp=1.0')\n",
    "\n",
    "axs[0][1].hist(dists['temp=10.0'], bins=n_bins)\n",
    "axs[0][1].title.set_text('temp=10.0')\n",
    "\n",
    "axs[1][1].hist(dists['binary th=0.5'], bins=n_bins)\n",
    "axs[1][1].title.set_text('binary th=0.5')\n",
    "\n",
    "axs[2][1].hist(dists['gold'], bins=n_bins)\n",
    "axs[2][1].title.set_text('gold')\n",
    "\n",
    "plt.show()"
   ]
  },
  {
   "cell_type": "code",
   "execution_count": 81,
   "metadata": {},
   "outputs": [
    {
     "data": {
      "image/jpeg": "[encoded data removed]",
      "image/png": "[encoded data removed]",
      "text/plain": [
       "<PIL.Image.Image image mode=L size=256x200>"
      ]
     },
     "execution_count": 81,
     "metadata": {},
     "output_type": "execute_result"
    }
   ],
   "source": [
    "p.to_PIL()[0]"
   ]
  },
  {
   "cell_type": "code",
   "execution_count": 45,
   "metadata": {},
   "outputs": [
    {
     "data": {
      "image/jpeg": "[encoded data removed]",
      "image/png": "[encoded data removed]",
      "text/plain": [
       "<PIL.Image.Image image mode=L size=256x200>"
      ]
     },
     "execution_count": 45,
     "metadata": {},
     "output_type": "execute_result"
    }
   ],
   "source": [
    "g.to_PIL()[0]"
   ]
  },
  {
   "cell_type": "markdown",
   "metadata": {},
   "source": [
    "## Evaluate Readability"
   ]
  },
  {
   "cell_type": "markdown",
   "metadata": {},
   "source": [
    "### 1. Results of 0.1M Checkpoint"
   ]
  },
  {
   "cell_type": "code",
   "execution_count": 10,
   "metadata": {},
   "outputs": [
    {
     "name": "stderr",
     "output_type": "stream",
     "text": [
      "100%|██████████| 1000/1000 [03:58<00:00,  4.19it/s]"
     ]
    },
    {
     "name": "stdout",
     "output_type": "stream",
     "text": [
      "{'paddleocr': 0.103, 'tesseract': 0.117, 'union': 0.131, 'readability': 0.366, 'readables': [1, 5, 16, 22, 23, 24, 29, 31, 32, 36, 37, 39, 42, 43, 45, 46, 47, 58, 59, 65, 68, 69, 71, 72, 74, 78, 79, 81, 84, 87, 89, 93, 96, 99, 102, 106, 108, 113, 116, 120, 121, 125, 127, 128, 130, 132, 135, 137, 141, 145, 147, 148, 149, 151, 152, 153, 156, 160, 161, 164, 167, 168, 169, 172, 173, 175, 176, 178, 185, 188, 191, 193, 196, 198, 199, 200, 203, 204, 205, 206, 209, 214, 215, 218, 219, 222, 223, 228, 230, 231, 232, 234, 235, 236, 239, 242, 244, 247, 251, 252, 253, 256, 260, 261, 266, 267, 268, 275, 278, 280, 281, 283, 286, 290, 292, 294, 295, 300, 302, 306, 307, 309, 310, 311, 313, 314, 316, 318, 319, 323, 328, 332, 334, 339, 340, 344, 348, 349, 352, 353, 354, 358, 360, 361, 362, 372, 376, 379, 380, 382, 383, 384, 385, 388, 389, 390, 396, 398, 399, 400, 412, 413, 414, 416, 417, 419, 423, 424, 426, 427, 431, 438, 439, 444, 448, 451, 453, 454, 456, 458, 462, 464, 471, 479, 481, 484, 487, 488, 494, 495, 510, 511, 516, 518, 525, 526, 528, 530, 532, 535, 538, 542, 543, 555, 556, 566, 571, 576, 577, 581, 583, 585, 586, 590, 595, 604, 605, 610, 611, 612, 617, 621, 622, 623, 626, 627, 632, 633, 635, 636, 639, 640, 644, 646, 648, 649, 651, 652, 653, 657, 662, 663, 664, 669, 672, 673, 674, 682, 683, 684, 685, 686, 689, 692, 694, 695, 698, 703, 704, 706, 708, 709, 710, 713, 714, 715, 716, 724, 728, 733, 737, 739, 741, 742, 748, 749, 751, 752, 753, 754, 758, 760, 766, 767, 769, 770, 771, 773, 775, 776, 777, 779, 784, 787, 791, 793, 796, 797, 801, 804, 805, 807, 808, 811, 813, 814, 815, 817, 819, 820, 823, 826, 827, 834, 836, 848, 854, 859, 860, 862, 869, 871, 873, 874, 875, 879, 885, 886, 889, 891, 895, 896, 897, 902, 905, 907, 908, 909, 914, 915, 918, 925, 926, 931, 934, 941, 944, 948, 955, 957, 962, 963, 964, 967, 971, 974, 979, 982, 986, 989, 990, 992, 994, 995, 996, 997], 'correct_samples': [5, 37, 45, 59, 69, 72, 73, 74, 81, 107, 127, 128, 130, 135, 160, 168, 175, 178, 185, 188, 196, 199, 209, 214, 222, 231, 236, 252, 256, 260, 261, 267, 278, 280, 283, 302, 311, 312, 318, 320, 323, 332, 339, 340, 354, 372, 378, 384, 389, 396, 399, 416, 438, 444, 448, 453, 454, 481, 485, 487, 511, 512, 517, 528, 532, 555, 566, 590, 605, 611, 612, 622, 623, 626, 635, 639, 640, 648, 649, 652, 657, 663, 669, 672, 673, 686, 689, 703, 714, 715, 724, 737, 739, 741, 748, 758, 769, 770, 774, 776, 777, 779, 796, 814, 830, 834, 835, 850, 859, 861, 862, 871, 873, 879, 889, 895, 896, 897, 902, 915, 918, 934, 955, 964, 968, 970, 971, 982, 986, 989, 995]}\n"
     ]
    },
    {
     "name": "stderr",
     "output_type": "stream",
     "text": [
      "\n"
     ]
    }
   ],
   "source": [
    "result = evaluate_babi(generated, vocab)\n",
    "print(result)"
   ]
  },
  {
   "cell_type": "markdown",
   "metadata": {},
   "source": [
    "### 2. Results of 1M Checkpoint"
   ]
  },
  {
   "cell_type": "code",
   "execution_count": 14,
   "metadata": {},
   "outputs": [
    {
     "name": "stderr",
     "output_type": "stream",
     "text": [
      "100%|██████████| 1000/1000 [03:59<00:00,  4.18it/s]"
     ]
    },
    {
     "name": "stdout",
     "output_type": "stream",
     "text": [
      "{'paddleocr': 0.158, 'tesseract': 0.168, 'union': 0.181, 'readability': 0.397, 'readables': [0, 4, 5, 8, 9, 12, 16, 19, 22, 23, 26, 29, 31, 33, 34, 43, 45, 48, 50, 52, 54, 57, 58, 59, 60, 61, 63, 65, 68, 69, 71, 72, 74, 76, 79, 81, 84, 93, 94, 95, 100, 108, 112, 113, 116, 122, 127, 128, 132, 134, 135, 136, 137, 138, 147, 149, 151, 152, 157, 160, 161, 164, 168, 169, 173, 175, 176, 178, 181, 182, 185, 186, 188, 190, 191, 194, 195, 196, 197, 202, 204, 208, 209, 210, 214, 215, 216, 219, 222, 229, 231, 233, 234, 235, 236, 243, 247, 251, 252, 256, 257, 260, 261, 266, 267, 269, 271, 273, 274, 276, 277, 278, 280, 282, 285, 286, 291, 293, 297, 298, 299, 301, 302, 304, 310, 311, 313, 314, 315, 316, 318, 319, 320, 322, 323, 325, 326, 328, 330, 331, 334, 339, 340, 343, 344, 345, 346, 349, 350, 352, 353, 355, 358, 359, 360, 363, 369, 372, 375, 379, 382, 387, 388, 389, 390, 394, 396, 397, 399, 403, 407, 410, 412, 413, 415, 416, 420, 422, 423, 424, 426, 427, 428, 431, 433, 434, 438, 439, 440, 441, 442, 443, 444, 447, 448, 449, 450, 453, 454, 456, 458, 461, 464, 465, 468, 477, 478, 479, 481, 487, 488, 490, 491, 494, 495, 500, 502, 503, 507, 511, 516, 517, 519, 525, 526, 528, 530, 531, 532, 534, 535, 539, 542, 545, 551, 555, 556, 557, 561, 564, 566, 567, 571, 573, 574, 578, 580, 583, 585, 587, 590, 595, 604, 605, 609, 610, 611, 615, 617, 618, 621, 622, 623, 626, 634, 635, 638, 639, 640, 644, 645, 648, 649, 651, 652, 653, 654, 657, 662, 663, 664, 667, 671, 672, 673, 674, 676, 684, 686, 688, 689, 690, 691, 692, 693, 695, 699, 701, 702, 708, 710, 714, 716, 720, 723, 724, 726, 729, 739, 741, 745, 747, 748, 749, 754, 756, 757, 758, 761, 762, 763, 765, 767, 769, 770, 776, 778, 779, 790, 791, 792, 793, 796, 797, 803, 804, 805, 809, 813, 814, 815, 820, 823, 829, 834, 836, 843, 848, 851, 853, 859, 860, 862, 871, 873, 875, 879, 880, 886, 889, 893, 895, 896, 901, 902, 905, 907, 913, 915, 916, 922, 923, 924, 931, 932, 933, 934, 943, 955, 958, 959, 960, 962, 963, 964, 967, 971, 978, 982, 983, 986, 988, 989, 991, 992, 995, 997], 'correct_samples': [5, 12, 22, 44, 45, 50, 52, 54, 59, 69, 72, 74, 84, 94, 107, 112, 127, 128, 135, 137, 151, 157, 160, 168, 175, 176, 178, 182, 188, 195, 196, 201, 208, 209, 214, 215, 216, 222, 231, 233, 234, 252, 256, 257, 260, 261, 267, 273, 278, 280, 289, 296, 297, 302, 311, 312, 318, 320, 323, 339, 340, 344, 355, 359, 372, 378, 388, 389, 396, 399, 407, 412, 415, 416, 438, 444, 447, 448, 449, 453, 454, 456, 479, 481, 487, 491, 511, 512, 517, 525, 528, 531, 555, 566, 572, 589, 590, 604, 605, 611, 618, 622, 626, 635, 638, 639, 640, 641, 648, 649, 652, 657, 663, 669, 672, 673, 674, 675, 686, 688, 689, 690, 693, 695, 702, 713, 714, 724, 739, 741, 745, 748, 753, 755, 758, 762, 769, 770, 774, 776, 779, 790, 796, 797, 809, 814, 818, 830, 834, 835, 850, 853, 859, 861, 862, 863, 871, 873, 879, 882, 889, 894, 895, 896, 915, 916, 923, 932, 933, 934, 955, 958, 962, 964, 968, 971, 982, 986, 988, 989, 995]}\n"
     ]
    },
    {
     "name": "stderr",
     "output_type": "stream",
     "text": [
      "\n"
     ]
    }
   ],
   "source": [
    "result = evaluate_babi(generated, vocab)\n",
    "print(result)"
   ]
  },
  {
   "cell_type": "markdown",
   "metadata": {},
   "source": [
    "### 3. Resultsof 1M checkpoint with 0.1 temperature"
   ]
  },
  {
   "cell_type": "code",
   "execution_count": null,
   "metadata": {},
   "outputs": [],
   "source": [
    "### 4. Results of 1M checkpoint with 10 temperature"
   ]
  },
  {
   "cell_type": "code",
   "execution_count": 119,
   "metadata": {},
   "outputs": [
    {
     "name": "stdout",
     "output_type": "stream",
     "text": [
      "School\n"
     ]
    },
    {
     "data": {
      "image/jpeg": "[encoded data removed]",
      "image/png": "[encoded data removed]",
      "text/plain": [
       "<PIL.Image.Image image mode=L size=256x200>"
      ]
     },
     "execution_count": 119,
     "metadata": {},
     "output_type": "execute_result"
    }
   ],
   "source": [
    "idx = 22\n",
    "print(generated[idx][1])\n",
    "generated[idx][2].to_PIL()[0]"
   ]
  },
  {
   "cell_type": "code",
   "execution_count": 120,
   "metadata": {},
   "outputs": [
    {
     "data": {
      "image/jpeg": "[encoded data removed]",
      "image/png": "[encoded data removed]",
      "text/plain": [
       "<PIL.Image.Image image mode=L size=256x200>"
      ]
     },
     "execution_count": 120,
     "metadata": {},
     "output_type": "execute_result"
    }
   ],
   "source": [
    "generated[idx][0].to_PIL()[0]"
   ]
  },
  {
   "cell_type": "code",
   "execution_count": 125,
   "metadata": {},
   "outputs": [],
   "source": [
    "pro = generated[idx][0]\n",
    "t: str = generated[idx][1]\n",
    "t = t.replace('g', 'q')\n",
    "g = generated[idx][2]\n",
    "img: TGraph = g[pro._num_text_patches[0]-1:g._num_text_patches[0]-1]\n",
    "text = img.ocr(method='paddleocr', square=False, span=True, span_ratio=1.3, scale=3)"
   ]
  },
  {
   "cell_type": "code",
   "execution_count": 126,
   "metadata": {},
   "outputs": [
    {
     "data": {
      "text/plain": [
       "['Co']"
      ]
     },
     "execution_count": 126,
     "metadata": {},
     "output_type": "execute_result"
    }
   ],
   "source": [
    "text"
   ]
  },
  {
   "cell_type": "code",
   "execution_count": 127,
   "metadata": {},
   "outputs": [
    {
     "data": {
      "text/plain": [
       "True"
      ]
     },
     "execution_count": 127,
     "metadata": {},
     "output_type": "execute_result"
    }
   ],
   "source": [
    "'co' in vocab"
   ]
  },
  {
   "cell_type": "code",
   "execution_count": 15,
   "metadata": {},
   "outputs": [
    {
     "data": {
      "text/plain": [
       "1000"
      ]
     },
     "execution_count": 15,
     "metadata": {},
     "output_type": "execute_result"
    }
   ],
   "source": [
    "len(generated)"
   ]
  },
  {
   "cell_type": "code",
   "execution_count": 20,
   "metadata": {},
   "outputs": [
    {
     "data": {
      "image/jpeg": "[encoded data removed]",
      "image/png": "[encoded data removed]",
      "text/plain": [
       "<PIL.Image.Image image mode=L size=256x200>"
      ]
     },
     "execution_count": 20,
     "metadata": {},
     "output_type": "execute_result"
    }
   ],
   "source": [
    "generated[0][2].to_PIL(binary_method='gray_scale')[0]"
   ]
  },
  {
   "cell_type": "code",
   "execution_count": 18,
   "metadata": {},
   "outputs": [
    {
     "data": {
      "text/plain": [
       "tensor([[[[1, 1, 1,  ..., 1, 1, 1],\n",
       "          [1, 1, 1,  ..., 1, 1, 1],\n",
       "          [1, 1, 1,  ..., 1, 1, 1],\n",
       "          ...,\n",
       "          [1, 1, 1,  ..., 1, 1, 1],\n",
       "          [1, 1, 1,  ..., 1, 1, 1],\n",
       "          [1, 1, 1,  ..., 1, 1, 1]]]], device='cuda:0')"
      ]
     },
     "execution_count": 18,
     "metadata": {},
     "output_type": "execute_result"
    }
   ],
   "source": [
    "g.to"
   ]
  },
  {
   "cell_type": "code",
   "execution_count": null,
   "metadata": {},
   "outputs": [],
   "source": []
  }
 ],
 "metadata": {
  "kernelspec": {
   "display_name": "pt2hfpy310",
   "language": "python",
   "name": "python3"
  },
  "language_info": {
   "codemirror_mode": {
    "name": "ipython",
    "version": 3
   },
   "file_extension": ".py",
   "mimetype": "text/x-python",
   "name": "python",
   "nbconvert_exporter": "python",
   "pygments_lexer": "ipython3",
   "version": "3.10.13"
  }
 },
 "nbformat": 4,
 "nbformat_minor": 2
}
